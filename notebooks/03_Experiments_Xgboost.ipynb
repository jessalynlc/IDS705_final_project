{
 "cells": [
  {
   "cell_type": "markdown",
   "metadata": {},
   "source": [
    "# XGBoost Model\n",
    "\n",
    "This file aims to train and test an XGBoost model on the data."
   ]
  },
  {
   "cell_type": "code",
   "execution_count": 15,
   "metadata": {},
   "outputs": [],
   "source": [
    "import pandas as pd\n",
    "from sklearn.preprocessing import StandardScaler\n",
    "import xgboost as xgb\n",
    "from sklearn.model_selection import GridSearchCV\n",
    "from sklearn.metrics import mean_squared_error\n",
    "from sklearn.model_selection import train_test_split\n",
    "from sklearn.model_selection import ParameterGrid"
   ]
  },
  {
   "cell_type": "markdown",
   "metadata": {},
   "source": [
    "# Preparing the data"
   ]
  },
  {
   "cell_type": "code",
   "execution_count": 16,
   "metadata": {},
   "outputs": [],
   "source": [
    "df = pd.read_csv('all_hourly_data.csv')"
   ]
  },
  {
   "cell_type": "code",
   "execution_count": 17,
   "metadata": {},
   "outputs": [
    {
     "name": "stdout",
     "output_type": "stream",
     "text": [
      "(63689, 25)\n"
     ]
    }
   ],
   "source": [
    "print(df.shape)\n",
    "df = df.drop(['date'], axis=1) #we're adding dummies later for this"
   ]
  },
  {
   "cell_type": "markdown",
   "metadata": {},
   "source": [
    "Let's generate lags for\n",
    "\n",
    "- The previous 24 hours (i.e., lags 1 to 24),\n",
    "- The same hour 2 and 3 days ago (lags 48 and 72),\n",
    "- The same hour 1 week ago (lag 168),\n",
    "\n",
    "Let's also generate hourly, 2-3 days, and weekly dummies."
   ]
  },
  {
   "cell_type": "code",
   "execution_count": 18,
   "metadata": {},
   "outputs": [],
   "source": [
    "#handle the time column\n",
    "df['interval_start_local'] = pd.to_datetime(df['interval_start_local'], utc=True)\n",
    "df = df.set_index('interval_start_local')\n",
    "\n",
    "#lagging \n",
    "cols_to_lag = df.columns\n",
    "lags = list(range(1, 25)) + [48, 72, 168]\n",
    "\n",
    "lagged_frames = []\n",
    "for lag in lags:\n",
    "    lagged = df[cols_to_lag].shift(lag)\n",
    "    lagged.columns = [f\"{col}_lag{lag}\" for col in cols_to_lag]\n",
    "    lagged_frames.append(lagged)\n",
    "\n",
    "lagged_df = pd.concat(lagged_frames, axis=1)\n",
    "df_with_lags = pd.concat([df, lagged_df], axis=1).reset_index()\n",
    "df_with_lags = df_with_lags.copy()\n",
    "\n",
    "#Lose the first 168 observations because our largest lag is 1 week long\n",
    "df_with_lags = df_with_lags.iloc[168:].reset_index(drop=True)\n"
   ]
  },
  {
   "cell_type": "code",
   "execution_count": 19,
   "metadata": {},
   "outputs": [
    {
     "name": "stdout",
     "output_type": "stream",
     "text": [
      "       interval_start_local  north_x_load  south_load  west_x_load  \\\n",
      "0 2018-01-08 06:00:00+00:00      11292.28     7720.14      3626.51   \n",
      "1 2018-01-08 07:00:00+00:00      11134.52     7540.80      3615.65   \n",
      "2 2018-01-08 08:00:00+00:00      11183.56     7529.38      3624.71   \n",
      "3 2018-01-08 09:00:00+00:00      11497.37     7687.16      3678.35   \n",
      "4 2018-01-08 10:00:00+00:00      12203.96     8053.77      3761.58   \n",
      "\n",
      "   houston_load  total_load  lmp_HB_BUSAVG  coal_and_lignite      hydro  \\\n",
      "0       8181.37    30820.31      18.535000       9942.516942  39.045263   \n",
      "1       7980.93    30271.90      18.107500      10059.864300  15.672631   \n",
      "2       7866.77    30204.42      18.019167       9912.115128  14.312730   \n",
      "3       7874.74    30737.62      18.026667       9731.137220  14.721392   \n",
      "4       8095.04    32114.36      18.192500       9950.836098  15.266061   \n",
      "\n",
      "       nuclear  ...  hour_21  hour_22  hour_23  dow_0  dow_1  dow_2  dow_3  \\\n",
      "0  5123.325668  ...        0        0        0      1      0      0      0   \n",
      "1  5120.679174  ...        0        0        0      1      0      0      0   \n",
      "2  5120.450091  ...        0        0        0      1      0      0      0   \n",
      "3  5119.421699  ...        0        0        0      1      0      0      0   \n",
      "4  5120.852570  ...        0        0        0      1      0      0      0   \n",
      "\n",
      "   dow_4  dow_5  dow_6  \n",
      "0      0      0      0  \n",
      "1      0      0      0  \n",
      "2      0      0      0  \n",
      "3      0      0      0  \n",
      "4      0      0      0  \n",
      "\n",
      "[5 rows x 675 columns]\n"
     ]
    }
   ],
   "source": [
    "df_with_lags['hour'] = pd.to_datetime(df_with_lags['interval_start_local']).dt.hour\n",
    "df_with_lags['dayofweek'] = pd.to_datetime(df_with_lags['interval_start_local']).dt.dayofweek\n",
    "\n",
    "#one-hot encode dummies\n",
    "hour_dummies = pd.get_dummies(df_with_lags['hour'], prefix='hour')\n",
    "dow_dummies = pd.get_dummies(df_with_lags['dayofweek'], prefix='dow')\n",
    "hour_dummies = hour_dummies.astype(int)\n",
    "dow_dummies = dow_dummies.astype(int)\n",
    "\n",
    "#merge\n",
    "df = pd.concat([df_with_lags, hour_dummies, dow_dummies], axis=1)\n",
    "df = df.drop(['hour', 'dayofweek'], axis=1)\n",
    "\n",
    "print(df.head())"
   ]
  },
  {
   "cell_type": "code",
   "execution_count": 7,
   "metadata": {},
   "outputs": [
    {
     "name": "stdout",
     "output_type": "stream",
     "text": [
      "       interval_start_local  north_x_load  south_load  west_x_load  \\\n",
      "0 2018-01-08 06:00:00+00:00      11292.28     7720.14      3626.51   \n",
      "1 2018-01-08 07:00:00+00:00      11134.52     7540.80      3615.65   \n",
      "2 2018-01-08 08:00:00+00:00      11183.56     7529.38      3624.71   \n",
      "3 2018-01-08 09:00:00+00:00      11497.37     7687.16      3678.35   \n",
      "4 2018-01-08 10:00:00+00:00      12203.96     8053.77      3761.58   \n",
      "\n",
      "   houston_load  total_load  lmp_HB_BUSAVG  coal_and_lignite      hydro  \\\n",
      "0       8181.37    30820.31      18.535000       9942.516942  39.045263   \n",
      "1       7980.93    30271.90      18.107500      10059.864300  15.672631   \n",
      "2       7866.77    30204.42      18.019167       9912.115128  14.312730   \n",
      "3       7874.74    30737.62      18.026667       9731.137220  14.721392   \n",
      "4       8095.04    32114.36      18.192500       9950.836098  15.266061   \n",
      "\n",
      "       nuclear  ...  weekofyear_44  weekofyear_45  weekofyear_46  \\\n",
      "0  5123.325668  ...              0              0              0   \n",
      "1  5120.679174  ...              0              0              0   \n",
      "2  5120.450091  ...              0              0              0   \n",
      "3  5119.421699  ...              0              0              0   \n",
      "4  5120.852570  ...              0              0              0   \n",
      "\n",
      "   weekofyear_47  weekofyear_48  weekofyear_49  weekofyear_50  weekofyear_51  \\\n",
      "0              0              0              0              0              0   \n",
      "1              0              0              0              0              0   \n",
      "2              0              0              0              0              0   \n",
      "3              0              0              0              0              0   \n",
      "4              0              0              0              0              0   \n",
      "\n",
      "   weekofyear_52  weekofyear_53  \n",
      "0              0              0  \n",
      "1              0              0  \n",
      "2              0              0  \n",
      "3              0              0  \n",
      "4              0              0  \n",
      "\n",
      "[5 rows x 728 columns]\n"
     ]
    }
   ],
   "source": [
    "#'week of the year' dummies\n",
    "\n",
    "df['weekofyear'] = pd.to_datetime(df['interval_start_local']).dt.isocalendar().week\n",
    "\n",
    "weekofyear_dummies = pd.get_dummies(df['weekofyear'], prefix='weekofyear', drop_first=False)\n",
    "weekofyear_dummies = weekofyear_dummies.astype(int)\n",
    "\n",
    "df = pd.concat([df, weekofyear_dummies], axis=1)\n",
    "df = df.drop(['weekofyear'], axis=1)\n",
    "\n",
    "# Preview result\n",
    "print(df.head())"
   ]
  },
  {
   "cell_type": "code",
   "execution_count": 8,
   "metadata": {},
   "outputs": [],
   "source": [
    "#drop one dummy for each category to prevent multicollinearity\n",
    "df = df.drop(['weekofyear_53', 'dow_6', 'hour_23'], axis=1)\n"
   ]
  },
  {
   "cell_type": "markdown",
   "metadata": {},
   "source": [
    "We could drop lagged/transformed versions of the target variable but keeping them in allows for an autoregressive model, which is desirable for maximum accuracy."
   ]
  },
  {
   "cell_type": "code",
   "execution_count": 9,
   "metadata": {},
   "outputs": [
    {
     "name": "stdout",
     "output_type": "stream",
     "text": [
      "['interval_start_local', 'north_x_load', 'south_load', 'west_x_load', 'houston_load', 'total_load', 'lmp_HB_BUSAVG', 'coal_and_lignite', 'hydro', 'nuclear', 'power_storage', 'solar', 'wind', 'natural_gas', 'other_gen', 'coast_temp', 'east_temp', 'far_west_temp', 'north_y_temp', 'north_central_temp', 'south_central_temp', 'southern_temp', 'west_y_temp', 'hour_lag1', 'north_x_load_lag1', 'south_load_lag1', 'west_x_load_lag1', 'houston_load_lag1', 'total_load_lag1', 'lmp_HB_BUSAVG_lag1', 'coal_and_lignite_lag1', 'hydro_lag1', 'nuclear_lag1', 'power_storage_lag1', 'solar_lag1', 'wind_lag1', 'natural_gas_lag1', 'other_gen_lag1', 'coast_temp_lag1', 'east_temp_lag1', 'far_west_temp_lag1', 'north_y_temp_lag1', 'north_central_temp_lag1', 'south_central_temp_lag1', 'southern_temp_lag1', 'west_y_temp_lag1', 'hour_lag2', 'north_x_load_lag2', 'south_load_lag2', 'west_x_load_lag2', 'houston_load_lag2', 'total_load_lag2', 'lmp_HB_BUSAVG_lag2', 'coal_and_lignite_lag2', 'hydro_lag2', 'nuclear_lag2', 'power_storage_lag2', 'solar_lag2', 'wind_lag2', 'natural_gas_lag2', 'other_gen_lag2', 'coast_temp_lag2', 'east_temp_lag2', 'far_west_temp_lag2', 'north_y_temp_lag2', 'north_central_temp_lag2', 'south_central_temp_lag2', 'southern_temp_lag2', 'west_y_temp_lag2', 'hour_lag3', 'north_x_load_lag3', 'south_load_lag3', 'west_x_load_lag3', 'houston_load_lag3', 'total_load_lag3', 'lmp_HB_BUSAVG_lag3', 'coal_and_lignite_lag3', 'hydro_lag3', 'nuclear_lag3', 'power_storage_lag3', 'solar_lag3', 'wind_lag3', 'natural_gas_lag3', 'other_gen_lag3', 'coast_temp_lag3', 'east_temp_lag3', 'far_west_temp_lag3', 'north_y_temp_lag3', 'north_central_temp_lag3', 'south_central_temp_lag3', 'southern_temp_lag3', 'west_y_temp_lag3', 'hour_lag4', 'north_x_load_lag4', 'south_load_lag4', 'west_x_load_lag4', 'houston_load_lag4', 'total_load_lag4', 'lmp_HB_BUSAVG_lag4', 'coal_and_lignite_lag4', 'hydro_lag4', 'nuclear_lag4', 'power_storage_lag4', 'solar_lag4', 'wind_lag4', 'natural_gas_lag4', 'other_gen_lag4', 'coast_temp_lag4', 'east_temp_lag4', 'far_west_temp_lag4', 'north_y_temp_lag4', 'north_central_temp_lag4', 'south_central_temp_lag4', 'southern_temp_lag4', 'west_y_temp_lag4', 'hour_lag5', 'north_x_load_lag5', 'south_load_lag5', 'west_x_load_lag5', 'houston_load_lag5', 'total_load_lag5', 'lmp_HB_BUSAVG_lag5', 'coal_and_lignite_lag5', 'hydro_lag5', 'nuclear_lag5', 'power_storage_lag5', 'solar_lag5', 'wind_lag5', 'natural_gas_lag5', 'other_gen_lag5', 'coast_temp_lag5', 'east_temp_lag5', 'far_west_temp_lag5', 'north_y_temp_lag5', 'north_central_temp_lag5', 'south_central_temp_lag5', 'southern_temp_lag5', 'west_y_temp_lag5', 'hour_lag6', 'north_x_load_lag6', 'south_load_lag6', 'west_x_load_lag6', 'houston_load_lag6', 'total_load_lag6', 'lmp_HB_BUSAVG_lag6', 'coal_and_lignite_lag6', 'hydro_lag6', 'nuclear_lag6', 'power_storage_lag6', 'solar_lag6', 'wind_lag6', 'natural_gas_lag6', 'other_gen_lag6', 'coast_temp_lag6', 'east_temp_lag6', 'far_west_temp_lag6', 'north_y_temp_lag6', 'north_central_temp_lag6', 'south_central_temp_lag6', 'southern_temp_lag6', 'west_y_temp_lag6', 'hour_lag7', 'north_x_load_lag7', 'south_load_lag7', 'west_x_load_lag7', 'houston_load_lag7', 'total_load_lag7', 'lmp_HB_BUSAVG_lag7', 'coal_and_lignite_lag7', 'hydro_lag7', 'nuclear_lag7', 'power_storage_lag7', 'solar_lag7', 'wind_lag7', 'natural_gas_lag7', 'other_gen_lag7', 'coast_temp_lag7', 'east_temp_lag7', 'far_west_temp_lag7', 'north_y_temp_lag7', 'north_central_temp_lag7', 'south_central_temp_lag7', 'southern_temp_lag7', 'west_y_temp_lag7', 'hour_lag8', 'north_x_load_lag8', 'south_load_lag8', 'west_x_load_lag8', 'houston_load_lag8', 'total_load_lag8', 'lmp_HB_BUSAVG_lag8', 'coal_and_lignite_lag8', 'hydro_lag8', 'nuclear_lag8', 'power_storage_lag8', 'solar_lag8', 'wind_lag8', 'natural_gas_lag8', 'other_gen_lag8', 'coast_temp_lag8', 'east_temp_lag8', 'far_west_temp_lag8', 'north_y_temp_lag8', 'north_central_temp_lag8', 'south_central_temp_lag8', 'southern_temp_lag8', 'west_y_temp_lag8', 'hour_lag9', 'north_x_load_lag9', 'south_load_lag9', 'west_x_load_lag9', 'houston_load_lag9', 'total_load_lag9', 'lmp_HB_BUSAVG_lag9', 'coal_and_lignite_lag9', 'hydro_lag9', 'nuclear_lag9', 'power_storage_lag9', 'solar_lag9', 'wind_lag9', 'natural_gas_lag9', 'other_gen_lag9', 'coast_temp_lag9', 'east_temp_lag9', 'far_west_temp_lag9', 'north_y_temp_lag9', 'north_central_temp_lag9', 'south_central_temp_lag9', 'southern_temp_lag9', 'west_y_temp_lag9', 'hour_lag10', 'north_x_load_lag10', 'south_load_lag10', 'west_x_load_lag10', 'houston_load_lag10', 'total_load_lag10', 'lmp_HB_BUSAVG_lag10', 'coal_and_lignite_lag10', 'hydro_lag10', 'nuclear_lag10', 'power_storage_lag10', 'solar_lag10', 'wind_lag10', 'natural_gas_lag10', 'other_gen_lag10', 'coast_temp_lag10', 'east_temp_lag10', 'far_west_temp_lag10', 'north_y_temp_lag10', 'north_central_temp_lag10', 'south_central_temp_lag10', 'southern_temp_lag10', 'west_y_temp_lag10', 'hour_lag11', 'north_x_load_lag11', 'south_load_lag11', 'west_x_load_lag11', 'houston_load_lag11', 'total_load_lag11', 'lmp_HB_BUSAVG_lag11', 'coal_and_lignite_lag11', 'hydro_lag11', 'nuclear_lag11', 'power_storage_lag11', 'solar_lag11', 'wind_lag11', 'natural_gas_lag11', 'other_gen_lag11', 'coast_temp_lag11', 'east_temp_lag11', 'far_west_temp_lag11', 'north_y_temp_lag11', 'north_central_temp_lag11', 'south_central_temp_lag11', 'southern_temp_lag11', 'west_y_temp_lag11', 'hour_lag12', 'north_x_load_lag12', 'south_load_lag12', 'west_x_load_lag12', 'houston_load_lag12', 'total_load_lag12', 'lmp_HB_BUSAVG_lag12', 'coal_and_lignite_lag12', 'hydro_lag12', 'nuclear_lag12', 'power_storage_lag12', 'solar_lag12', 'wind_lag12', 'natural_gas_lag12', 'other_gen_lag12', 'coast_temp_lag12', 'east_temp_lag12', 'far_west_temp_lag12', 'north_y_temp_lag12', 'north_central_temp_lag12', 'south_central_temp_lag12', 'southern_temp_lag12', 'west_y_temp_lag12', 'hour_lag13', 'north_x_load_lag13', 'south_load_lag13', 'west_x_load_lag13', 'houston_load_lag13', 'total_load_lag13', 'lmp_HB_BUSAVG_lag13', 'coal_and_lignite_lag13', 'hydro_lag13', 'nuclear_lag13', 'power_storage_lag13', 'solar_lag13', 'wind_lag13', 'natural_gas_lag13', 'other_gen_lag13', 'coast_temp_lag13', 'east_temp_lag13', 'far_west_temp_lag13', 'north_y_temp_lag13', 'north_central_temp_lag13', 'south_central_temp_lag13', 'southern_temp_lag13', 'west_y_temp_lag13', 'hour_lag14', 'north_x_load_lag14', 'south_load_lag14', 'west_x_load_lag14', 'houston_load_lag14', 'total_load_lag14', 'lmp_HB_BUSAVG_lag14', 'coal_and_lignite_lag14', 'hydro_lag14', 'nuclear_lag14', 'power_storage_lag14', 'solar_lag14', 'wind_lag14', 'natural_gas_lag14', 'other_gen_lag14', 'coast_temp_lag14', 'east_temp_lag14', 'far_west_temp_lag14', 'north_y_temp_lag14', 'north_central_temp_lag14', 'south_central_temp_lag14', 'southern_temp_lag14', 'west_y_temp_lag14', 'hour_lag15', 'north_x_load_lag15', 'south_load_lag15', 'west_x_load_lag15', 'houston_load_lag15', 'total_load_lag15', 'lmp_HB_BUSAVG_lag15', 'coal_and_lignite_lag15', 'hydro_lag15', 'nuclear_lag15', 'power_storage_lag15', 'solar_lag15', 'wind_lag15', 'natural_gas_lag15', 'other_gen_lag15', 'coast_temp_lag15', 'east_temp_lag15', 'far_west_temp_lag15', 'north_y_temp_lag15', 'north_central_temp_lag15', 'south_central_temp_lag15', 'southern_temp_lag15', 'west_y_temp_lag15', 'hour_lag16', 'north_x_load_lag16', 'south_load_lag16', 'west_x_load_lag16', 'houston_load_lag16', 'total_load_lag16', 'lmp_HB_BUSAVG_lag16', 'coal_and_lignite_lag16', 'hydro_lag16', 'nuclear_lag16', 'power_storage_lag16', 'solar_lag16', 'wind_lag16', 'natural_gas_lag16', 'other_gen_lag16', 'coast_temp_lag16', 'east_temp_lag16', 'far_west_temp_lag16', 'north_y_temp_lag16', 'north_central_temp_lag16', 'south_central_temp_lag16', 'southern_temp_lag16', 'west_y_temp_lag16', 'hour_lag17', 'north_x_load_lag17', 'south_load_lag17', 'west_x_load_lag17', 'houston_load_lag17', 'total_load_lag17', 'lmp_HB_BUSAVG_lag17', 'coal_and_lignite_lag17', 'hydro_lag17', 'nuclear_lag17', 'power_storage_lag17', 'solar_lag17', 'wind_lag17', 'natural_gas_lag17', 'other_gen_lag17', 'coast_temp_lag17', 'east_temp_lag17', 'far_west_temp_lag17', 'north_y_temp_lag17', 'north_central_temp_lag17', 'south_central_temp_lag17', 'southern_temp_lag17', 'west_y_temp_lag17', 'hour_lag18', 'north_x_load_lag18', 'south_load_lag18', 'west_x_load_lag18', 'houston_load_lag18', 'total_load_lag18', 'lmp_HB_BUSAVG_lag18', 'coal_and_lignite_lag18', 'hydro_lag18', 'nuclear_lag18', 'power_storage_lag18', 'solar_lag18', 'wind_lag18', 'natural_gas_lag18', 'other_gen_lag18', 'coast_temp_lag18', 'east_temp_lag18', 'far_west_temp_lag18', 'north_y_temp_lag18', 'north_central_temp_lag18', 'south_central_temp_lag18', 'southern_temp_lag18', 'west_y_temp_lag18', 'hour_lag19', 'north_x_load_lag19', 'south_load_lag19', 'west_x_load_lag19', 'houston_load_lag19', 'total_load_lag19', 'lmp_HB_BUSAVG_lag19', 'coal_and_lignite_lag19', 'hydro_lag19', 'nuclear_lag19', 'power_storage_lag19', 'solar_lag19', 'wind_lag19', 'natural_gas_lag19', 'other_gen_lag19', 'coast_temp_lag19', 'east_temp_lag19', 'far_west_temp_lag19', 'north_y_temp_lag19', 'north_central_temp_lag19', 'south_central_temp_lag19', 'southern_temp_lag19', 'west_y_temp_lag19', 'hour_lag20', 'north_x_load_lag20', 'south_load_lag20', 'west_x_load_lag20', 'houston_load_lag20', 'total_load_lag20', 'lmp_HB_BUSAVG_lag20', 'coal_and_lignite_lag20', 'hydro_lag20', 'nuclear_lag20', 'power_storage_lag20', 'solar_lag20', 'wind_lag20', 'natural_gas_lag20', 'other_gen_lag20', 'coast_temp_lag20', 'east_temp_lag20', 'far_west_temp_lag20', 'north_y_temp_lag20', 'north_central_temp_lag20', 'south_central_temp_lag20', 'southern_temp_lag20', 'west_y_temp_lag20', 'hour_lag21', 'north_x_load_lag21', 'south_load_lag21', 'west_x_load_lag21', 'houston_load_lag21', 'total_load_lag21', 'lmp_HB_BUSAVG_lag21', 'coal_and_lignite_lag21', 'hydro_lag21', 'nuclear_lag21', 'power_storage_lag21', 'solar_lag21', 'wind_lag21', 'natural_gas_lag21', 'other_gen_lag21', 'coast_temp_lag21', 'east_temp_lag21', 'far_west_temp_lag21', 'north_y_temp_lag21', 'north_central_temp_lag21', 'south_central_temp_lag21', 'southern_temp_lag21', 'west_y_temp_lag21', 'hour_lag22', 'north_x_load_lag22', 'south_load_lag22', 'west_x_load_lag22', 'houston_load_lag22', 'total_load_lag22', 'lmp_HB_BUSAVG_lag22', 'coal_and_lignite_lag22', 'hydro_lag22', 'nuclear_lag22', 'power_storage_lag22', 'solar_lag22', 'wind_lag22', 'natural_gas_lag22', 'other_gen_lag22', 'coast_temp_lag22', 'east_temp_lag22', 'far_west_temp_lag22', 'north_y_temp_lag22', 'north_central_temp_lag22', 'south_central_temp_lag22', 'southern_temp_lag22', 'west_y_temp_lag22', 'hour_lag23', 'north_x_load_lag23', 'south_load_lag23', 'west_x_load_lag23', 'houston_load_lag23', 'total_load_lag23', 'lmp_HB_BUSAVG_lag23', 'coal_and_lignite_lag23', 'hydro_lag23', 'nuclear_lag23', 'power_storage_lag23', 'solar_lag23', 'wind_lag23', 'natural_gas_lag23', 'other_gen_lag23', 'coast_temp_lag23', 'east_temp_lag23', 'far_west_temp_lag23', 'north_y_temp_lag23', 'north_central_temp_lag23', 'south_central_temp_lag23', 'southern_temp_lag23', 'west_y_temp_lag23', 'hour_lag24', 'north_x_load_lag24', 'south_load_lag24', 'west_x_load_lag24', 'houston_load_lag24', 'total_load_lag24', 'lmp_HB_BUSAVG_lag24', 'coal_and_lignite_lag24', 'hydro_lag24', 'nuclear_lag24', 'power_storage_lag24', 'solar_lag24', 'wind_lag24', 'natural_gas_lag24', 'other_gen_lag24', 'coast_temp_lag24', 'east_temp_lag24', 'far_west_temp_lag24', 'north_y_temp_lag24', 'north_central_temp_lag24', 'south_central_temp_lag24', 'southern_temp_lag24', 'west_y_temp_lag24', 'hour_lag48', 'north_x_load_lag48', 'south_load_lag48', 'west_x_load_lag48', 'houston_load_lag48', 'total_load_lag48', 'lmp_HB_BUSAVG_lag48', 'coal_and_lignite_lag48', 'hydro_lag48', 'nuclear_lag48', 'power_storage_lag48', 'solar_lag48', 'wind_lag48', 'natural_gas_lag48', 'other_gen_lag48', 'coast_temp_lag48', 'east_temp_lag48', 'far_west_temp_lag48', 'north_y_temp_lag48', 'north_central_temp_lag48', 'south_central_temp_lag48', 'southern_temp_lag48', 'west_y_temp_lag48', 'hour_lag72', 'north_x_load_lag72', 'south_load_lag72', 'west_x_load_lag72', 'houston_load_lag72', 'total_load_lag72', 'lmp_HB_BUSAVG_lag72', 'coal_and_lignite_lag72', 'hydro_lag72', 'nuclear_lag72', 'power_storage_lag72', 'solar_lag72', 'wind_lag72', 'natural_gas_lag72', 'other_gen_lag72', 'coast_temp_lag72', 'east_temp_lag72', 'far_west_temp_lag72', 'north_y_temp_lag72', 'north_central_temp_lag72', 'south_central_temp_lag72', 'southern_temp_lag72', 'west_y_temp_lag72', 'hour_lag168', 'north_x_load_lag168', 'south_load_lag168', 'west_x_load_lag168', 'houston_load_lag168', 'total_load_lag168', 'lmp_HB_BUSAVG_lag168', 'coal_and_lignite_lag168', 'hydro_lag168', 'nuclear_lag168', 'power_storage_lag168', 'solar_lag168', 'wind_lag168', 'natural_gas_lag168', 'other_gen_lag168', 'coast_temp_lag168', 'east_temp_lag168', 'far_west_temp_lag168', 'north_y_temp_lag168', 'north_central_temp_lag168', 'south_central_temp_lag168', 'southern_temp_lag168', 'west_y_temp_lag168', 'hour_0', 'hour_1', 'hour_2', 'hour_3', 'hour_4', 'hour_5', 'hour_6', 'hour_7', 'hour_8', 'hour_9', 'hour_10', 'hour_11', 'hour_12', 'hour_13', 'hour_14', 'hour_15', 'hour_16', 'hour_17', 'hour_18', 'hour_19', 'hour_20', 'hour_21', 'hour_22', 'dow_0', 'dow_1', 'dow_2', 'dow_3', 'dow_4', 'dow_5', 'weekofyear_1', 'weekofyear_2', 'weekofyear_3', 'weekofyear_4', 'weekofyear_5', 'weekofyear_6', 'weekofyear_7', 'weekofyear_8', 'weekofyear_9', 'weekofyear_10', 'weekofyear_11', 'weekofyear_12', 'weekofyear_13', 'weekofyear_14', 'weekofyear_15', 'weekofyear_16', 'weekofyear_17', 'weekofyear_18', 'weekofyear_19', 'weekofyear_20', 'weekofyear_21', 'weekofyear_22', 'weekofyear_23', 'weekofyear_24', 'weekofyear_25', 'weekofyear_26', 'weekofyear_27', 'weekofyear_28', 'weekofyear_29', 'weekofyear_30', 'weekofyear_31', 'weekofyear_32', 'weekofyear_33', 'weekofyear_34', 'weekofyear_35', 'weekofyear_36', 'weekofyear_37', 'weekofyear_38', 'weekofyear_39', 'weekofyear_40', 'weekofyear_41', 'weekofyear_42', 'weekofyear_43', 'weekofyear_44', 'weekofyear_45', 'weekofyear_46', 'weekofyear_47', 'weekofyear_48', 'weekofyear_49', 'weekofyear_50', 'weekofyear_51', 'weekofyear_52']\n",
      "(63521, 725)\n"
     ]
    }
   ],
   "source": [
    "print(df.columns.tolist())\n",
    "print(df.shape)"
   ]
  },
  {
   "cell_type": "code",
   "execution_count": 10,
   "metadata": {},
   "outputs": [
    {
     "data": {
      "text/plain": [
       "(Timestamp('2018-01-08 06:00:00+0000', tz='UTC'),\n",
       " Timestamp('2025-04-13 04:00:00+0000', tz='UTC'))"
      ]
     },
     "execution_count": 10,
     "metadata": {},
     "output_type": "execute_result"
    }
   ],
   "source": [
    "#print the min and max of the time labels\n",
    "min_time = df['interval_start_local'].min()\n",
    "max_time = df['interval_start_local'].max()\n",
    "\n",
    "min_time, max_time"
   ]
  },
  {
   "cell_type": "markdown",
   "metadata": {},
   "source": [
    "63521 individual observations are very promising—a large sample size bodes well for performance in this model. Let's generate our train/val/test split (which must include sequential data, due to time dependencies):\n",
    "\n",
    "- Train: 2018 (beginning on week 2) - 2022\n",
    "- Val: 2022-Jun 2023\n",
    "- Test: Jun 2023-Apr 2025 (present)"
   ]
  },
  {
   "cell_type": "code",
   "execution_count": 11,
   "metadata": {},
   "outputs": [
    {
     "name": "stdout",
     "output_type": "stream",
     "text": [
      "Train set size: 43650\n",
      "Validation set size: 12385\n",
      "Test set size: 16247\n"
     ]
    }
   ],
   "source": [
    "#define date ranges for each set\n",
    "train_start = pd.Timestamp('2018-01-08 06:00:00+0000', tz='UTC')\n",
    "train_end = pd.Timestamp('2022-12-31 23:59:59+0000', tz='UTC')\n",
    "\n",
    "val_start = pd.Timestamp('2022-01-01 00:00:00+0000', tz='UTC')\n",
    "val_end = pd.Timestamp('2023-06-01 00:00:00+0000', tz='UTC')\n",
    "\n",
    "test_start = pd.Timestamp('2023-06-01 00:00:00+0000', tz='UTC')\n",
    "test_end = pd.Timestamp('2025-04-13 04:00:00+0000', tz='UTC')\n",
    "\n",
    "#filter\n",
    "train_data = df[(df['interval_start_local'] >= train_start) & (df['interval_start_local'] <= train_end)]\n",
    "val_data = df[(df['interval_start_local'] >= val_start) & (df['interval_start_local'] <= val_end)]\n",
    "test_data = df[(df['interval_start_local'] >= test_start) & (df['interval_start_local'] <= test_end)]\n",
    "\n",
    "#check dims\n",
    "print(f\"Train set size: {train_data.shape[0]}\")\n",
    "print(f\"Validation set size: {val_data.shape[0]}\")\n",
    "print(f\"Test set size: {test_data.shape[0]}\")"
   ]
  },
  {
   "cell_type": "code",
   "execution_count": 12,
   "metadata": {},
   "outputs": [
    {
     "name": "stdout",
     "output_type": "stream",
     "text": [
      "Scaled training data preview:\n",
      "    north_x_load  south_load  west_x_load  houston_load  total_load  \\\n",
      "0     -1.095496   -1.373361    -1.809739     -1.436398   -1.397223   \n",
      "1     -1.132904   -1.434522    -1.822247     -1.512426   -1.451934   \n",
      "2     -1.121276   -1.438417    -1.811812     -1.555728   -1.458666   \n",
      "3     -1.046865   -1.384608    -1.750034     -1.552705   -1.405472   \n",
      "4     -0.879318   -1.259581    -1.654176     -1.469144   -1.268123   \n",
      "\n",
      "   lmp_HB_BUSAVG  coal_and_lignite     hydro   nuclear  power_storage  ...  \\\n",
      "0      -0.103216          0.452893 -0.512432  0.703447      -0.067082  ...   \n",
      "1      -0.105110          0.498833 -0.853273  0.699100      -0.067082  ...   \n",
      "2      -0.105501          0.440991 -0.873105  0.698724      -0.067082  ...   \n",
      "3      -0.105468          0.370141 -0.867145  0.697035      -0.067082  ...   \n",
      "4      -0.104733          0.456150 -0.859202  0.699385      -0.067082  ...   \n",
      "\n",
      "   natural_gas_lag168  other_gen_lag168  coast_temp_lag168  east_temp_lag168  \\\n",
      "0            0.589475         -0.309519          -2.301730         -2.369196   \n",
      "1            0.615166         -0.319407          -2.380850         -2.430523   \n",
      "2            0.595640         -0.306079          -2.452777         -2.553179   \n",
      "3            0.651833         -0.322025          -2.488740         -2.583843   \n",
      "4            0.738493         -0.318278          -2.618208         -2.645170   \n",
      "\n",
      "   far_west_temp_lag168  north_y_temp_lag168  north_central_temp_lag168  \\\n",
      "0             -2.384087            -2.528532                  -2.473554   \n",
      "1             -2.410154            -2.583215                  -2.529675   \n",
      "2             -2.410154            -2.610556                  -2.557735   \n",
      "3             -2.436221            -2.637898                  -2.613856   \n",
      "4             -2.462289            -2.692581                  -2.684008   \n",
      "\n",
      "   south_central_temp_lag168  southern_temp_lag168  west_y_temp_lag168  \n",
      "0                  -2.620248             -2.445860           -2.639639  \n",
      "1                  -2.651481             -2.568164           -2.672387  \n",
      "2                  -2.651481             -2.675180           -2.672387  \n",
      "3                  -2.682713             -2.751620           -2.705135  \n",
      "4                  -2.682713             -2.858636           -2.726967  \n",
      "\n",
      "[5 rows x 616 columns]\n",
      "Scaled validation data preview:\n",
      "        north_x_load  south_load  west_x_load  houston_load  total_load  \\\n",
      "34890     -0.344523    0.462541     0.458875      0.500344    0.161704   \n",
      "34891     -0.460384    0.304471     0.361566      0.383233    0.027485   \n",
      "34892     -0.602246    0.110895     0.242997      0.245325   -0.135371   \n",
      "34893     -0.735346   -0.026573     0.181552      0.108756   -0.272827   \n",
      "34894     -0.844678   -0.157367     0.144778     -0.038866   -0.399101   \n",
      "\n",
      "       lmp_HB_BUSAVG  coal_and_lignite     hydro   nuclear  power_storage  \\\n",
      "34890      -0.084457          0.127859 -1.005022  0.635108      -0.067082   \n",
      "34891      -0.082861         -0.020471 -0.991535  0.633950      -0.067082   \n",
      "34892      -0.033548          0.470401 -0.990226  0.633005      -0.067082   \n",
      "34893       0.032990          0.731940 -0.991577  0.633183      -0.067082   \n",
      "34894       0.076991          0.811432 -0.991758  0.634338      -0.067082   \n",
      "\n",
      "       ...  natural_gas_lag168  other_gen_lag168  coast_temp_lag168  \\\n",
      "34890  ...           -1.513856          0.397026           0.115006   \n",
      "34891  ...           -1.602100         -0.453744           0.014309   \n",
      "34892  ...           -1.706979         -0.788553          -0.057618   \n",
      "34893  ...           -1.799466         -0.002361          -0.057618   \n",
      "34894  ...           -1.830741          0.937530          -0.093581   \n",
      "\n",
      "       east_temp_lag168  far_west_temp_lag168  north_y_temp_lag168  \\\n",
      "34890          0.298558              0.509402             0.697752   \n",
      "34891          0.206567              0.379064             0.643069   \n",
      "34892          0.175903              0.144457             0.533704   \n",
      "34893          0.145239             -0.011948             0.533704   \n",
      "34894          0.114575             -0.116217             0.424338   \n",
      "\n",
      "       north_central_temp_lag168  south_central_temp_lag168  \\\n",
      "34890                   0.416680                   0.190661   \n",
      "34891                   0.360559                  -0.027965   \n",
      "34892                   0.290407                  -0.121662   \n",
      "34893                   0.178165                  -0.121662   \n",
      "34894                   0.178165                  -0.152894   \n",
      "\n",
      "       southern_temp_lag168  west_y_temp_lag168  \n",
      "34890              0.046083            0.646089  \n",
      "34891             -0.137373            0.471433  \n",
      "34892             -0.183237            0.329524  \n",
      "34893             -0.244389            0.253112  \n",
      "34894             -0.336117            0.133035  \n",
      "\n",
      "[5 rows x 616 columns]\n",
      "Scaled test data preview:\n",
      "        north_x_load  south_load  west_x_load  houston_load  total_load  \\\n",
      "47274      1.480718    1.825504     3.021892      1.472170    1.805972   \n",
      "47275      1.213185    1.582608     2.861077      1.293521    1.561440   \n",
      "47276      0.996678    1.378618     2.847913      1.092936    1.356777   \n",
      "47277      0.652090    1.014739     2.646869      0.775670    1.004491   \n",
      "47278      0.286437    0.648961     2.474122      0.446736    0.642169   \n",
      "\n",
      "       lmp_HB_BUSAVG  coal_and_lignite     hydro   nuclear  power_storage  \\\n",
      "47274      -0.052657          0.258187 -0.574462  0.528256      29.929941   \n",
      "47275      -0.040082          0.566472 -1.081826  0.532184      30.206572   \n",
      "47276      -0.082810          0.378510 -1.081826  0.531664      13.830226   \n",
      "47277      -0.100602         -0.085618 -1.081826  0.533594       3.310521   \n",
      "47278      -0.115769         -0.866266 -1.081826  0.533348       6.185159   \n",
      "\n",
      "       ...  natural_gas_lag168  other_gen_lag168  coast_temp_lag168  \\\n",
      "47274  ...            1.446279         -0.362693           0.834273   \n",
      "47275  ...            1.467084         -0.362693           0.661649   \n",
      "47276  ...            1.291419         -0.362693           0.474640   \n",
      "47277  ...            0.943857         -0.362693           0.402713   \n",
      "47278  ...            0.551292         -0.362693           0.352364   \n",
      "\n",
      "       east_temp_lag168  far_west_temp_lag168  north_y_temp_lag168  \\\n",
      "47274          0.819843              1.004683             0.943825   \n",
      "47275          0.666524              0.744009             0.779776   \n",
      "47276          0.451877              0.691874             0.533704   \n",
      "47277          0.359886              0.587604             0.396997   \n",
      "47278          0.237230              0.483334             0.342314   \n",
      "\n",
      "       north_central_temp_lag168  south_central_temp_lag168  \\\n",
      "47274                   0.837587                   0.721611   \n",
      "47275                   0.711315                   0.565449   \n",
      "47276                   0.571012                   0.409288   \n",
      "47277                   0.416680                   0.315591   \n",
      "47278                   0.374589                   0.096964   \n",
      "\n",
      "       southern_temp_lag168  west_y_temp_lag168  \n",
      "47274              0.963362            0.831662  \n",
      "47275              0.734043            0.624257  \n",
      "47276              0.535299            0.427768  \n",
      "47277              0.428283            0.296776  \n",
      "47278              0.290691            0.209448  \n",
      "\n",
      "[5 rows x 616 columns]\n"
     ]
    }
   ],
   "source": [
    "#drop the time variable\n",
    "train_data = train_data.drop(['interval_start_local'], axis=1)\n",
    "val_data = val_data.drop(['interval_start_local'], axis=1)\n",
    "test_data = test_data.drop(['interval_start_local'], axis=1)\n",
    "\n",
    "#identify non-dummy columns\n",
    "cols_to_scale = [col for col in train_data.columns if 'hour' not in col and 'dow' not in col and 'weekofyear' not in col]\n",
    "\n",
    "#fit scaler to training data\n",
    "scaler = StandardScaler()\n",
    "train_data_scaled = train_data.copy()\n",
    "train_data_scaled[cols_to_scale] = scaler.fit_transform(train_data[cols_to_scale])\n",
    "\n",
    "#apply scaler to val/test data\n",
    "val_data_scaled = val_data.copy()\n",
    "val_data_scaled[cols_to_scale] = scaler.transform(val_data[cols_to_scale])\n",
    "test_data_scaled = test_data.copy()\n",
    "test_data_scaled[cols_to_scale] = scaler.transform(test_data[cols_to_scale])\n",
    "\n",
    "#preview to check\n",
    "print(\"Scaled training data preview:\\n\", train_data_scaled[cols_to_scale].head())\n",
    "print(\"Scaled validation data preview:\\n\", val_data_scaled[cols_to_scale].head())\n",
    "print(\"Scaled test data preview:\\n\", test_data_scaled[cols_to_scale].head())"
   ]
  },
  {
   "cell_type": "markdown",
   "metadata": {},
   "source": [
    "# Tuning the model\n",
    "\n"
   ]
  },
  {
   "cell_type": "code",
   "execution_count": 13,
   "metadata": {},
   "outputs": [],
   "source": [
    "#Define y vectors \n",
    "X_train = train_data_scaled.drop('lmp_HB_BUSAVG', axis=1)\n",
    "y_train = train_data_scaled['lmp_HB_BUSAVG']\n",
    "X_val = val_data_scaled.drop('lmp_HB_BUSAVG', axis=1)\n",
    "y_val = val_data_scaled['lmp_HB_BUSAVG']\n",
    "X_test = test_data_scaled.drop('lmp_HB_BUSAVG', axis=1)\n",
    "y_test = test_data_scaled['lmp_HB_BUSAVG']"
   ]
  },
  {
   "cell_type": "code",
   "execution_count": 14,
   "metadata": {},
   "outputs": [],
   "source": [
    "#Define parameter grid to search over (TEST)\n",
    "param_grid = {\n",
    "    'learning_rate': [0.01, 0.05],\n",
    "    'n_estimators': [500],\n",
    "    'max_depth': [3, 10],\n",
    "    'subsample': [0.7, 0.95],\n",
    "    'colsample_bytree': [0.8, 1.0]\n",
    "}"
   ]
  },
  {
   "cell_type": "code",
   "execution_count": 20,
   "metadata": {},
   "outputs": [
    {
     "name": "stdout",
     "output_type": "stream",
     "text": [
      "Trained 10/16 models. Moving to next.\n",
      "Best parameters: {'colsample_bytree': 0.8, 'learning_rate': 0.05, 'max_depth': 10, 'n_estimators': 500, 'subsample': 0.95}\n",
      "Best validation RMSE: 0.04855397022649469\n"
     ]
    }
   ],
   "source": [
    "xgb_model = xgb.XGBRegressor(objective='reg:squarederror', eval_metric='rmse')\n",
    "results = []\n",
    "i = 0\n",
    "\n",
    "for params in ParameterGrid(param_grid):\n",
    "    xgb_model.set_params(**params) \n",
    "    xgb_model.fit(X_train, y_train)\n",
    "\n",
    "    y_val_pred = xgb_model.predict(X_val) #rather than CV, make predictions on val set\n",
    "    mse = mean_squared_error(y_val, y_val_pred)\n",
    "    rmse = mse ** 0.5\n",
    "    results.append({'params': params, 'rmse': rmse})\n",
    "\n",
    "    i += 1\n",
    "    if i % 10 == 0:\n",
    "        print(f\"Trained {i}/{len(ParameterGrid(param_grid))} models. Moving to next.\")\n",
    "\n",
    "#Determine best model\n",
    "best_result = min(results, key=lambda x: x['rmse'])\n",
    "print(f\"Best parameters: {best_result['params']}\")\n",
    "print(f\"Best validation RMSE: {best_result['rmse']}\")"
   ]
  }
 ],
 "metadata": {
  "kernelspec": {
   "display_name": "Python 3",
   "language": "python",
   "name": "python3"
  },
  "language_info": {
   "codemirror_mode": {
    "name": "ipython",
    "version": 3
   },
   "file_extension": ".py",
   "mimetype": "text/x-python",
   "name": "python",
   "nbconvert_exporter": "python",
   "pygments_lexer": "ipython3",
   "version": "3.11.2"
  }
 },
 "nbformat": 4,
 "nbformat_minor": 2
}
