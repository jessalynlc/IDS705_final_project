{
 "cells": [
  {
   "cell_type": "code",
   "execution_count": 35,
   "id": "ec5f3718",
   "metadata": {},
   "outputs": [],
   "source": [
    "import pandas as pd\n",
    "import numpy as np\n",
    "import matplotlib.pyplot as plt\n",
    "from sklearn.preprocessing import StandardScaler\n",
    "from sklearn.pipeline import Pipeline\n",
    "from sklearn.model_selection import train_test_split, GridSearchCV, RandomizedSearchCV\n",
    "from sklearn.metrics import roc_auc_score, average_precision_score, roc_curve, precision_recall_curve\n",
    "from sklearn.tree import DecisionTreeRegressor\n",
    "from sklearn.model_selection import KFold\n",
    "from sklearn.metrics import mean_absolute_error, mean_squared_error\n",
    "from sklearn.ensemble import BaggingRegressor\n",
    "from sklearn.ensemble import GradientBoostingRegressor\n",
    "from sklearn.impute import SimpleImputer\n",
    "from sklearn.model_selection import TimeSeriesSplit\n"
   ]
  },
  {
   "cell_type": "markdown",
   "id": "c0f69bc5",
   "metadata": {},
   "source": [
    "# Data Preparation\n",
    "\n",
    "(See notes on data preparation in xgboost.ipynb)"
   ]
  },
  {
   "cell_type": "code",
   "execution_count": 36,
   "id": "76cb2de3",
   "metadata": {},
   "outputs": [],
   "source": [
    "df = pd.read_csv('all_hourly_data.csv')"
   ]
  },
  {
   "cell_type": "code",
   "execution_count": 37,
   "id": "a13c8566",
   "metadata": {},
   "outputs": [
    {
     "name": "stdout",
     "output_type": "stream",
     "text": [
      "(63689, 25)\n"
     ]
    }
   ],
   "source": [
    "print(df.shape)\n",
    "df = df.drop(['date'], axis=1) #we're adding dummies later for this"
   ]
  },
  {
   "cell_type": "markdown",
   "id": "2e4036d0",
   "metadata": {},
   "source": [
    "Let's generate lags for\n",
    "\n",
    "- The previous 24 hours (i.e., lags 1 to 24),\n",
    "- The same hour 2 and 3 days ago (lags 48 and 72),\n",
    "- The same hour 1 week ago (lag 168),\n",
    "\n",
    "Let's also generate hourly, 2-3 days, and weekly dummies."
   ]
  },
  {
   "cell_type": "code",
   "execution_count": 38,
   "id": "bd30adf6",
   "metadata": {},
   "outputs": [],
   "source": [
    "#handle the time column\n",
    "df['interval_start_local'] = pd.to_datetime(df['interval_start_local'], utc=True)\n",
    "df = df.set_index('interval_start_local')\n",
    "\n",
    "#lagging \n",
    "cols_to_lag = df.columns\n",
    "lags = list(range(1, 25)) + [48, 72, 168]\n",
    "\n",
    "lagged_frames = []\n",
    "for lag in lags:\n",
    "    lagged = df[cols_to_lag].shift(lag)\n",
    "    lagged.columns = [f\"{col}_lag{lag}\" for col in cols_to_lag]\n",
    "    lagged_frames.append(lagged)\n",
    "\n",
    "lagged_df = pd.concat(lagged_frames, axis=1)\n",
    "df_with_lags = pd.concat([df, lagged_df], axis=1).reset_index()\n",
    "df_with_lags = df_with_lags.copy()\n",
    "\n",
    "#Lose the first 168 observations because our largest lag is 1 week long\n",
    "df_with_lags = df_with_lags.iloc[168:].reset_index(drop=True)\n"
   ]
  },
  {
   "cell_type": "code",
   "execution_count": 39,
   "id": "b3af3fd3",
   "metadata": {},
   "outputs": [
    {
     "name": "stdout",
     "output_type": "stream",
     "text": [
      "       interval_start_local  north_x_load  south_load  west_x_load  \\\n",
      "0 2018-01-08 06:00:00+00:00      11292.28     7720.14      3626.51   \n",
      "1 2018-01-08 07:00:00+00:00      11134.52     7540.80      3615.65   \n",
      "2 2018-01-08 08:00:00+00:00      11183.56     7529.38      3624.71   \n",
      "3 2018-01-08 09:00:00+00:00      11497.37     7687.16      3678.35   \n",
      "4 2018-01-08 10:00:00+00:00      12203.96     8053.77      3761.58   \n",
      "\n",
      "   houston_load  total_load  lmp_HB_BUSAVG  coal_and_lignite      hydro  \\\n",
      "0       8181.37    30820.31      18.535000       9942.516942  39.045263   \n",
      "1       7980.93    30271.90      18.107500      10059.864300  15.672631   \n",
      "2       7866.77    30204.42      18.019167       9912.115128  14.312730   \n",
      "3       7874.74    30737.62      18.026667       9731.137220  14.721392   \n",
      "4       8095.04    32114.36      18.192500       9950.836098  15.266061   \n",
      "\n",
      "       nuclear  ...  hour_21  hour_22  hour_23  dow_0  dow_1  dow_2  dow_3  \\\n",
      "0  5123.325668  ...        0        0        0      1      0      0      0   \n",
      "1  5120.679174  ...        0        0        0      1      0      0      0   \n",
      "2  5120.450091  ...        0        0        0      1      0      0      0   \n",
      "3  5119.421699  ...        0        0        0      1      0      0      0   \n",
      "4  5120.852570  ...        0        0        0      1      0      0      0   \n",
      "\n",
      "   dow_4  dow_5  dow_6  \n",
      "0      0      0      0  \n",
      "1      0      0      0  \n",
      "2      0      0      0  \n",
      "3      0      0      0  \n",
      "4      0      0      0  \n",
      "\n",
      "[5 rows x 675 columns]\n"
     ]
    }
   ],
   "source": [
    "df_with_lags['hour'] = pd.to_datetime(df_with_lags['interval_start_local']).dt.hour\n",
    "df_with_lags['dayofweek'] = pd.to_datetime(df_with_lags['interval_start_local']).dt.dayofweek\n",
    "\n",
    "#one-hot encode dummies\n",
    "hour_dummies = pd.get_dummies(df_with_lags['hour'], prefix='hour')\n",
    "dow_dummies = pd.get_dummies(df_with_lags['dayofweek'], prefix='dow')\n",
    "hour_dummies = hour_dummies.astype(int)\n",
    "dow_dummies = dow_dummies.astype(int)\n",
    "\n",
    "#merge\n",
    "df = pd.concat([df_with_lags, hour_dummies, dow_dummies], axis=1)\n",
    "df = df.drop(['hour', 'dayofweek'], axis=1)\n",
    "\n",
    "print(df.head())"
   ]
  },
  {
   "cell_type": "code",
   "execution_count": 40,
   "id": "b44031d0",
   "metadata": {},
   "outputs": [
    {
     "name": "stdout",
     "output_type": "stream",
     "text": [
      "       interval_start_local  north_x_load  south_load  west_x_load  \\\n",
      "0 2018-01-08 06:00:00+00:00      11292.28     7720.14      3626.51   \n",
      "1 2018-01-08 07:00:00+00:00      11134.52     7540.80      3615.65   \n",
      "2 2018-01-08 08:00:00+00:00      11183.56     7529.38      3624.71   \n",
      "3 2018-01-08 09:00:00+00:00      11497.37     7687.16      3678.35   \n",
      "4 2018-01-08 10:00:00+00:00      12203.96     8053.77      3761.58   \n",
      "\n",
      "   houston_load  total_load  lmp_HB_BUSAVG  coal_and_lignite      hydro  \\\n",
      "0       8181.37    30820.31      18.535000       9942.516942  39.045263   \n",
      "1       7980.93    30271.90      18.107500      10059.864300  15.672631   \n",
      "2       7866.77    30204.42      18.019167       9912.115128  14.312730   \n",
      "3       7874.74    30737.62      18.026667       9731.137220  14.721392   \n",
      "4       8095.04    32114.36      18.192500       9950.836098  15.266061   \n",
      "\n",
      "       nuclear  ...  weekofyear_44  weekofyear_45  weekofyear_46  \\\n",
      "0  5123.325668  ...              0              0              0   \n",
      "1  5120.679174  ...              0              0              0   \n",
      "2  5120.450091  ...              0              0              0   \n",
      "3  5119.421699  ...              0              0              0   \n",
      "4  5120.852570  ...              0              0              0   \n",
      "\n",
      "   weekofyear_47  weekofyear_48  weekofyear_49  weekofyear_50  weekofyear_51  \\\n",
      "0              0              0              0              0              0   \n",
      "1              0              0              0              0              0   \n",
      "2              0              0              0              0              0   \n",
      "3              0              0              0              0              0   \n",
      "4              0              0              0              0              0   \n",
      "\n",
      "   weekofyear_52  weekofyear_53  \n",
      "0              0              0  \n",
      "1              0              0  \n",
      "2              0              0  \n",
      "3              0              0  \n",
      "4              0              0  \n",
      "\n",
      "[5 rows x 728 columns]\n"
     ]
    }
   ],
   "source": [
    "#'week of the year' dummies\n",
    "\n",
    "df['weekofyear'] = pd.to_datetime(df['interval_start_local']).dt.isocalendar().week\n",
    "\n",
    "weekofyear_dummies = pd.get_dummies(df['weekofyear'], prefix='weekofyear', drop_first=False)\n",
    "weekofyear_dummies = weekofyear_dummies.astype(int)\n",
    "\n",
    "df = pd.concat([df, weekofyear_dummies], axis=1)\n",
    "df = df.drop(['weekofyear'], axis=1)\n",
    "\n",
    "# Preview result\n",
    "print(df.head())"
   ]
  },
  {
   "cell_type": "code",
   "execution_count": 41,
   "id": "3c78447e",
   "metadata": {},
   "outputs": [],
   "source": [
    "#drop one dummy for each category to prevent multicollinearity\n",
    "df = df.drop(['weekofyear_53', 'dow_6', 'hour_23'], axis=1)"
   ]
  },
  {
   "cell_type": "code",
   "execution_count": 42,
   "id": "228deba2",
   "metadata": {},
   "outputs": [
    {
     "name": "stdout",
     "output_type": "stream",
     "text": [
      "Train set size: 43650\n",
      "Validation set size: 12385\n",
      "Test set size: 16247\n"
     ]
    }
   ],
   "source": [
    "#define date ranges for each set\n",
    "train_start = pd.Timestamp('2018-01-08 06:00:00+0000', tz='UTC')\n",
    "train_end = pd.Timestamp('2022-12-31 23:59:59+0000', tz='UTC')\n",
    "\n",
    "val_start = pd.Timestamp('2022-01-01 00:00:00+0000', tz='UTC')\n",
    "val_end = pd.Timestamp('2023-06-01 00:00:00+0000', tz='UTC')\n",
    "\n",
    "test_start = pd.Timestamp('2023-06-01 00:00:00+0000', tz='UTC')\n",
    "test_end = pd.Timestamp('2025-04-13 04:00:00+0000', tz='UTC')\n",
    "\n",
    "#filter\n",
    "train_data = df[(df['interval_start_local'] >= train_start) & (df['interval_start_local'] <= train_end)]\n",
    "val_data = df[(df['interval_start_local'] >= val_start) & (df['interval_start_local'] <= val_end)]\n",
    "test_data = df[(df['interval_start_local'] >= test_start) & (df['interval_start_local'] <= test_end)]\n",
    "\n",
    "#check dims\n",
    "print(f\"Train set size: {train_data.shape[0]}\")\n",
    "print(f\"Validation set size: {val_data.shape[0]}\")\n",
    "print(f\"Test set size: {test_data.shape[0]}\")"
   ]
  },
  {
   "cell_type": "markdown",
   "id": "6920cab4",
   "metadata": {},
   "source": [
    "Data for regression trees are not scaled since tree-based models work by splitting the data based on feature values, not by calculating distances or assuming a particular scale. "
   ]
  },
  {
   "cell_type": "code",
   "execution_count": 43,
   "id": "2117de26",
   "metadata": {},
   "outputs": [
    {
     "name": "stdout",
     "output_type": "stream",
     "text": [
      "Training data preview:\n",
      "        interval_start_local  north_x_load  south_load  west_x_load  \\\n",
      "0 2018-01-08 06:00:00+00:00      11292.28     7720.14      3626.51   \n",
      "1 2018-01-08 07:00:00+00:00      11134.52     7540.80      3615.65   \n",
      "2 2018-01-08 08:00:00+00:00      11183.56     7529.38      3624.71   \n",
      "3 2018-01-08 09:00:00+00:00      11497.37     7687.16      3678.35   \n",
      "4 2018-01-08 10:00:00+00:00      12203.96     8053.77      3761.58   \n",
      "\n",
      "   houston_load  total_load  lmp_HB_BUSAVG  coal_and_lignite      hydro  \\\n",
      "0       8181.37    30820.31      18.535000       9942.516942  39.045263   \n",
      "1       7980.93    30271.90      18.107500      10059.864300  15.672631   \n",
      "2       7866.77    30204.42      18.019167       9912.115128  14.312730   \n",
      "3       7874.74    30737.62      18.026667       9731.137220  14.721392   \n",
      "4       8095.04    32114.36      18.192500       9950.836098  15.266061   \n",
      "\n",
      "       nuclear  ...  weekofyear_43  weekofyear_44  weekofyear_45  \\\n",
      "0  5123.325668  ...              0              0              0   \n",
      "1  5120.679174  ...              0              0              0   \n",
      "2  5120.450091  ...              0              0              0   \n",
      "3  5119.421699  ...              0              0              0   \n",
      "4  5120.852570  ...              0              0              0   \n",
      "\n",
      "   weekofyear_46  weekofyear_47  weekofyear_48  weekofyear_49  weekofyear_50  \\\n",
      "0              0              0              0              0              0   \n",
      "1              0              0              0              0              0   \n",
      "2              0              0              0              0              0   \n",
      "3              0              0              0              0              0   \n",
      "4              0              0              0              0              0   \n",
      "\n",
      "   weekofyear_51  weekofyear_52  \n",
      "0              0              0  \n",
      "1              0              0  \n",
      "2              0              0  \n",
      "3              0              0  \n",
      "4              0              0  \n",
      "\n",
      "[5 rows x 725 columns]\n",
      "Validation data preview:\n",
      "            interval_start_local  north_x_load  south_load  west_x_load  \\\n",
      "34890 2022-01-01 00:00:00+00:00      14459.34    13103.45      5596.27   \n",
      "34891 2022-01-01 01:00:00+00:00      13970.72    12639.95      5511.78   \n",
      "34892 2022-01-01 02:00:00+00:00      13372.45    12072.34      5408.83   \n",
      "34893 2022-01-01 03:00:00+00:00      12811.13    11669.25      5355.48   \n",
      "34894 2022-01-01 04:00:00+00:00      12350.05    11285.73      5323.55   \n",
      "\n",
      "       houston_load  total_load  lmp_HB_BUSAVG  coal_and_lignite     hydro  \\\n",
      "34890      13287.39    46446.45      22.769167       9112.258061  5.266732   \n",
      "34891      12978.64    45101.09      23.129231       8733.367982  6.191569   \n",
      "34892      12615.06    43468.67      34.260000       9987.239456  6.281327   \n",
      "34893      12255.01    42090.86      49.278333      10655.308950  6.188673   \n",
      "34894      11865.82    40825.14      59.210000      10858.358890  6.176291   \n",
      "\n",
      "           nuclear  ...  weekofyear_43  weekofyear_44  weekofyear_45  \\\n",
      "34890  5081.719939  ...              0              0              0   \n",
      "34891  5081.014680  ...              0              0              0   \n",
      "34892  5080.439803  ...              0              0              0   \n",
      "34893  5080.548124  ...              0              0              0   \n",
      "34894  5081.251236  ...              0              0              0   \n",
      "\n",
      "       weekofyear_46  weekofyear_47  weekofyear_48  weekofyear_49  \\\n",
      "34890              0              0              0              0   \n",
      "34891              0              0              0              0   \n",
      "34892              0              0              0              0   \n",
      "34893              0              0              0              0   \n",
      "34894              0              0              0              0   \n",
      "\n",
      "       weekofyear_50  weekofyear_51  weekofyear_52  \n",
      "34890              0              0              1  \n",
      "34891              0              0              1  \n",
      "34892              0              0              1  \n",
      "34893              0              0              1  \n",
      "34894              0              0              1  \n",
      "\n",
      "[5 rows x 725 columns]\n",
      "Test data preview:\n",
      "            interval_start_local  north_x_load  south_load  west_x_load  \\\n",
      "47274 2023-06-01 00:00:00+00:00      22156.88    17099.99      7821.65   \n",
      "47275 2023-06-01 01:00:00+00:00      21028.62    16387.76      7682.02   \n",
      "47276 2023-06-01 02:00:00+00:00      20115.55    15789.61      7670.59   \n",
      "47277 2023-06-01 03:00:00+00:00      18662.33    14722.63      7496.03   \n",
      "47278 2023-06-01 04:00:00+00:00      17120.27    13650.08      7346.04   \n",
      "\n",
      "       houston_load  total_load  lmp_HB_BUSAVG  coal_and_lignite      hydro  \\\n",
      "47274      15849.51    62928.02      29.946667       9445.166667  34.791667   \n",
      "47275      15378.52    60476.92      32.785000      10232.641670   0.000000   \n",
      "47276      14849.70    58425.45      23.140833       9752.516667   0.000000   \n",
      "47277      14013.26    54894.25      19.125000       8566.958333   0.000000   \n",
      "47278      13146.06    51262.46      15.701667       6572.891667   0.000000   \n",
      "\n",
      "           nuclear  ...  weekofyear_43  weekofyear_44  weekofyear_45  \\\n",
      "47274  5016.666667  ...              0              0              0   \n",
      "47275  5019.058333  ...              0              0              0   \n",
      "47276  5018.741667  ...              0              0              0   \n",
      "47277  5019.916667  ...              0              0              0   \n",
      "47278  5019.766667  ...              0              0              0   \n",
      "\n",
      "       weekofyear_46  weekofyear_47  weekofyear_48  weekofyear_49  \\\n",
      "47274              0              0              0              0   \n",
      "47275              0              0              0              0   \n",
      "47276              0              0              0              0   \n",
      "47277              0              0              0              0   \n",
      "47278              0              0              0              0   \n",
      "\n",
      "       weekofyear_50  weekofyear_51  weekofyear_52  \n",
      "47274              0              0              0  \n",
      "47275              0              0              0  \n",
      "47276              0              0              0  \n",
      "47277              0              0              0  \n",
      "47278              0              0              0  \n",
      "\n",
      "[5 rows x 725 columns]\n"
     ]
    }
   ],
   "source": [
    "#preview the data\n",
    "print(\"Training data preview:\\n\", train_data.head())\n",
    "print(\"Validation data preview:\\n\", val_data.head())\n",
    "print(\"Test data preview:\\n\", test_data.head())"
   ]
  },
  {
   "cell_type": "markdown",
   "id": "5308007f",
   "metadata": {},
   "source": [
    "# Tuning the model"
   ]
  },
  {
   "cell_type": "markdown",
   "id": "544be65d",
   "metadata": {},
   "source": [
    "Trying out the following:\n",
    "- Binary regression decision tree\n",
    "- Bagged regression tree\n",
    "- Boosted regression tree"
   ]
  },
  {
   "cell_type": "markdown",
   "id": "bb91cdc7",
   "metadata": {},
   "source": [
    "## Binary regression decision tree"
   ]
  },
  {
   "cell_type": "code",
   "execution_count": 46,
   "id": "ff94b926",
   "metadata": {},
   "outputs": [
    {
     "name": "stdout",
     "output_type": "stream",
     "text": [
      "['interval_start_local', 'north_x_load', 'south_load', 'west_x_load', 'houston_load', 'total_load', 'lmp_HB_BUSAVG', 'coal_and_lignite', 'hydro', 'nuclear', 'power_storage', 'solar', 'wind', 'natural_gas', 'other_gen', 'coast_temp', 'east_temp', 'far_west_temp', 'north_y_temp', 'north_central_temp', 'south_central_temp', 'southern_temp', 'west_y_temp', 'hour_lag1', 'north_x_load_lag1', 'south_load_lag1', 'west_x_load_lag1', 'houston_load_lag1', 'total_load_lag1', 'lmp_HB_BUSAVG_lag1', 'coal_and_lignite_lag1', 'hydro_lag1', 'nuclear_lag1', 'power_storage_lag1', 'solar_lag1', 'wind_lag1', 'natural_gas_lag1', 'other_gen_lag1', 'coast_temp_lag1', 'east_temp_lag1', 'far_west_temp_lag1', 'north_y_temp_lag1', 'north_central_temp_lag1', 'south_central_temp_lag1', 'southern_temp_lag1', 'west_y_temp_lag1', 'hour_lag2', 'north_x_load_lag2', 'south_load_lag2', 'west_x_load_lag2', 'houston_load_lag2', 'total_load_lag2', 'lmp_HB_BUSAVG_lag2', 'coal_and_lignite_lag2', 'hydro_lag2', 'nuclear_lag2', 'power_storage_lag2', 'solar_lag2', 'wind_lag2', 'natural_gas_lag2', 'other_gen_lag2', 'coast_temp_lag2', 'east_temp_lag2', 'far_west_temp_lag2', 'north_y_temp_lag2', 'north_central_temp_lag2', 'south_central_temp_lag2', 'southern_temp_lag2', 'west_y_temp_lag2', 'hour_lag3', 'north_x_load_lag3', 'south_load_lag3', 'west_x_load_lag3', 'houston_load_lag3', 'total_load_lag3', 'lmp_HB_BUSAVG_lag3', 'coal_and_lignite_lag3', 'hydro_lag3', 'nuclear_lag3', 'power_storage_lag3', 'solar_lag3', 'wind_lag3', 'natural_gas_lag3', 'other_gen_lag3', 'coast_temp_lag3', 'east_temp_lag3', 'far_west_temp_lag3', 'north_y_temp_lag3', 'north_central_temp_lag3', 'south_central_temp_lag3', 'southern_temp_lag3', 'west_y_temp_lag3', 'hour_lag4', 'north_x_load_lag4', 'south_load_lag4', 'west_x_load_lag4', 'houston_load_lag4', 'total_load_lag4', 'lmp_HB_BUSAVG_lag4', 'coal_and_lignite_lag4', 'hydro_lag4', 'nuclear_lag4', 'power_storage_lag4', 'solar_lag4', 'wind_lag4', 'natural_gas_lag4', 'other_gen_lag4', 'coast_temp_lag4', 'east_temp_lag4', 'far_west_temp_lag4', 'north_y_temp_lag4', 'north_central_temp_lag4', 'south_central_temp_lag4', 'southern_temp_lag4', 'west_y_temp_lag4', 'hour_lag5', 'north_x_load_lag5', 'south_load_lag5', 'west_x_load_lag5', 'houston_load_lag5', 'total_load_lag5', 'lmp_HB_BUSAVG_lag5', 'coal_and_lignite_lag5', 'hydro_lag5', 'nuclear_lag5', 'power_storage_lag5', 'solar_lag5', 'wind_lag5', 'natural_gas_lag5', 'other_gen_lag5', 'coast_temp_lag5', 'east_temp_lag5', 'far_west_temp_lag5', 'north_y_temp_lag5', 'north_central_temp_lag5', 'south_central_temp_lag5', 'southern_temp_lag5', 'west_y_temp_lag5', 'hour_lag6', 'north_x_load_lag6', 'south_load_lag6', 'west_x_load_lag6', 'houston_load_lag6', 'total_load_lag6', 'lmp_HB_BUSAVG_lag6', 'coal_and_lignite_lag6', 'hydro_lag6', 'nuclear_lag6', 'power_storage_lag6', 'solar_lag6', 'wind_lag6', 'natural_gas_lag6', 'other_gen_lag6', 'coast_temp_lag6', 'east_temp_lag6', 'far_west_temp_lag6', 'north_y_temp_lag6', 'north_central_temp_lag6', 'south_central_temp_lag6', 'southern_temp_lag6', 'west_y_temp_lag6', 'hour_lag7', 'north_x_load_lag7', 'south_load_lag7', 'west_x_load_lag7', 'houston_load_lag7', 'total_load_lag7', 'lmp_HB_BUSAVG_lag7', 'coal_and_lignite_lag7', 'hydro_lag7', 'nuclear_lag7', 'power_storage_lag7', 'solar_lag7', 'wind_lag7', 'natural_gas_lag7', 'other_gen_lag7', 'coast_temp_lag7', 'east_temp_lag7', 'far_west_temp_lag7', 'north_y_temp_lag7', 'north_central_temp_lag7', 'south_central_temp_lag7', 'southern_temp_lag7', 'west_y_temp_lag7', 'hour_lag8', 'north_x_load_lag8', 'south_load_lag8', 'west_x_load_lag8', 'houston_load_lag8', 'total_load_lag8', 'lmp_HB_BUSAVG_lag8', 'coal_and_lignite_lag8', 'hydro_lag8', 'nuclear_lag8', 'power_storage_lag8', 'solar_lag8', 'wind_lag8', 'natural_gas_lag8', 'other_gen_lag8', 'coast_temp_lag8', 'east_temp_lag8', 'far_west_temp_lag8', 'north_y_temp_lag8', 'north_central_temp_lag8', 'south_central_temp_lag8', 'southern_temp_lag8', 'west_y_temp_lag8', 'hour_lag9', 'north_x_load_lag9', 'south_load_lag9', 'west_x_load_lag9', 'houston_load_lag9', 'total_load_lag9', 'lmp_HB_BUSAVG_lag9', 'coal_and_lignite_lag9', 'hydro_lag9', 'nuclear_lag9', 'power_storage_lag9', 'solar_lag9', 'wind_lag9', 'natural_gas_lag9', 'other_gen_lag9', 'coast_temp_lag9', 'east_temp_lag9', 'far_west_temp_lag9', 'north_y_temp_lag9', 'north_central_temp_lag9', 'south_central_temp_lag9', 'southern_temp_lag9', 'west_y_temp_lag9', 'hour_lag10', 'north_x_load_lag10', 'south_load_lag10', 'west_x_load_lag10', 'houston_load_lag10', 'total_load_lag10', 'lmp_HB_BUSAVG_lag10', 'coal_and_lignite_lag10', 'hydro_lag10', 'nuclear_lag10', 'power_storage_lag10', 'solar_lag10', 'wind_lag10', 'natural_gas_lag10', 'other_gen_lag10', 'coast_temp_lag10', 'east_temp_lag10', 'far_west_temp_lag10', 'north_y_temp_lag10', 'north_central_temp_lag10', 'south_central_temp_lag10', 'southern_temp_lag10', 'west_y_temp_lag10', 'hour_lag11', 'north_x_load_lag11', 'south_load_lag11', 'west_x_load_lag11', 'houston_load_lag11', 'total_load_lag11', 'lmp_HB_BUSAVG_lag11', 'coal_and_lignite_lag11', 'hydro_lag11', 'nuclear_lag11', 'power_storage_lag11', 'solar_lag11', 'wind_lag11', 'natural_gas_lag11', 'other_gen_lag11', 'coast_temp_lag11', 'east_temp_lag11', 'far_west_temp_lag11', 'north_y_temp_lag11', 'north_central_temp_lag11', 'south_central_temp_lag11', 'southern_temp_lag11', 'west_y_temp_lag11', 'hour_lag12', 'north_x_load_lag12', 'south_load_lag12', 'west_x_load_lag12', 'houston_load_lag12', 'total_load_lag12', 'lmp_HB_BUSAVG_lag12', 'coal_and_lignite_lag12', 'hydro_lag12', 'nuclear_lag12', 'power_storage_lag12', 'solar_lag12', 'wind_lag12', 'natural_gas_lag12', 'other_gen_lag12', 'coast_temp_lag12', 'east_temp_lag12', 'far_west_temp_lag12', 'north_y_temp_lag12', 'north_central_temp_lag12', 'south_central_temp_lag12', 'southern_temp_lag12', 'west_y_temp_lag12', 'hour_lag13', 'north_x_load_lag13', 'south_load_lag13', 'west_x_load_lag13', 'houston_load_lag13', 'total_load_lag13', 'lmp_HB_BUSAVG_lag13', 'coal_and_lignite_lag13', 'hydro_lag13', 'nuclear_lag13', 'power_storage_lag13', 'solar_lag13', 'wind_lag13', 'natural_gas_lag13', 'other_gen_lag13', 'coast_temp_lag13', 'east_temp_lag13', 'far_west_temp_lag13', 'north_y_temp_lag13', 'north_central_temp_lag13', 'south_central_temp_lag13', 'southern_temp_lag13', 'west_y_temp_lag13', 'hour_lag14', 'north_x_load_lag14', 'south_load_lag14', 'west_x_load_lag14', 'houston_load_lag14', 'total_load_lag14', 'lmp_HB_BUSAVG_lag14', 'coal_and_lignite_lag14', 'hydro_lag14', 'nuclear_lag14', 'power_storage_lag14', 'solar_lag14', 'wind_lag14', 'natural_gas_lag14', 'other_gen_lag14', 'coast_temp_lag14', 'east_temp_lag14', 'far_west_temp_lag14', 'north_y_temp_lag14', 'north_central_temp_lag14', 'south_central_temp_lag14', 'southern_temp_lag14', 'west_y_temp_lag14', 'hour_lag15', 'north_x_load_lag15', 'south_load_lag15', 'west_x_load_lag15', 'houston_load_lag15', 'total_load_lag15', 'lmp_HB_BUSAVG_lag15', 'coal_and_lignite_lag15', 'hydro_lag15', 'nuclear_lag15', 'power_storage_lag15', 'solar_lag15', 'wind_lag15', 'natural_gas_lag15', 'other_gen_lag15', 'coast_temp_lag15', 'east_temp_lag15', 'far_west_temp_lag15', 'north_y_temp_lag15', 'north_central_temp_lag15', 'south_central_temp_lag15', 'southern_temp_lag15', 'west_y_temp_lag15', 'hour_lag16', 'north_x_load_lag16', 'south_load_lag16', 'west_x_load_lag16', 'houston_load_lag16', 'total_load_lag16', 'lmp_HB_BUSAVG_lag16', 'coal_and_lignite_lag16', 'hydro_lag16', 'nuclear_lag16', 'power_storage_lag16', 'solar_lag16', 'wind_lag16', 'natural_gas_lag16', 'other_gen_lag16', 'coast_temp_lag16', 'east_temp_lag16', 'far_west_temp_lag16', 'north_y_temp_lag16', 'north_central_temp_lag16', 'south_central_temp_lag16', 'southern_temp_lag16', 'west_y_temp_lag16', 'hour_lag17', 'north_x_load_lag17', 'south_load_lag17', 'west_x_load_lag17', 'houston_load_lag17', 'total_load_lag17', 'lmp_HB_BUSAVG_lag17', 'coal_and_lignite_lag17', 'hydro_lag17', 'nuclear_lag17', 'power_storage_lag17', 'solar_lag17', 'wind_lag17', 'natural_gas_lag17', 'other_gen_lag17', 'coast_temp_lag17', 'east_temp_lag17', 'far_west_temp_lag17', 'north_y_temp_lag17', 'north_central_temp_lag17', 'south_central_temp_lag17', 'southern_temp_lag17', 'west_y_temp_lag17', 'hour_lag18', 'north_x_load_lag18', 'south_load_lag18', 'west_x_load_lag18', 'houston_load_lag18', 'total_load_lag18', 'lmp_HB_BUSAVG_lag18', 'coal_and_lignite_lag18', 'hydro_lag18', 'nuclear_lag18', 'power_storage_lag18', 'solar_lag18', 'wind_lag18', 'natural_gas_lag18', 'other_gen_lag18', 'coast_temp_lag18', 'east_temp_lag18', 'far_west_temp_lag18', 'north_y_temp_lag18', 'north_central_temp_lag18', 'south_central_temp_lag18', 'southern_temp_lag18', 'west_y_temp_lag18', 'hour_lag19', 'north_x_load_lag19', 'south_load_lag19', 'west_x_load_lag19', 'houston_load_lag19', 'total_load_lag19', 'lmp_HB_BUSAVG_lag19', 'coal_and_lignite_lag19', 'hydro_lag19', 'nuclear_lag19', 'power_storage_lag19', 'solar_lag19', 'wind_lag19', 'natural_gas_lag19', 'other_gen_lag19', 'coast_temp_lag19', 'east_temp_lag19', 'far_west_temp_lag19', 'north_y_temp_lag19', 'north_central_temp_lag19', 'south_central_temp_lag19', 'southern_temp_lag19', 'west_y_temp_lag19', 'hour_lag20', 'north_x_load_lag20', 'south_load_lag20', 'west_x_load_lag20', 'houston_load_lag20', 'total_load_lag20', 'lmp_HB_BUSAVG_lag20', 'coal_and_lignite_lag20', 'hydro_lag20', 'nuclear_lag20', 'power_storage_lag20', 'solar_lag20', 'wind_lag20', 'natural_gas_lag20', 'other_gen_lag20', 'coast_temp_lag20', 'east_temp_lag20', 'far_west_temp_lag20', 'north_y_temp_lag20', 'north_central_temp_lag20', 'south_central_temp_lag20', 'southern_temp_lag20', 'west_y_temp_lag20', 'hour_lag21', 'north_x_load_lag21', 'south_load_lag21', 'west_x_load_lag21', 'houston_load_lag21', 'total_load_lag21', 'lmp_HB_BUSAVG_lag21', 'coal_and_lignite_lag21', 'hydro_lag21', 'nuclear_lag21', 'power_storage_lag21', 'solar_lag21', 'wind_lag21', 'natural_gas_lag21', 'other_gen_lag21', 'coast_temp_lag21', 'east_temp_lag21', 'far_west_temp_lag21', 'north_y_temp_lag21', 'north_central_temp_lag21', 'south_central_temp_lag21', 'southern_temp_lag21', 'west_y_temp_lag21', 'hour_lag22', 'north_x_load_lag22', 'south_load_lag22', 'west_x_load_lag22', 'houston_load_lag22', 'total_load_lag22', 'lmp_HB_BUSAVG_lag22', 'coal_and_lignite_lag22', 'hydro_lag22', 'nuclear_lag22', 'power_storage_lag22', 'solar_lag22', 'wind_lag22', 'natural_gas_lag22', 'other_gen_lag22', 'coast_temp_lag22', 'east_temp_lag22', 'far_west_temp_lag22', 'north_y_temp_lag22', 'north_central_temp_lag22', 'south_central_temp_lag22', 'southern_temp_lag22', 'west_y_temp_lag22', 'hour_lag23', 'north_x_load_lag23', 'south_load_lag23', 'west_x_load_lag23', 'houston_load_lag23', 'total_load_lag23', 'lmp_HB_BUSAVG_lag23', 'coal_and_lignite_lag23', 'hydro_lag23', 'nuclear_lag23', 'power_storage_lag23', 'solar_lag23', 'wind_lag23', 'natural_gas_lag23', 'other_gen_lag23', 'coast_temp_lag23', 'east_temp_lag23', 'far_west_temp_lag23', 'north_y_temp_lag23', 'north_central_temp_lag23', 'south_central_temp_lag23', 'southern_temp_lag23', 'west_y_temp_lag23', 'hour_lag24', 'north_x_load_lag24', 'south_load_lag24', 'west_x_load_lag24', 'houston_load_lag24', 'total_load_lag24', 'lmp_HB_BUSAVG_lag24', 'coal_and_lignite_lag24', 'hydro_lag24', 'nuclear_lag24', 'power_storage_lag24', 'solar_lag24', 'wind_lag24', 'natural_gas_lag24', 'other_gen_lag24', 'coast_temp_lag24', 'east_temp_lag24', 'far_west_temp_lag24', 'north_y_temp_lag24', 'north_central_temp_lag24', 'south_central_temp_lag24', 'southern_temp_lag24', 'west_y_temp_lag24', 'hour_lag48', 'north_x_load_lag48', 'south_load_lag48', 'west_x_load_lag48', 'houston_load_lag48', 'total_load_lag48', 'lmp_HB_BUSAVG_lag48', 'coal_and_lignite_lag48', 'hydro_lag48', 'nuclear_lag48', 'power_storage_lag48', 'solar_lag48', 'wind_lag48', 'natural_gas_lag48', 'other_gen_lag48', 'coast_temp_lag48', 'east_temp_lag48', 'far_west_temp_lag48', 'north_y_temp_lag48', 'north_central_temp_lag48', 'south_central_temp_lag48', 'southern_temp_lag48', 'west_y_temp_lag48', 'hour_lag72', 'north_x_load_lag72', 'south_load_lag72', 'west_x_load_lag72', 'houston_load_lag72', 'total_load_lag72', 'lmp_HB_BUSAVG_lag72', 'coal_and_lignite_lag72', 'hydro_lag72', 'nuclear_lag72', 'power_storage_lag72', 'solar_lag72', 'wind_lag72', 'natural_gas_lag72', 'other_gen_lag72', 'coast_temp_lag72', 'east_temp_lag72', 'far_west_temp_lag72', 'north_y_temp_lag72', 'north_central_temp_lag72', 'south_central_temp_lag72', 'southern_temp_lag72', 'west_y_temp_lag72', 'hour_lag168', 'north_x_load_lag168', 'south_load_lag168', 'west_x_load_lag168', 'houston_load_lag168', 'total_load_lag168', 'lmp_HB_BUSAVG_lag168', 'coal_and_lignite_lag168', 'hydro_lag168', 'nuclear_lag168', 'power_storage_lag168', 'solar_lag168', 'wind_lag168', 'natural_gas_lag168', 'other_gen_lag168', 'coast_temp_lag168', 'east_temp_lag168', 'far_west_temp_lag168', 'north_y_temp_lag168', 'north_central_temp_lag168', 'south_central_temp_lag168', 'southern_temp_lag168', 'west_y_temp_lag168', 'hour_0', 'hour_1', 'hour_2', 'hour_3', 'hour_4', 'hour_5', 'hour_6', 'hour_7', 'hour_8', 'hour_9', 'hour_10', 'hour_11', 'hour_12', 'hour_13', 'hour_14', 'hour_15', 'hour_16', 'hour_17', 'hour_18', 'hour_19', 'hour_20', 'hour_21', 'hour_22', 'dow_0', 'dow_1', 'dow_2', 'dow_3', 'dow_4', 'dow_5', 'weekofyear_1', 'weekofyear_2', 'weekofyear_3', 'weekofyear_4', 'weekofyear_5', 'weekofyear_6', 'weekofyear_7', 'weekofyear_8', 'weekofyear_9', 'weekofyear_10', 'weekofyear_11', 'weekofyear_12', 'weekofyear_13', 'weekofyear_14', 'weekofyear_15', 'weekofyear_16', 'weekofyear_17', 'weekofyear_18', 'weekofyear_19', 'weekofyear_20', 'weekofyear_21', 'weekofyear_22', 'weekofyear_23', 'weekofyear_24', 'weekofyear_25', 'weekofyear_26', 'weekofyear_27', 'weekofyear_28', 'weekofyear_29', 'weekofyear_30', 'weekofyear_31', 'weekofyear_32', 'weekofyear_33', 'weekofyear_34', 'weekofyear_35', 'weekofyear_36', 'weekofyear_37', 'weekofyear_38', 'weekofyear_39', 'weekofyear_40', 'weekofyear_41', 'weekofyear_42', 'weekofyear_43', 'weekofyear_44', 'weekofyear_45', 'weekofyear_46', 'weekofyear_47', 'weekofyear_48', 'weekofyear_49', 'weekofyear_50', 'weekofyear_51', 'weekofyear_52']\n"
     ]
    }
   ],
   "source": [
    "print(train_data.columns.tolist())"
   ]
  },
  {
   "cell_type": "code",
   "execution_count": null,
   "id": "bfaff45e",
   "metadata": {},
   "outputs": [],
   "source": [
    "tscv = TimeSeriesSplit(n_splits=10)\n",
    "\n",
    "target_col = 'lmp_HB_BUSAVG'\n",
    "# dropping interval_start_local because relevant time features like hour, dayofweek, and weekofyear are already included, datetime stamps themselves \n",
    "# are not meaningful for decision trees\n",
    "X = train_data.drop(columns = ['interval_start_local', target_col])\n",
    "y = train_data[target_col]"
   ]
  },
  {
   "cell_type": "markdown",
   "id": "ffe9db80",
   "metadata": {},
   "source": [
    "First, estimate the model complexity of unrestrictred trees using time-series cross validation. This defines a cap to max_leaf_nodes (number of nodes) to prevent overfitting."
   ]
  },
  {
   "cell_type": "code",
   "execution_count": null,
   "id": "00a5be54",
   "metadata": {},
   "outputs": [
    {
     "name": "stdout",
     "output_type": "stream",
     "text": [
      "Average number of splits: 21797.90\n",
      "Setting max_leaf_nodes = 10899\n"
     ]
    }
   ],
   "source": [
    "#list to store the number of splits for each fold in trianing data\n",
    "num_splits_list = []\n"
   ]
  },
  {
   "cell_type": "code",
   "execution_count": null,
   "id": "284d0e27",
   "metadata": {},
   "outputs": [],
   "source": [
    "\n",
    "#Splitting training data into smaller train and validation sets in each fold for hyperparameter tuning\n",
    "for train_index, val_index in tscv.split(X):\n",
    "    X_tr, X_val = X.iloc[train_index], X.iloc[val_index]\n",
    "    y_tr, y_val = y.iloc[train_index], y.iloc[val_index]\n",
    "\n",
    "    tree = DecisionTreeRegressor(random_state=42)\n",
    "    tree.fit(X_tr, y_tr)\n",
    "\n",
    "    tree_structure = tree.tree_\n",
    "    num_splits = tree_structure.node_count - tree_structure.n_leaves\n",
    "    num_splits_list.append(num_splits)\n",
    "\n",
    "avg_splits = np.mean(num_splits_list)\n",
    "print(f\"Average number of splits: {avg_splits:.2f}\")\n",
    "\n",
    "max_leaf_nodes_limit = int((avg_splits / 2) + 1)\n",
    "print(f\"Setting max_leaf_nodes = {max_leaf_nodes_limit}\")"
   ]
  },
  {
   "cell_type": "markdown",
   "id": "3f21723f",
   "metadata": {},
   "source": [
    "Next, tuning is done to find out the best number of samples per leaf using grid search from 1 to 50."
   ]
  },
  {
   "cell_type": "code",
   "execution_count": null,
   "id": "963461ef",
   "metadata": {},
   "outputs": [],
   "source": [
    "# Tune min_samples_leaf from 1 to 50\n",
    "rmse_per_leaf_size = []\n",
    "\n",
    "for min_leaf in range(1, 51):\n",
    "    fold_rmse = []\n",
    "    for train_index, val_index in tscv.split(X):\n",
    "        X_tr, X_val = X.iloc[train_index], X.iloc[val_index]\n",
    "        y_tr, y_val = y.iloc[train_index], y.iloc[val_index]\n",
    "\n",
    "        tree = DecisionTreeRegressor(\n",
    "            min_samples_leaf=min_leaf,\n",
    "            max_leaf_nodes=max_leaf_nodes_limit,\n",
    "            random_state=42\n",
    "        )\n",
    "        tree.fit(X_tr, y_tr)\n",
    "        preds = tree.predict(X_val)\n",
    "        rmse = np.sqrt(mean_squared_error(y_val, preds))\n",
    "        fold_rmse.append(rmse)\n",
    "    \n",
    "    avg_rmse = np.mean(fold_rmse)\n",
    "    rmse_per_leaf_size.append((min_leaf, avg_rmse))"
   ]
  },
  {
   "cell_type": "code",
   "execution_count": null,
   "id": "a9d5c1ee",
   "metadata": {},
   "outputs": [],
   "source": [
    "# Best hyperparameter\n",
    "best_leaf, best_rmse = min(rmse_per_leaf_size, key=lambda x: x[1])\n",
    "print(f\"\\nBest min_samples_leaf: {best_leaf} with average RMSE: {best_rmse:.4f}\")"
   ]
  },
  {
   "cell_type": "markdown",
   "id": "0beb8ee9",
   "metadata": {},
   "source": [
    "## Boosted regression tree with LightGBM\n",
    "\n",
    "LightGBM uses leaf-wise tree growth (vs XGBoost's level-wise), which can lead to deeper trees and better accuracy, but risk for overfitting possible.\n",
    "\n",
    "LightGBM splits leaves with largest loss reduction, regardless of depth, so it favors deep uneven trees (while XGBoost splits all leaves at the current depth before moving deeper).\n",
    "\n",
    "LightGBM used in this paper: https://ieeexplore.ieee.org/document/10693001"
   ]
  },
  {
   "cell_type": "markdown",
   "id": "2a42eb36",
   "metadata": {},
   "source": [
    "# Comparing the different trees"
   ]
  },
  {
   "cell_type": "code",
   "execution_count": null,
   "id": "451623b2",
   "metadata": {},
   "outputs": [
    {
     "name": "stdout",
     "output_type": "stream",
     "text": [
      "           Model  Train RMSE\n",
      "0  Decision Tree  116.491969\n",
      "1   Bagged Trees   41.817129\n",
      "2  Boosted Trees   39.944288\n"
     ]
    }
   ],
   "source": [
    "#Final Decision Tree model (best from CV)\n",
    "tree_model = DecisionTreeRegressor(\n",
    "    min_samples_leaf=best_leaf,\n",
    "    max_leaf_nodes=max_leaf_nodes_limit,\n",
    "    random_state=42\n",
    ")\n",
    "tree_model.fit(X_train, y_train)\n",
    "\n",
    "#Final bagged model (best from OOB MAE tuning)\n",
    "bagged_model = BaggingRegressor(\n",
    "    estimator=DecisionTreeRegressor(),\n",
    "    n_estimators=int(best_n_trees['n_trees']),  # based on OOB MAE tuning\n",
    "    oob_score=True,\n",
    "    bootstrap=True,\n",
    "    random_state=42,\n",
    "    n_jobs=-1\n",
    ")\n",
    "bagged_model.fit(X_train, y_train)\n",
    "\n",
    "# Final Boosted Tree model (best from tuning)\n",
    "boosted_model = GradientBoostingRegressor(\n",
    "    learning_rate=best_lr,\n",
    "    n_estimators=n_estimators,\n",
    "    max_depth=int(np.log2(max_splits + 1)),\n",
    "    loss='squared_error',\n",
    "    random_state=42\n",
    ")\n",
    "boosted_model.fit(X_train, y_train)\n",
    "\n",
    "#Predict on training data\n",
    "tree_preds_train = tree_model.predict(X_train)\n",
    "bagged_preds_train = bagged_model.predict(X_train)\n",
    "boosted_preds_train = boosted_model.predict(X_train)\n",
    "\n",
    "#Compare MAE\n",
    "tree_mae = np.sqrt(mean_absolute_error(y_train, tree_preds_train))\n",
    "bagged_mae = np.sqrt(mean_absolute_error(y_train, bagged_preds_train))\n",
    "boosted_mae = np.sqrt(mean_absolute_error(y_train, boosted_preds_train))\n",
    "\n",
    "#Compute RMSE\n",
    "tree_rmse = np.sqrt(mean_squared_error(y_train, tree_preds_train))\n",
    "bagged_rmse = np.sqrt(mean_squared_error(y_train, bagged_preds_train))\n",
    "boosted_rmse = np.sqrt(mean_squared_error(y_train, boosted_preds_train))\n",
    "\n",
    "comparison_df = pd.DataFrame({\n",
    "    \"Model\": [\"Decision Tree\", \"Bagged Trees\", \"Boosted Trees\"],\n",
    "    \"Train RMSE\": [tree_rmse, bagged_rmse, boosted_rmse]\n",
    "})\n",
    "\n",
    "print(comparison_df)"
   ]
  }
 ],
 "metadata": {
  "kernelspec": {
   "display_name": ".venv",
   "language": "python",
   "name": "python3"
  },
  "language_info": {
   "codemirror_mode": {
    "name": "ipython",
    "version": 3
   },
   "file_extension": ".py",
   "mimetype": "text/x-python",
   "name": "python",
   "nbconvert_exporter": "python",
   "pygments_lexer": "ipython3",
   "version": "3.13.1"
  }
 },
 "nbformat": 4,
 "nbformat_minor": 5
}
