{
  "nbformat": 4,
  "nbformat_minor": 0,
  "metadata": {
    "colab": {
      "provenance": [],
      "authorship_tag": "ABX9TyNXbG+99PG4OqEWF7hnE4Fd",
      "include_colab_link": true
    },
    "kernelspec": {
      "name": "python3",
      "display_name": "Python 3"
    },
    "language_info": {
      "name": "python"
    }
  },
  "cells": [
    {
      "cell_type": "markdown",
      "metadata": {
        "id": "view-in-github",
        "colab_type": "text"
      },
      "source": [
        "<a href=\"https://colab.research.google.com/github/jessalynlc/IDS705_final_project/blob/main/data_scrape.ipynb\" target=\"_parent\"><img src=\"https://colab.research.google.com/assets/colab-badge.svg\" alt=\"Open In Colab\"/></a>"
      ]
    },
    {
      "cell_type": "code",
      "source": [
        "import time\n",
        "import requests\n",
        "import json\n",
        "import pandas as pd\n",
        "import numpy as np"
      ],
      "metadata": {
        "id": "2heElnmwNTgJ"
      },
      "execution_count": 1,
      "outputs": []
    },
    {
      "cell_type": "code",
      "execution_count": null,
      "metadata": {
        "id": "5tgXUD_Su9JK"
      },
      "outputs": [],
      "source": [
        "api_key = 'd70a0d83e1a942578e16b2ed70dab42f'\n",
        "\n",
        "#pulling data for ERCOT\n",
        "ercot_load_forecast_dam = 'https://api.gridstatus.io/v1/datasets/ercot_load_forecast_dam/query?api_key=' + api_key + '&limit=1000'\n",
        "load = 'https://api.gridstatus.io/v1/datasets/ercot_load/query?api_key=' + api_key + '&limit=1000'\n",
        "ercot_unplanned_resource_outages = 'https://api.gridstatus.io/v1/datasets/ercot_unplanned_resource_outages/query?api_key=' + api_key + '&limit=1000'\n",
        "ercot_fuel_mix = 'https://api.gridstatus.io/v1/datasets/ercot_fuel_mix/query?api_key=' + api_key + '&limit=1000'\n",
        "ercot_solar_actual_and_forecast_hourly = 'https://api.gridstatus.io/v1/datasets/ercot_solar_actual_and_forecast_hourly/query?api_key=' + api_key + '&limit=1000'\n",
        "ercot_temperature_forecast_by_weather_zone = 'https://api.gridstatus.io/v1/datasets/ercot_temperature_forecast_by_weather_zone/query?api_key=' + api_key + '&limit=1000'\n",
        "ercot_energy_storage_resources = 'https://api.gridstatus.io/v1/datasets/ercot_energy_storage_resources/query?api_key=' + api_key + '&limit=1000'\n",
        "\n",
        "\n",
        "#LMP price pull (target)\n",
        "#Pulling LMP at the average of all the hubs\n",
        "ercot_lmp_by_settlement_point = 'https://api.gridstatus.io/v1/datasets/ercot_lmp_by_settlement_point/query/location/HB_HUBAVG?api_key=' + api_key + '&limit=1000'\n",
        "\n",
        "#Other hubs incase we want to forecast them, but sticking with the bus average:HB_CENTRAL, HB_EAST, HB_HOUSTON, HB_BUSAVG, HB_NORTH, HB_PAN, HB_SOUTH HB_WEST"
      ]
    },
    {
      "cell_type": "markdown",
      "source": [
        "#Data Pull"
      ],
      "metadata": {
        "id": "Ky4mUApWD5y3"
      }
    },
    {
      "cell_type": "code",
      "source": [
        "WAIT_TIME = 1  # seconds\n",
        "\n",
        "response = requests.get(ercot_load_forecast_dam)\n",
        "ercot_load_forecast_dam_data = response.json()\n",
        "time.sleep(WAIT_TIME)\n",
        "\n",
        "response = requests.get(load)\n",
        "load_data = response.json()\n",
        "time.sleep(WAIT_TIME)\n",
        "\n",
        "response = requests.get(ercot_unplanned_resource_outages)\n",
        "ercot_unplanned_resource_outages_data = response.json()\n",
        "time.sleep(WAIT_TIME)\n",
        "\n",
        "response = requests.get(ercot_fuel_mix)\n",
        "ercot_fuel_mix_data = response.json()\n",
        "time.sleep(WAIT_TIME)\n",
        "\n",
        "response = requests.get(ercot_solar_actual_and_forecast_hourly)\n",
        "ercot_solar_actual_and_forecast_hourly_data = response.json()\n",
        "time.sleep(WAIT_TIME)\n",
        "\n",
        "response = requests.get(ercot_temperature_forecast_by_weather_zone)\n",
        "ercot_temperature_forecast_by_weather_zone_data = response.json()\n",
        "time.sleep(WAIT_TIME)\n",
        "\n",
        "response = requests.get(ercot_energy_storage_resources)\n",
        "ercot_energy_storage_resources_data = response.json()\n",
        "time.sleep(WAIT_TIME)\n",
        "\n",
        "response = requests.get(ercot_lmp_by_settlement_point)\n",
        "ercot_lmp_by_settlement_point_data = response.json()\n",
        "\n",
        "#Question: Not all the datasets start at the same time, but I almost wonder if it's interesting to see how the model performs as more data gets added as time progresses..."
      ],
      "metadata": {
        "id": "8RjicqhpAMXI"
      },
      "execution_count": null,
      "outputs": []
    },
    {
      "cell_type": "markdown",
      "source": [
        "##Organizing data frame"
      ],
      "metadata": {
        "id": "2kZC87atD9Uo"
      }
    },
    {
      "cell_type": "code",
      "source": [
        "#extracting the value of the data key to create a list of dictionaries\n",
        "ercot_load_forecast_dam_records = ercot_load_forecast_dam_data['data']\n",
        "load_records = load_data['data']\n",
        "ercot_unplanned_resource_outages_records = ercot_unplanned_resource_outages_data['data']\n",
        "ercot_fuel_mix_records = ercot_fuel_mix_data['data']\n",
        "ercot_solar_actual_and_forecast_hourly_records = ercot_solar_actual_and_forecast_hourly_data['data']\n",
        "ercot_temperature_forecast_by_weather_zone_records = ercot_temperature_forecast_by_weather_zone_data['data']\n",
        "ercot_energy_storage_resources_records = ercot_energy_storage_resources_data['data']\n",
        "ercot_lmp_by_settlement_point_records = ercot_lmp_by_settlement_point_data['data']\n",
        "\n",
        "# Create separate data frames\n",
        "ercot_load_forecast_dam_df = pd.DataFrame(ercot_load_forecast_dam_records)\n",
        "load_df = pd.DataFrame(load_records)\n",
        "ercot_unplanned_resource_outages_df = pd.DataFrame(ercot_unplanned_resource_outages_records)\n",
        "ercot_fuel_mix_df = pd.DataFrame(ercot_fuel_mix_records)\n",
        "ercot_solar_actual_and_forecast_hourly_df = pd.DataFrame(ercot_solar_actual_and_forecast_hourly_records)\n",
        "ercot_temperature_forecast_by_weather_zone_df = pd.DataFrame(ercot_temperature_forecast_by_weather_zone_records)\n",
        "ercot_energy_storage_resources_df = pd.DataFrame(ercot_energy_storage_resources_records)\n",
        "ercot_lmp_by_settlement_point_records_df = pd.DataFrame(ercot_lmp_by_settlement_point_records)\n",
        "\n",
        "# Put all DataFrames in a list\n",
        "dataframes = [\n",
        "    ercot_load_forecast_dam_df,\n",
        "    load_df,\n",
        "    #ercot_unplanned_resource_outages_df, commenting out for now, have to think about how to add this to master\n",
        "    ercot_fuel_mix_df,\n",
        "    ercot_solar_actual_and_forecast_hourly_df,\n",
        "    ercot_temperature_forecast_by_weather_zone_df,\n",
        "    ercot_energy_storage_resources_df,\n",
        "    ercot_lmp_by_settlement_point_records_df\n",
        "]\n",
        "\n",
        "#Standardize timestamps and collect time deltas\n",
        "min_intervals = []\n",
        "for i in range(len(dataframes)):\n",
        "  df = dataframes[i].copy()\n",
        "\n",
        "  # Rename time_utc to interval_start_utc if present, I think this is only for ercot_temperature_forecast_by_weather_zone_df\n",
        "  if 'time_utc' in df.columns:\n",
        "    df = df.rename(columns={'time_utc': 'interval_start_utc'})\n",
        "\n",
        "  # Convert timestamps\n",
        "  df['interval_start_utc'] = pd.to_datetime(df['interval_start_utc'])\n",
        "\n",
        "  # Convert and inspect time delta if end time exists\n",
        "  if 'interval_end_utc' in df.columns:\n",
        "    df['interval_end_utc'] = pd.to_datetime(df['interval_end_utc'])\n",
        "    deltas = (df['interval_end_utc'] - df['interval_start_utc']).dropna()\n",
        "    if not deltas.empty:\n",
        "      min_intervals.append(deltas.min())\n",
        "\n",
        "  dataframes[i] = df\n",
        "\n",
        "#Find smallest interval (e.g., 5 minutes)\n",
        "smallest_interval = min(min_intervals)\n",
        "print(f\"Smallest interval detected: {smallest_interval}\")\n",
        "\n",
        "#Create master time index\n",
        "all_times = pd.concat([df['interval_start_utc'] for df in dataframes])\n",
        "time_index = pd.date_range(start=all_times.min(), end=all_times.max(), freq=smallest_interval)\n",
        "master_df = pd.DataFrame({'interval_start_utc': time_index})\n",
        "\n",
        "#Drop original interval_end_utc and merge\n",
        "for df in dataframes:\n",
        "    if 'interval_end_utc' in df.columns:\n",
        "        df = df.drop(columns='interval_end_utc')\n",
        "    master_df = master_df.merge(df, on='interval_start_utc', how='left')\n",
        "\n",
        "#Add consistent interval_end_utc\n",
        "master_df['interval_end_utc'] = master_df['interval_start_utc'] + smallest_interval\n",
        "\n",
        "print(master_df.head())\n",
        "print(master_df.shape)"
      ],
      "metadata": {
        "colab": {
          "base_uri": "https://localhost:8080/"
        },
        "id": "UKv5lZljCaUQ",
        "outputId": "be5f8339-cea6-4dff-ea13-fa176b9e01d7"
      },
      "execution_count": null,
      "outputs": [
        {
          "output_type": "stream",
          "name": "stdout",
          "text": [
            "Smallest interval detected: 0 days 00:05:00\n",
            "         interval_start_utc publish_time_utc_x  north_x  south  west_x  \\\n",
            "0 2010-11-30 06:00:00+00:00                NaN      NaN    NaN     NaN   \n",
            "1 2010-11-30 06:00:00+00:00                NaN      NaN    NaN     NaN   \n",
            "2 2010-11-30 06:00:00+00:00                NaN      NaN    NaN     NaN   \n",
            "3 2010-11-30 06:00:00+00:00                NaN      NaN    NaN     NaN   \n",
            "4 2010-11-30 06:05:00+00:00                NaN      NaN    NaN     NaN   \n",
            "\n",
            "   houston  system_total  load  coal_and_lignite  hydro  ...  west_y  \\\n",
            "0      NaN           NaN   NaN               NaN    NaN  ...     NaN   \n",
            "1      NaN           NaN   NaN               NaN    NaN  ...     NaN   \n",
            "2      NaN           NaN   NaN               NaN    NaN  ...     NaN   \n",
            "3      NaN           NaN   NaN               NaN    NaN  ...     NaN   \n",
            "4      NaN           NaN   NaN               NaN    NaN  ...     NaN   \n",
            "\n",
            "   total_charging  total_discharging  net_output         sced_timestamp_utc  \\\n",
            "0             NaN                NaN         NaN  2010-11-30T06:00:36+00:00   \n",
            "1             NaN                NaN         NaN  2010-11-30T06:02:08+00:00   \n",
            "2             NaN                NaN         NaN  2010-11-30T06:03:27+00:00   \n",
            "3             NaN                NaN         NaN  2010-11-30T06:04:02+00:00   \n",
            "4             NaN                NaN         NaN  2010-11-30T06:05:14+00:00   \n",
            "\n",
            "           market   location  location_type    lmp          interval_end_utc  \n",
            "0  REAL_TIME_SCED  HB_HUBAVG    Trading Hub   4.46 2010-11-30 06:05:00+00:00  \n",
            "1  REAL_TIME_SCED  HB_HUBAVG    Trading Hub   4.46 2010-11-30 06:05:00+00:00  \n",
            "2  REAL_TIME_SCED  HB_HUBAVG    Trading Hub   4.46 2010-11-30 06:05:00+00:00  \n",
            "3  REAL_TIME_SCED  HB_HUBAVG    Trading Hub   4.46 2010-11-30 06:05:00+00:00  \n",
            "4  REAL_TIME_SCED  HB_HUBAVG    Trading Hub  18.73 2010-11-30 06:10:00+00:00  \n",
            "\n",
            "[5 rows x 40 columns]\n",
            "(1372033, 40)\n"
          ]
        }
      ]
    },
    {
      "cell_type": "markdown",
      "source": [
        "#DATA PULL V2"
      ],
      "metadata": {
        "id": "amosuf_BQcfV"
      }
    },
    {
      "cell_type": "code",
      "source": [
        "#RT load data\n",
        "load_url = \"https://raw.githubusercontent.com/jessalynlc/IDS705_final_project/main/Raw_Data/ercot_load_by_forecast_zone.csv\"\n",
        "\n",
        "#RT LMP data\n",
        "busavg_1_url = \"https://raw.githubusercontent.com/jessalynlc/IDS705_final_project/main/Raw_Data/HB_BUSAVG_LMP_Jan12018-Jan12019.csv\"\n",
        "busavg_2_url = \"https://raw.githubusercontent.com/jessalynlc/IDS705_final_project/main/Raw_Data/HB_BUSAVG_LMP_Jan12019-Jan12020.csv\"\n",
        "busavg_3_url = \"https://raw.githubusercontent.com/jessalynlc/IDS705_final_project/main/Raw_Data/HB_BUSAVG_LMP_Jan12020-Dec312020.csv\"\n",
        "busavg_4_url = \"https://raw.githubusercontent.com/jessalynlc/IDS705_final_project/main/Raw_Data/HB_BUS_AVG_LMP_Dec312020-Dec312021.csv\"\n",
        "busavg_5_url = \"https://raw.githubusercontent.com/jessalynlc/IDS705_final_project/main/Raw_Data/HB_BUS_AVG_LMP_Dec312021-Dec312022.csv\"\n",
        "busavg_6_url = \"https://raw.githubusercontent.com/jessalynlc/IDS705_final_project/main/Raw_Data/HB_BUS_AVG_LMP_Dec312022-Dec312023.csv\"\n",
        "#don't forget to delete Dec 30 data from here because it's in last data file!\n",
        "busavg_7_url = \"https://raw.githubusercontent.com/jessalynlc/IDS705_final_project/main/Raw_Data/HB_BUS_AVG_LMP_Dec302023-Dec292024.csv\"\n",
        "busavg_8_url = \"https://raw.githubusercontent.com/jessalynlc/IDS705_final_project/main/Raw_Data/HB_BUS_AVG_LMP_Dec292024_Apr132025.csv\"\n",
        "\n",
        "#fuel mix data\n",
        "fuelmix_1_url = \"https://raw.githubusercontent.com/jessalynlc/IDS705_final_project/main/Raw_Data/fuel_mix_Jan12018-Jan12019.csv\"\n",
        "fuelmix_2_url = \"https://raw.githubusercontent.com/jessalynlc/IDS705_final_project/main/Raw_Data/fuel_mix_Jan12019-Jan12020.csv\"\n",
        "fuelmix_3_url = \"https://raw.githubusercontent.com/jessalynlc/IDS705_final_project/main/Raw_Data/fuel_mix_Jan12020_Dec312020.csv\"\n",
        "fuelmix_4_url = \"https://raw.githubusercontent.com/jessalynlc/IDS705_final_project/main/Raw_Data/fuel_mix_Dec312020_Dec312021.csv\"\n",
        "fuelmix_5_url = \"https://raw.githubusercontent.com/jessalynlc/IDS705_final_project/main/Raw_Data/fuel_mix_Dec312021-Dec312022.csv\"\n",
        "fuelmix_6_url = \"https://raw.githubusercontent.com/jessalynlc/IDS705_final_project/main/Raw_Data/fuel_mix_Dec312022-Dec312023.csv\"\n",
        "fuelmix_7_url = \"https://raw.githubusercontent.com/jessalynlc/IDS705_final_project/main/Raw_Data/fuel_mix_Dec312023-Dec302024.csv\"\n",
        "fuelmix_8_url = \"https://raw.githubusercontent.com/jessalynlc/IDS705_final_project/main/Raw_Data/fuel_mix_Dec302024-Apr132025.csv\"\n",
        "\n",
        "#temp data\n",
        "temp_1_url = \"https://raw.githubusercontent.com/jessalynlc/IDS705_final_project/main/Raw_Data/temp_Jan12018-Jan12019.csv\"\n",
        "temp_2_url = \"https://raw.githubusercontent.com/jessalynlc/IDS705_final_project/main/Raw_Data/temp_Jan12019-Jan12020.csv\"\n",
        "temp_3_url = \"https://raw.githubusercontent.com/jessalynlc/IDS705_final_project/main/Raw_Data/temp_Jan12020-Dec312020.csv\"\n",
        "temp_4_url = \"https://raw.githubusercontent.com/jessalynlc/IDS705_final_project/main/Raw_Data/temp_Dec312020-Dec312021.csv\"\n",
        "temp_5_url = \"https://raw.githubusercontent.com/jessalynlc/IDS705_final_project/main/Raw_Data/temp_Dec312021-Dec312022.csv\"\n",
        "temp_6_url = \"https://raw.githubusercontent.com/jessalynlc/IDS705_final_project/main/Raw_Data/temp_Dec312022-Dec312023.csv\"\n",
        "temp_7_url = \"https://raw.githubusercontent.com/jessalynlc/IDS705_final_project/main/Raw_Data/temp_Dec312023-Dec302024.csv\"\n",
        "temp_8_url = \"https://raw.githubusercontent.com/jessalynlc/IDS705_final_project/main/Raw_Data/temp_Dec302024-Apr132025.csv\"\n"
      ],
      "metadata": {
        "id": "NwX5vsxfQbZ9"
      },
      "execution_count": 8,
      "outputs": []
    },
    {
      "cell_type": "code",
      "source": [
        "load = pd.read_csv(load_url)\n",
        "\n",
        "busavg_1 = pd.read_csv(busavg_1_url)\n",
        "busavg_2 = pd.read_csv(busavg_2_url)\n",
        "busavg_3 = pd.read_csv(busavg_3_url)\n",
        "busavg_4 = pd.read_csv(busavg_4_url)\n",
        "busavg_5 = pd.read_csv(busavg_5_url)\n",
        "busavg_6 = pd.read_csv(busavg_6_url)\n",
        "busavg_7 = pd.read_csv(busavg_7_url)\n",
        "busavg_8 = pd.read_csv(busavg_8_url)\n",
        "\n",
        "fuelmix_1 = pd.read_csv(fuelmix_1_url)\n",
        "fuelmix_2 = pd.read_csv(fuelmix_2_url)\n",
        "fuelmix_3 = pd.read_csv(fuelmix_3_url)\n",
        "fuelmix_4 = pd.read_csv(fuelmix_4_url)\n",
        "fuelmix_5 = pd.read_csv(fuelmix_5_url)\n",
        "fuelmix_6 = pd.read_csv(fuelmix_6_url)\n",
        "fuelmix_7 = pd.read_csv(fuelmix_7_url)\n",
        "fuelmix_8 = pd.read_csv(fuelmix_8_url)\n",
        "\n",
        "temp_1 = pd.read_csv(temp_1_url)\n",
        "temp_2 = pd.read_csv(temp_2_url)\n",
        "temp_3 = pd.read_csv(temp_3_url)\n",
        "temp_4 = pd.read_csv(temp_4_url)\n",
        "temp_5 = pd.read_csv(temp_5_url)\n",
        "temp_6 = pd.read_csv(temp_6_url)\n",
        "temp_7 = pd.read_csv(temp_7_url)\n",
        "temp_8 = pd.read_csv(temp_8_url)\n"
      ],
      "metadata": {
        "id": "DhxuQU2KXWWd"
      },
      "execution_count": 29,
      "outputs": []
    },
    {
      "cell_type": "code",
      "source": [
        "#combining csv files\n",
        "\n",
        "#cleaning this file because have an overlapping day\n",
        "busavg_7_temp = busavg_7.drop(index=range(24))\n",
        "busavg_lmp = pd.concat([busavg_1, busavg_2, busavg_3, busavg_4, busavg_5, busavg_6, busavg_7_temp, busavg_8])\n",
        "\n",
        "fuel_mix = pd.concat([fuelmix_1, fuelmix_2, fuelmix_3, fuelmix_4, fuelmix_5, fuelmix_6, fuelmix_7, fuelmix_8])\n",
        "\n",
        "temp = pd.concat([temp_1, temp_2, temp_3, temp_4, temp_5, temp_6, temp_7, temp_8])"
      ],
      "metadata": {
        "id": "v0cddcsXXrSP"
      },
      "execution_count": 30,
      "outputs": []
    },
    {
      "cell_type": "code",
      "source": [
        "#num of rows should match\n",
        "print(load.shape)\n",
        "print(busavg_lmp.shape)\n",
        "print(fuel_mix.shape)\n",
        "print(temp.shape)"
      ],
      "metadata": {
        "colab": {
          "base_uri": "https://localhost:8080/"
        },
        "id": "FfbzGq6AYy-z",
        "outputId": "f9054356-84aa-4c75-b9b0-d071fed4b4a4"
      },
      "execution_count": 34,
      "outputs": [
        {
          "output_type": "stream",
          "name": "stdout",
          "text": [
            "(63689, 9)\n",
            "(63815, 6)\n",
            "(63815, 12)\n",
            "(160461, 14)\n"
          ]
        }
      ]
    }
  ]
}