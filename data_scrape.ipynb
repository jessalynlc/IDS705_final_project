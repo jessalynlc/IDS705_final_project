{
  "nbformat": 4,
  "nbformat_minor": 0,
  "metadata": {
    "colab": {
      "provenance": [],
      "authorship_tag": "ABX9TyMySlgB/4t3egtSoR1+hCzt",
      "include_colab_link": true
    },
    "kernelspec": {
      "name": "python3",
      "display_name": "Python 3"
    },
    "language_info": {
      "name": "python"
    }
  },
  "cells": [
    {
      "cell_type": "markdown",
      "metadata": {
        "id": "view-in-github",
        "colab_type": "text"
      },
      "source": [
        "<a href=\"https://colab.research.google.com/github/jessalynlc/IDS705_final_project/blob/main/data_scrape.ipynb\" target=\"_parent\"><img src=\"https://colab.research.google.com/assets/colab-badge.svg\" alt=\"Open In Colab\"/></a>"
      ]
    },
    {
      "cell_type": "code",
      "execution_count": 24,
      "metadata": {
        "id": "5tgXUD_Su9JK"
      },
      "outputs": [],
      "source": [
        "import requests\n",
        "import json\n",
        "import pandas as pd\n",
        "import numpy as np\n",
        "\n",
        "api_key = 'd70a0d83e1a942578e16b2ed70dab42f'\n",
        "\n",
        "#pulling data for ERCOT\n",
        "ercot_load_forecast_dam = 'https://api.gridstatus.io/v1/datasets/ercot_load_forecast_dam/query?api_key=' + api_key + '&limit=1000'\n",
        "load = 'https://api.gridstatus.io/v1/datasets/ercot_load/query?api_key=' + api_key + '&limit=1000'\n",
        "ercot_unplanned_resource_outages = 'https://api.gridstatus.io/v1/datasets/ercot_unplanned_resource_outages/query?api_key=' + api_key + '&limit=1000'\n",
        "ercot_fuel_mix = 'https://api.gridstatus.io/v1/datasets/ercot_fuel_mix/query?api_key=' + api_key + '&limit=1000'\n",
        "ercot_solar_actual_and_forecast_hourly = 'https://api.gridstatus.io/v1/datasets/ercot_solar_actual_and_forecast_hourly/query?api_key=' + api_key + '&limit=1000'\n",
        "ercot_temperature_forecast_by_weather_zone = 'https://api.gridstatus.io/v1/datasets/ercot_temperature_forecast_by_weather_zone/query?api_key=' + api_key + '&limit=1000'\n",
        "ercot_energy_storage_resources = 'https://api.gridstatus.io/v1/datasets/ercot_energy_storage_resources/query?api_key=' + api_key + '&limit=1000'\n",
        "\n",
        "\n",
        "#LMP price pull (target)\n",
        "#Pulling LMP at the average of all the hubs\n",
        "ercot_lmp_by_settlement_point = 'https://api.gridstatus.io/v1/datasets/ercot_lmp_by_settlement_point/query/location/HB_HUBAVG?api_key=' + api_key + '&limit=1000'\n",
        "\n",
        "#Other hubs incase we want to forecast them, but sticking with the bus average:HB_CENTRAL, HB_EAST, HB_HOUSTON, HB_BUSAVG, HB_NORTH, HB_PAN, HB_SOUTH HB_WEST"
      ]
    },
    {
      "cell_type": "markdown",
      "source": [
        "#Data Pull"
      ],
      "metadata": {
        "id": "Ky4mUApWD5y3"
      }
    },
    {
      "cell_type": "code",
      "source": [
        "response = requests.get(ercot_load_forecast_dam)\n",
        "ercot_load_forecast_dam_data = response.json()\n",
        "\n",
        "response = requests.get(load)\n",
        "load_data = response.json()\n",
        "\n",
        "response = requests.get(ercot_unplanned_resource_outages)\n",
        "ercot_unplanned_resource_outages_data = response.json()\n",
        "\n",
        "response = requests.get(ercot_fuel_mix)\n",
        "ercot_fuel_mix_data = response.json()\n",
        "\n",
        "response = requests.get(ercot_solar_actual_and_forecast_hourly)\n",
        "ercot_solar_actual_and_forecast_hourly_data = response.json()\n",
        "\n",
        "response = requests.get(ercot_temperature_forecast_by_weather_zone)\n",
        "ercot_temperature_forecast_by_weather_zone_data = response.json()\n",
        "\n",
        "response = requests.get(ercot_energy_storage_resources)\n",
        "ercot_energy_storage_resources_data = response.json()\n",
        "\n",
        "response = requests.get(ercot_lmp_by_settlement_point)\n",
        "ercot_lmp_by_settlement_point_data = response.json()\n",
        "\n",
        "#Question: Not all the datasets start at the same time, but I almost wonder if it's interesting to see how the model performs as more data gets added as time progresses..."
      ],
      "metadata": {
        "id": "8RjicqhpAMXI"
      },
      "execution_count": 30,
      "outputs": []
    },
    {
      "cell_type": "markdown",
      "source": [
        "#Organizing data frame"
      ],
      "metadata": {
        "id": "2kZC87atD9Uo"
      }
    },
    {
      "cell_type": "code",
      "source": [
        "#extracting the value of the data key to create a list of dictionaries\n",
        "ercot_load_forecast_dam_records = ercot_load_forecast_dam_data['data']\n",
        "load_records = load_data['data']\n",
        "ercot_unplanned_resource_outages_records = ercot_unplanned_resource_outages_data['data']\n",
        "ercot_fuel_mix_records = ercot_fuel_mix_data['data']\n",
        "ercot_solar_actual_and_forecast_hourly_records = ercot_solar_actual_and_forecast_hourly_data['data']\n",
        "ercot_temperature_forecast_by_weather_zone_records = ercot_temperature_forecast_by_weather_zone_data['data']\n",
        "ercot_energy_storage_resources_records = ercot_energy_storage_resources_data['data']\n",
        "ercot_lmp_by_settlement_point_records = ercot_lmp_by_settlement_point_data['data']\n",
        "\n",
        "# Create separate data frames\n",
        "ercot_load_forecast_dam_df = pd.DataFrame(ercot_load_forecast_dam_records)\n",
        "load_df = pd.DataFrame(load_records)\n",
        "ercot_unplanned_resource_outages_df = pd.DataFrame(ercot_unplanned_resource_outages_records)\n",
        "ercot_fuel_mix_df = pd.DataFrame(ercot_fuel_mix_records)\n",
        "ercot_solar_actual_and_forecast_hourly_df = pd.DataFrame(ercot_solar_actual_and_forecast_hourly_records)\n",
        "ercot_temperature_forecast_by_weather_zone_df = pd.DataFrame(ercot_temperature_forecast_by_weather_zone_records)\n",
        "ercot_energy_storage_resources_df = pd.DataFrame(ercot_energy_storage_resources_records)\n",
        "ercot_lmp_by_settlement_point_records_df = pd.DataFrame(ercot_lmp_by_settlement_point_records)\n",
        "\n",
        "#Combine data frames based on time\n",
        "# Put all your DataFrames in a list\n",
        "dataframes = [\n",
        "    ercot_load_forecast_dam_df,\n",
        "    load_df,\n",
        "    ercot_unplanned_resource_outages_df,\n",
        "    ercot_fuel_mix_df,\n",
        "    ercot_solar_actual_and_forecast_hourly_df,\n",
        "    ercot_temperature_forecast_by_weather_zone_df,\n",
        "    ercot_energy_storage_resources_df,\n",
        "    #ercot_lmp_by_settlement_point_records_df\n",
        "]\n",
        "\n",
        "#Convert timestamps to datetime\n",
        "for i, df in enumerate(dataframes):\n",
        "  if 'interval_start_utc' in df.columns:\n",
        "    df['interval_start_utc'] = pd.to_datetime(df['interval_start_utc'])\n",
        "  if 'interval_end_utc' in df.columns:\n",
        "    df['interval_end_utc'] = pd.to_datetime(df['interval_end_utc'])\n",
        "  dataframes[i] = df\n",
        "\n",
        "#Find the minimum interval across all datasets\n",
        "min_intervals = []\n",
        "for df in dataframes:\n",
        "  if 'interval_start_utc' in df.columns and 'interval_end_utc' in df.columns:\n",
        "    deltas = (df['interval_end_utc'] - df['interval_start_utc']).dropna()\n",
        "    if not deltas.empty:\n",
        "      min_intervals.append(deltas.min())\n",
        "\n",
        "# Determine smallest common time delta\n",
        "smallest_interval = min(min_intervals)\n",
        "print(f\"Smallest interval: {smallest_interval}\")\n",
        "\n",
        "#Build master time index from earliest to latest across all data\n",
        "all_times = pd.concat([df['interval_start_utc'] for df in dataframes if 'interval_start_utc' in df.columns])\n",
        "time_index = pd.date_range(start=all_times.min(), end=all_times.max(), freq=smallest_interval)\n",
        "\n",
        "# Create the master DataFrame to merge onto\n",
        "master_df = pd.DataFrame({'interval_start_utc': time_index})\n",
        "\n",
        "#Merge each DataFrame onto master\n",
        "for df in dataframes:\n",
        "    if 'interval_start_utc' in df.columns:\n",
        "        master_df = master_df.merge(df, on='interval_start_utc', how='left')\n",
        "\n",
        "print(master_df.head())\n",
        "print(master_df.shape)"
      ],
      "metadata": {
        "colab": {
          "base_uri": "https://localhost:8080/",
          "height": 211
        },
        "id": "UKv5lZljCaUQ",
        "outputId": "12bbe742-9045-4a85-ad20-32195239e945"
      },
      "execution_count": 31,
      "outputs": [
        {
          "output_type": "error",
          "ename": "KeyError",
          "evalue": "'data'",
          "traceback": [
            "\u001b[0;31m---------------------------------------------------------------------------\u001b[0m",
            "\u001b[0;31mKeyError\u001b[0m                                  Traceback (most recent call last)",
            "\u001b[0;32m<ipython-input-31-bf0b578ef62e>\u001b[0m in \u001b[0;36m<cell line: 0>\u001b[0;34m()\u001b[0m\n\u001b[1;32m      2\u001b[0m \u001b[0mercot_load_forecast_dam_records\u001b[0m \u001b[0;34m=\u001b[0m \u001b[0mercot_load_forecast_dam_data\u001b[0m\u001b[0;34m[\u001b[0m\u001b[0;34m'data'\u001b[0m\u001b[0;34m]\u001b[0m\u001b[0;34m\u001b[0m\u001b[0;34m\u001b[0m\u001b[0m\n\u001b[1;32m      3\u001b[0m \u001b[0mload_records\u001b[0m \u001b[0;34m=\u001b[0m \u001b[0mload_data\u001b[0m\u001b[0;34m[\u001b[0m\u001b[0;34m'data'\u001b[0m\u001b[0;34m]\u001b[0m\u001b[0;34m\u001b[0m\u001b[0;34m\u001b[0m\u001b[0m\n\u001b[0;32m----> 4\u001b[0;31m \u001b[0mercot_unplanned_resource_outages_records\u001b[0m \u001b[0;34m=\u001b[0m \u001b[0mercot_unplanned_resource_outages_data\u001b[0m\u001b[0;34m[\u001b[0m\u001b[0;34m'data'\u001b[0m\u001b[0;34m]\u001b[0m\u001b[0;34m\u001b[0m\u001b[0;34m\u001b[0m\u001b[0m\n\u001b[0m\u001b[1;32m      5\u001b[0m \u001b[0mercot_fuel_mix_records\u001b[0m \u001b[0;34m=\u001b[0m \u001b[0mercot_fuel_mix_data\u001b[0m\u001b[0;34m[\u001b[0m\u001b[0;34m'data'\u001b[0m\u001b[0;34m]\u001b[0m\u001b[0;34m\u001b[0m\u001b[0;34m\u001b[0m\u001b[0m\n\u001b[1;32m      6\u001b[0m \u001b[0mercot_solar_actual_and_forecast_hourly_records\u001b[0m \u001b[0;34m=\u001b[0m \u001b[0mercot_solar_actual_and_forecast_hourly_data\u001b[0m\u001b[0;34m[\u001b[0m\u001b[0;34m'data'\u001b[0m\u001b[0;34m]\u001b[0m\u001b[0;34m\u001b[0m\u001b[0;34m\u001b[0m\u001b[0m\n",
            "\u001b[0;31mKeyError\u001b[0m: 'data'"
          ]
        }
      ]
    }
  ]
}