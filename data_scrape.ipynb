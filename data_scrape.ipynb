{
  "cells": [
    {
      "cell_type": "markdown",
      "metadata": {
        "id": "view-in-github",
        "colab_type": "text"
      },
      "source": [
        "<a href=\"https://colab.research.google.com/github/jessalynlc/IDS705_final_project/blob/Jessalyn/data_scrape.ipynb\" target=\"_parent\"><img src=\"https://colab.research.google.com/assets/colab-badge.svg\" alt=\"Open In Colab\"/></a>"
      ]
    },
    {
      "cell_type": "code",
      "execution_count": null,
      "metadata": {
        "id": "2heElnmwNTgJ"
      },
      "outputs": [],
      "source": [
        "import time\n",
        "import requests\n",
        "import json\n",
        "import pandas as pd\n",
        "import numpy as np"
      ]
    },
    {
      "cell_type": "code",
      "execution_count": null,
      "metadata": {
        "ExecuteTime": {
          "end_time": "2025-04-20T13:06:39.138679Z",
          "start_time": "2025-04-20T13:06:38.973484Z"
        },
        "id": "M-8_a3yfmyxl"
      },
      "outputs": [],
      "source": [
        "%reset -f\n"
      ]
    },
    {
      "cell_type": "markdown",
      "metadata": {
        "id": "xfdGcRfzmyxm"
      },
      "source": [
        "# 1. Data Preparation"
      ]
    },
    {
      "cell_type": "code",
      "execution_count": null,
      "metadata": {
        "id": "5tgXUD_Su9JK"
      },
      "outputs": [],
      "source": [
        "import pandas as pd\n",
        "import matplotlib.pyplot as plt\n",
        "\n",
        "#pulling data for ERCOT\n",
        "ercot_load_forecast_dam = 'https://api.gridstatus.io/v1/datasets/ercot_load_forecast_dam/query?api_key=' + api_key + '&limit=1000'\n",
        "load = 'https://api.gridstatus.io/v1/datasets/ercot_load/query?api_key=' + api_key + '&limit=1000'\n",
        "ercot_unplanned_resource_outages = 'https://api.gridstatus.io/v1/datasets/ercot_unplanned_resource_outages/query?api_key=' + api_key + '&limit=1000'\n",
        "ercot_fuel_mix = 'https://api.gridstatus.io/v1/datasets/ercot_fuel_mix/query?api_key=' + api_key + '&limit=1000'\n",
        "ercot_solar_actual_and_forecast_hourly = 'https://api.gridstatus.io/v1/datasets/ercot_solar_actual_and_forecast_hourly/query?api_key=' + api_key + '&limit=1000'\n",
        "ercot_temperature_forecast_by_weather_zone = 'https://api.gridstatus.io/v1/datasets/ercot_temperature_forecast_by_weather_zone/query?api_key=' + api_key + '&limit=1000'\n",
        "ercot_energy_storage_resources = 'https://api.gridstatus.io/v1/datasets/ercot_energy_storage_resources/query?api_key=' + api_key + '&limit=1000'\n",
        "\n",
        "\n",
        "#LMP price pull (target)\n",
        "#Pulling LMP at the average of all the hubs\n",
        "ercot_lmp_by_settlement_point = 'https://api.gridstatus.io/v1/datasets/ercot_lmp_by_settlement_point/query/location/HB_HUBAVG?api_key=' + api_key + '&limit=1000'\n",
        "\n",
        "#Other hubs incase we want to forecast them, but sticking with the bus average:HB_CENTRAL, HB_EAST, HB_HOUSTON, HB_BUSAVG, HB_NORTH, HB_PAN, HB_SOUTH HB_WEST"
      ]
    },
    {
      "cell_type": "markdown",
      "metadata": {
        "id": "Ky4mUApWD5y3"
      },
      "source": [
        "## Data Pull V1"
      ]
    },
    {
      "cell_type": "markdown",
      "metadata": {
        "collapsed": false,
        "id": "LDhDUIwCmyxn"
      },
      "source": []
    },
    {
      "cell_type": "code",
      "execution_count": null,
      "metadata": {
        "id": "8RjicqhpAMXI"
      },
      "outputs": [],
      "source": [
        "WAIT_TIME = 1  # seconds\n",
        "\n",
        "response = requests.get(ercot_load_forecast_dam)\n",
        "ercot_load_forecast_dam_data = response.json()\n",
        "time.sleep(WAIT_TIME)\n",
        "\n",
        "response = requests.get(load)\n",
        "load_data = response.json()\n",
        "time.sleep(WAIT_TIME)\n",
        "\n",
        "response = requests.get(ercot_unplanned_resource_outages)\n",
        "ercot_unplanned_resource_outages_data = response.json()\n",
        "time.sleep(WAIT_TIME)\n",
        "\n",
        "response = requests.get(ercot_fuel_mix)\n",
        "ercot_fuel_mix_data = response.json()\n",
        "time.sleep(WAIT_TIME)\n",
        "\n",
        "response = requests.get(ercot_solar_actual_and_forecast_hourly)\n",
        "ercot_solar_actual_and_forecast_hourly_data = response.json()\n",
        "time.sleep(WAIT_TIME)\n",
        "\n",
        "response = requests.get(ercot_temperature_forecast_by_weather_zone)\n",
        "ercot_temperature_forecast_by_weather_zone_data = response.json()\n",
        "time.sleep(WAIT_TIME)\n",
        "\n",
        "response = requests.get(ercot_energy_storage_resources)\n",
        "ercot_energy_storage_resources_data = response.json()\n",
        "time.sleep(WAIT_TIME)\n",
        "\n",
        "response = requests.get(ercot_lmp_by_settlement_point)\n",
        "ercot_lmp_by_settlement_point_data = response.json()\n",
        "\n",
        "#Question: Not all the datasets start at the same time, but I almost wonder if it's interesting to see how the model performs as more data gets added as time progresses..."
      ]
    },
    {
      "cell_type": "markdown",
      "metadata": {
        "id": "2kZC87atD9Uo"
      },
      "source": [
        "### Organizing data frame"
      ]
    },
    {
      "cell_type": "code",
      "execution_count": null,
      "metadata": {
        "id": "UKv5lZljCaUQ"
      },
      "outputs": [],
      "source": [
        "#extracting the value of the data key to create a list of dictionaries\n",
        "ercot_load_forecast_dam_records = ercot_load_forecast_dam_data['data']\n",
        "load_records = load_data['data']\n",
        "ercot_unplanned_resource_outages_records = ercot_unplanned_resource_outages_data['data']\n",
        "ercot_fuel_mix_records = ercot_fuel_mix_data['data']\n",
        "ercot_solar_actual_and_forecast_hourly_records = ercot_solar_actual_and_forecast_hourly_data['data']\n",
        "ercot_temperature_forecast_by_weather_zone_records = ercot_temperature_forecast_by_weather_zone_data['data']\n",
        "ercot_energy_storage_resources_records = ercot_energy_storage_resources_data['data']\n",
        "ercot_lmp_by_settlement_point_records = ercot_lmp_by_settlement_point_data['data']\n",
        "\n",
        "# Create separate data frames\n",
        "ercot_load_forecast_dam_df = pd.DataFrame(ercot_load_forecast_dam_records)\n",
        "load_df = pd.DataFrame(load_records)\n",
        "ercot_unplanned_resource_outages_df = pd.DataFrame(ercot_unplanned_resource_outages_records)\n",
        "ercot_fuel_mix_df = pd.DataFrame(ercot_fuel_mix_records)\n",
        "ercot_solar_actual_and_forecast_hourly_df = pd.DataFrame(ercot_solar_actual_and_forecast_hourly_records)\n",
        "ercot_temperature_forecast_by_weather_zone_df = pd.DataFrame(ercot_temperature_forecast_by_weather_zone_records)\n",
        "ercot_energy_storage_resources_df = pd.DataFrame(ercot_energy_storage_resources_records)\n",
        "ercot_lmp_by_settlement_point_records_df = pd.DataFrame(ercot_lmp_by_settlement_point_records)\n",
        "\n",
        "# Put all DataFrames in a list\n",
        "dataframes = [\n",
        "    ercot_load_forecast_dam_df,\n",
        "    load_df,\n",
        "    #ercot_unplanned_resource_outages_df, commenting out for now, have to think about how to add this to master\n",
        "    ercot_fuel_mix_df,\n",
        "    ercot_solar_actual_and_forecast_hourly_df,\n",
        "    ercot_temperature_forecast_by_weather_zone_df,\n",
        "    ercot_energy_storage_resources_df,\n",
        "    ercot_lmp_by_settlement_point_records_df\n",
        "]\n",
        "\n",
        "#Standardize timestamps and collect time deltas\n",
        "min_intervals = []\n",
        "for i in range(len(dataframes)):\n",
        "  df = dataframes[i].copy()\n",
        "\n",
        "  # Rename time_utc to interval_start_utc if present, I think this is only for ercot_temperature_forecast_by_weather_zone_df\n",
        "  if 'time_utc' in df.columns:\n",
        "    df = df.rename(columns={'time_utc': 'interval_start_utc'})\n",
        "\n",
        "  # Convert timestamps\n",
        "  df['interval_start_utc'] = pd.to_datetime(df['interval_start_utc'])\n",
        "\n",
        "  # Convert and inspect time delta if end time exists\n",
        "  if 'interval_end_utc' in df.columns:\n",
        "    df['interval_end_utc'] = pd.to_datetime(df['interval_end_utc'])\n",
        "    deltas = (df['interval_end_utc'] - df['interval_start_utc']).dropna()\n",
        "    if not deltas.empty:\n",
        "      min_intervals.append(deltas.min())\n",
        "\n",
        "  dataframes[i] = df\n",
        "\n",
        "#Find smallest interval (e.g., 5 minutes)\n",
        "smallest_interval = min(min_intervals)\n",
        "print(f\"Smallest interval detected: {smallest_interval}\")\n",
        "\n",
        "#Create master time index\n",
        "all_times = pd.concat([df['interval_start_utc'] for df in dataframes])\n",
        "time_index = pd.date_range(start=all_times.min(), end=all_times.max(), freq=smallest_interval)\n",
        "master_df = pd.DataFrame({'interval_start_utc': time_index})\n",
        "\n",
        "#Drop original interval_end_utc and merge\n",
        "for df in dataframes:\n",
        "    if 'interval_end_utc' in df.columns:\n",
        "        df = df.drop(columns='interval_end_utc')\n",
        "    master_df = master_df.merge(df, on='interval_start_utc', how='left')\n",
        "\n",
        "#Add consistent interval_end_utc\n",
        "master_df['interval_end_utc'] = master_df['interval_start_utc'] + smallest_interval\n",
        "\n",
        "print(master_df.head())\n",
        "print(master_df.shape)"
      ]
    },
    {
      "cell_type": "markdown",
      "metadata": {
        "id": "amosuf_BQcfV"
      },
      "source": [
        "## DATA PULL V2 (FINAL)\n",
        "\n",
        "Data pull for all are hourly and spans Jan 1 2018 - April 12, 2025"
      ]
    },
    {
      "cell_type": "code",
      "execution_count": null,
      "metadata": {
        "id": "NwX5vsxfQbZ9"
      },
      "outputs": [],
      "source": [
        "#RT load data\n",
        "load_url = \"https://raw.githubusercontent.com/jessalynlc/IDS705_final_project/main/Raw_Data/ercot_load_by_forecast_zone.csv\"\n",
        "\n",
        "#RT LMP data\n",
        "busavg_1_url = \"https://raw.githubusercontent.com/jessalynlc/IDS705_final_project/main/Raw_Data/HB_BUSAVG_LMP_Jan12018-Jan12019.csv\"\n",
        "busavg_2_url = \"https://raw.githubusercontent.com/jessalynlc/IDS705_final_project/main/Raw_Data/HB_BUSAVG_LMP_Jan12019-Jan12020.csv\"\n",
        "busavg_3_url = \"https://raw.githubusercontent.com/jessalynlc/IDS705_final_project/main/Raw_Data/HB_BUSAVG_LMP_Jan12020-Dec312020.csv\"\n",
        "busavg_4_url = \"https://raw.githubusercontent.com/jessalynlc/IDS705_final_project/main/Raw_Data/HB_BUS_AVG_LMP_Dec312020-Dec312021.csv\"\n",
        "busavg_5_url = \"https://raw.githubusercontent.com/jessalynlc/IDS705_final_project/main/Raw_Data/HB_BUS_AVG_LMP_Dec312021-Dec312022.csv\"\n",
        "busavg_6_url = \"https://raw.githubusercontent.com/jessalynlc/IDS705_final_project/main/Raw_Data/HB_BUS_AVG_LMP_Dec312022-Dec312023.csv\"\n",
        "#don't forget to delete Dec 30 data from here because it's in last data file!\n",
        "busavg_7_url = \"https://raw.githubusercontent.com/jessalynlc/IDS705_final_project/main/Raw_Data/HB_BUS_AVG_LMP_Dec302023-Dec292024.csv\"\n",
        "busavg_8_url = \"https://raw.githubusercontent.com/jessalynlc/IDS705_final_project/main/Raw_Data/HB_BUS_AVG_LMP_Dec292024_Apr132025.csv\"\n",
        "\n",
        "#fuel mix data\n",
        "fuelmix_1_url = \"https://raw.githubusercontent.com/jessalynlc/IDS705_final_project/main/Raw_Data/fuel_mix_Jan12018-Jan12019.csv\"\n",
        "fuelmix_2_url = \"https://raw.githubusercontent.com/jessalynlc/IDS705_final_project/main/Raw_Data/fuel_mix_Jan12019-Jan12020.csv\"\n",
        "fuelmix_3_url = \"https://raw.githubusercontent.com/jessalynlc/IDS705_final_project/main/Raw_Data/fuel_mix_Jan12020_Dec312020.csv\"\n",
        "fuelmix_4_url = \"https://raw.githubusercontent.com/jessalynlc/IDS705_final_project/main/Raw_Data/fuel_mix_Dec312020_Dec312021.csv\"\n",
        "fuelmix_5_url = \"https://raw.githubusercontent.com/jessalynlc/IDS705_final_project/main/Raw_Data/fuel_mix_Dec312021-Dec312022.csv\"\n",
        "fuelmix_6_url = \"https://raw.githubusercontent.com/jessalynlc/IDS705_final_project/main/Raw_Data/fuel_mix_Dec312022-Dec312023.csv\"\n",
        "fuelmix_7_url = \"https://raw.githubusercontent.com/jessalynlc/IDS705_final_project/main/Raw_Data/fuel_mix_Dec312023-Dec302024.csv\"\n",
        "fuelmix_8_url = \"https://raw.githubusercontent.com/jessalynlc/IDS705_final_project/main/Raw_Data/fuel_mix_Dec302024-Apr132025.csv\"\n",
        "\n",
        "#temp data\n",
        "temp_1_url = \"https://raw.githubusercontent.com/jessalynlc/IDS705_final_project/main/Raw_Data/temp_Jan12018-Jan12019.csv\"\n",
        "temp_2_url = \"https://raw.githubusercontent.com/jessalynlc/IDS705_final_project/main/Raw_Data/temp_Jan12019-Jan12020.csv\"\n",
        "temp_3_url = \"https://raw.githubusercontent.com/jessalynlc/IDS705_final_project/main/Raw_Data/temp_Jan12020-Dec312020.csv\"\n",
        "temp_4_url = \"https://raw.githubusercontent.com/jessalynlc/IDS705_final_project/main/Raw_Data/temp_Dec312020-Dec312021.csv\"\n",
        "temp_5_url = \"https://raw.githubusercontent.com/jessalynlc/IDS705_final_project/main/Raw_Data/temp_Dec312021-Dec312022.csv\"\n",
        "temp_6_url = \"https://raw.githubusercontent.com/jessalynlc/IDS705_final_project/main/Raw_Data/temp_Dec312022-Dec312023.csv\"\n",
        "temp_7_url = \"https://raw.githubusercontent.com/jessalynlc/IDS705_final_project/main/Raw_Data/temp_Dec312023-Dec302024_v2.csv\"\n",
        "temp_8_url = \"https://raw.githubusercontent.com/jessalynlc/IDS705_final_project/main/Raw_Data/temp_Dec302024-Apr132025.csv\"\n"
      ]
    },
    {
      "cell_type": "code",
      "execution_count": null,
      "metadata": {
        "id": "DhxuQU2KXWWd"
      },
      "outputs": [],
      "source": [
        "load = pd.read_csv(load_url)\n",
        "\n",
        "busavg_1 = pd.read_csv(busavg_1_url)\n",
        "busavg_2 = pd.read_csv(busavg_2_url)\n",
        "busavg_3 = pd.read_csv(busavg_3_url)\n",
        "busavg_4 = pd.read_csv(busavg_4_url)\n",
        "busavg_5 = pd.read_csv(busavg_5_url)\n",
        "busavg_6 = pd.read_csv(busavg_6_url)\n",
        "busavg_7 = pd.read_csv(busavg_7_url)\n",
        "busavg_8 = pd.read_csv(busavg_8_url)\n",
        "\n",
        "fuelmix_1 = pd.read_csv(fuelmix_1_url)\n",
        "fuelmix_2 = pd.read_csv(fuelmix_2_url)\n",
        "fuelmix_3 = pd.read_csv(fuelmix_3_url)\n",
        "fuelmix_4 = pd.read_csv(fuelmix_4_url)\n",
        "fuelmix_5 = pd.read_csv(fuelmix_5_url)\n",
        "fuelmix_6 = pd.read_csv(fuelmix_6_url)\n",
        "fuelmix_7 = pd.read_csv(fuelmix_7_url)\n",
        "fuelmix_8 = pd.read_csv(fuelmix_8_url)\n",
        "\n",
        "temp_1 = pd.read_csv(temp_1_url)\n",
        "temp_2 = pd.read_csv(temp_2_url)\n",
        "temp_3 = pd.read_csv(temp_3_url)\n",
        "temp_4 = pd.read_csv(temp_4_url)\n",
        "temp_5 = pd.read_csv(temp_5_url)\n",
        "temp_6 = pd.read_csv(temp_6_url)\n",
        "temp_7 = pd.read_csv(temp_7_url)\n",
        "temp_8 = pd.read_csv(temp_8_url)\n"
      ]
    },
    {
      "cell_type": "code",
      "execution_count": null,
      "metadata": {
        "id": "v0cddcsXXrSP"
      },
      "outputs": [],
      "source": [
        "#combining csv files\n",
        "\n",
        "#cleaning this file because have an overlapping day\n",
        "busavg_7_temp = busavg_7.drop(index=range(24))\n",
        "busavg_lmp = pd.concat([busavg_1, busavg_2, busavg_3, busavg_4, busavg_5, busavg_6, busavg_7_temp, busavg_8])\n",
        "\n",
        "fuel_mix = pd.concat([fuelmix_1, fuelmix_2, fuelmix_3, fuelmix_4, fuelmix_5, fuelmix_6, fuelmix_7, fuelmix_8])\n",
        "\n",
        "temp = pd.concat([temp_1, temp_2, temp_3, temp_4, temp_5, temp_6, temp_7, temp_8])"
      ]
    },
    {
      "cell_type": "code",
      "execution_count": null,
      "metadata": {
        "id": "FfbzGq6AYy-z"
      },
      "outputs": [],
      "source": [
        "#num of rows should match\n",
        "\n",
        "#not really sure why load is missing data, so i'm just going to fill.NA later to simplify, could be worth looking into issue later\n",
        "print(load.shape)\n",
        "print(busavg_lmp.shape)\n",
        "print(fuel_mix.shape)\n",
        "print(temp.shape)\n",
        "\n",
        "#load.to_csv('load.csv', index=False)"
      ]
    },
    {
      "cell_type": "code",
      "execution_count": null,
      "metadata": {
        "id": "eFqLxbb8d9Ea"
      },
      "outputs": [],
      "source": [
        "load.head()"
      ]
    },
    {
      "cell_type": "code",
      "execution_count": null,
      "metadata": {
        "id": "kiLbwlIFd_4p"
      },
      "outputs": [],
      "source": [
        "#busavg_lmp.head()"
      ]
    },
    {
      "cell_type": "code",
      "execution_count": null,
      "metadata": {
        "id": "U7qp5iAVeB1X"
      },
      "outputs": [],
      "source": [
        "#fuel_mix.head()"
      ]
    },
    {
      "cell_type": "code",
      "execution_count": null,
      "metadata": {
        "id": "zk8e7cFfeEpn"
      },
      "outputs": [],
      "source": [
        "#temp.head()"
      ]
    },
    {
      "cell_type": "code",
      "execution_count": null,
      "metadata": {
        "id": "yoJdaD-RehIp"
      },
      "outputs": [],
      "source": [
        "#dropping unnecessary columns\n",
        "load = load.drop(columns=['interval_end_local', 'interval_start_local', 'interval_end_utc'])\n",
        "busavg_lmp = busavg_lmp.drop(columns=['interval_end_local', 'interval_start_local', 'interval_end_utc', 'location'])\n",
        "fuel_mix = fuel_mix.drop(columns=['interval_end_local', 'interval_start_local', 'interval_end_utc'])\n",
        "temp = temp.drop(columns=['interval_end_local', 'interval_start_local', 'interval_end_utc', 'publish_time_local', 'publish_time_utc'])\n",
        "\n",
        "#turning interval_start_local to datetime objects\n",
        "for df in [load, busavg_lmp, fuel_mix, temp]:\n",
        "    df['interval_start_utc'] = pd.to_datetime(df['interval_start_utc'], utc = True)\n"
      ]
    },
    {
      "cell_type": "code",
      "execution_count": null,
      "metadata": {
        "id": "ZP0S87_ni2ms"
      },
      "outputs": [],
      "source": [
        "merged = load.merge(busavg_lmp, on='interval_start_utc', how='left')\n",
        "merged = merged.merge(fuel_mix, on='interval_start_utc', how='left')\n",
        "all_hourly_data = merged.merge(temp, on='interval_start_utc', how='left')"
      ]
    },
    {
      "cell_type": "code",
      "execution_count": null,
      "metadata": {
        "id": "cBJq5Xsni48p"
      },
      "outputs": [],
      "source": [
        "all_hourly_data.head()"
      ]
    },
    {
      "cell_type": "code",
      "execution_count": null,
      "metadata": {
        "id": "78ZYryEfkyFN"
      },
      "outputs": [],
      "source": [
        "# First, convert to datetime (if not already)\n",
        "#all_hourly_data['interval_start_utc'] = pd.to_datetime(all_hourly_data['interval_start_utc'])\n",
        "\n",
        "all_hourly_data['interval_start_local'] = all_hourly_data['interval_start_utc'].dt.tz_convert('America/Chicago')\n",
        "\n",
        "# Extract date and hour\n",
        "all_hourly_data['date'] = all_hourly_data['interval_start_local'].dt.date\n",
        "all_hourly_data['hour'] = all_hourly_data['interval_start_local'].dt.hour"
      ]
    },
    {
      "cell_type": "code",
      "execution_count": null,
      "metadata": {
        "id": "8SEW5plisYyr"
      },
      "outputs": [],
      "source": [
        "all_hourly_data = all_hourly_data.drop(columns=['interval_start_utc'])"
      ]
    },
    {
      "cell_type": "code",
      "execution_count": null,
      "metadata": {
        "id": "j6TLGR7Psltc"
      },
      "outputs": [],
      "source": [
        "cols = ['interval_start_local', 'date', 'hour'] + [col for col in all_hourly_data.columns if col not in ['interval_start_local', 'date', 'hour']]\n",
        "all_hourly_data = all_hourly_data[cols]"
      ]
    },
    {
      "cell_type": "code",
      "execution_count": null,
      "metadata": {
        "id": "bET6OtNsqHFQ"
      },
      "outputs": [],
      "source": [
        "all_hourly_data.head()"
      ]
    },
    {
      "cell_type": "code",
      "execution_count": null,
      "metadata": {
        "id": "LTgchr7TssFd"
      },
      "outputs": [],
      "source": [
        "# all_hourly_data.to_csv('all_hourly_data.csv', index = False)"
      ]
    },
    {
      "cell_type": "markdown",
      "metadata": {
        "id": "AqnLUHNSmyxr"
      },
      "source": [
        "# 2. Feature Engineering"
      ]
    },
    {
      "cell_type": "code",
      "execution_count": 3,
      "metadata": {
        "ExecuteTime": {
          "end_time": "2025-04-18T18:41:09.079457Z",
          "start_time": "2025-04-18T18:41:08.839538Z"
        },
        "id": "uuQmKXk3myxr"
      },
      "outputs": [],
      "source": [
        "import pandas as pd\n",
        "import matplotlib.pyplot as plt\n",
        "\n",
        "# 读取数据\n",
        "df = pd.read_csv('all_hourly_data.csv')"
      ]
    },
    {
      "cell_type": "markdown",
      "metadata": {
        "id": "BFk_YoCQmyxr"
      },
      "source": [
        "## 2.1 Target Variable"
      ]
    },
    {
      "cell_type": "code",
      "execution_count": 5,
      "metadata": {
        "ExecuteTime": {
          "end_time": "2025-04-18T18:41:20.524394Z",
          "start_time": "2025-04-18T18:41:17.838234Z"
        },
        "colab": {
          "base_uri": "https://localhost:8080/",
          "height": 537
        },
        "id": "n72d6XWPmyxr",
        "outputId": "a2a770ba-ea35-4eea-faf6-e75e77a6c83d"
      },
      "outputs": [
        {
          "output_type": "stream",
          "name": "stderr",
          "text": [
            "<ipython-input-5-13895768e6a0>:8: FutureWarning: In a future version of pandas, parsing datetimes with mixed time zones will raise an error unless `utc=True`. Please specify `utc=True` to opt in to the new behaviour and silence this warning. To create a `Series` with mixed offsets and `object` dtype, please use `apply` and `datetime.datetime.strptime`\n",
            "  df['interval_start_local'] = pd.to_datetime(df['interval_start_local'])\n"
          ]
        },
        {
          "output_type": "display_data",
          "data": {
            "text/plain": [
              "<Figure size 1500x500 with 1 Axes>"
            ],
            "image/png": "[encoded data removed]"
          },
          "metadata": {}
        }
      ],
      "source": [
        "import pandas as pd\n",
        "import matplotlib.pyplot as plt\n",
        "\n",
        "#\n",
        "df = pd.read_csv('all_hourly_data.csv')\n",
        "\n",
        "#\n",
        "df['interval_start_local'] = pd.to_datetime(df['interval_start_local'])\n",
        "\n",
        "#\n",
        "df = df.sort_values('interval_start_local')\n",
        "\n",
        "#\n",
        "plt.figure(figsize=(15, 5))\n",
        "plt.plot(df['interval_start_local'], df['lmp_HB_BUSAVG'], linewidth=0.5)\n",
        "plt.xlabel('Time')\n",
        "plt.ylabel('LMP (HB_BUSAVG)')\n",
        "plt.title('LMP Over Time')\n",
        "plt.grid(True)\n",
        "plt.tight_layout()\n",
        "plt.show()\n"
      ]
    },
    {
      "cell_type": "code",
      "execution_count": 6,
      "metadata": {
        "colab": {
          "base_uri": "https://localhost:8080/"
        },
        "id": "kJBoDfJHmyxs",
        "outputId": "345e3b47-7b7c-4fef-bf43-e6c4438815f6"
      },
      "outputs": [
        {
          "output_type": "stream",
          "name": "stdout",
          "text": [
            "ADF Statistic: -30.1878\n",
            "p-value:        0.0000\n",
            "Critical Value (1%): -3.4305\n",
            "Critical Value (5%): -2.8616\n",
            "Critical Value (10%): -2.5668\n"
          ]
        }
      ],
      "source": [
        "from statsmodels.tsa.stattools import adfuller\n",
        "\n",
        "#\n",
        "series = df['lmp_HB_BUSAVG']\n",
        "\n",
        "#\n",
        "result = adfuller(series, maxlag=12, regression='c')  #\n",
        "\n",
        "print(f\"ADF Statistic: {result[0]:.4f}\")\n",
        "print(f\"p-value:        {result[1]:.4f}\")\n",
        "for key, value in result[4].items():\n",
        "    print(f\"Critical Value ({key}): {value:.4f}\")\n"
      ]
    },
    {
      "cell_type": "code",
      "execution_count": 7,
      "metadata": {
        "colab": {
          "base_uri": "https://localhost:8080/",
          "height": 992
        },
        "id": "faCiN4NEmyxs",
        "outputId": "cf0b1099-600d-48b3-bb1d-f26927985f5e"
      },
      "outputs": [
        {
          "output_type": "display_data",
          "data": {
            "text/plain": [
              "<Figure size 640x480 with 0 Axes>"
            ]
          },
          "metadata": {}
        },
        {
          "output_type": "display_data",
          "data": {
            "text/plain": [
              "<Figure size 640x480 with 1 Axes>"
            ],
            "image/png": "[encoded data removed]"
          },
          "metadata": {}
        },
        {
          "output_type": "display_data",
          "data": {
            "text/plain": [
              "<Figure size 640x480 with 0 Axes>"
            ]
          },
          "metadata": {}
        },
        {
          "output_type": "display_data",
          "data": {
            "text/plain": [
              "<Figure size 640x480 with 1 Axes>"
            ],
            "image/png": "[encoded data removed]"
          },
          "metadata": {}
        }
      ],
      "source": [
        "from statsmodels.graphics.tsaplots import plot_acf, plot_pacf\n",
        "import matplotlib.pyplot as plt\n",
        "\n",
        "#\n",
        "series = df['lmp_HB_BUSAVG'].dropna()\n",
        "\n",
        "#\n",
        "plt.figure()\n",
        "plot_acf(series, lags=50)\n",
        "plt.xlabel('Lag')\n",
        "plt.ylabel('Autocorrelation')\n",
        "plt.title('ACF of lmp_HB_BUSAVG')\n",
        "plt.tight_layout()\n",
        "plt.show()\n",
        "\n",
        "#\n",
        "plt.figure()\n",
        "plot_pacf(series, lags=50)\n",
        "plt.xlabel('Lag')\n",
        "plt.ylabel('Partial Autocorrelation')\n",
        "plt.title('PACF of lmp_HB_BUSAVG')\n",
        "plt.tight_layout()\n",
        "plt.show()\n"
      ]
    },
    {
      "cell_type": "code",
      "execution_count": 8,
      "metadata": {
        "colab": {
          "base_uri": "https://localhost:8080/",
          "height": 507
        },
        "id": "O-dx0KSZmyxs",
        "outputId": "8923d895-8adc-45cf-e712-fd11a01b2d53"
      },
      "outputs": [
        {
          "output_type": "display_data",
          "data": {
            "text/plain": [
              "<Figure size 800x500 with 1 Axes>"
            ],
            "image/png": "[encoded data removed]"
          },
          "metadata": {}
        }
      ],
      "source": [
        "plt.figure(figsize=(8, 5))\n",
        "plt.hist(df['lmp_HB_BUSAVG'], bins=100, color='skyblue', edgecolor='black')\n",
        "plt.xlabel('LMP (HB_BUSAVG)')\n",
        "plt.ylabel('Frequency')\n",
        "plt.title('Distribution of LMP')\n",
        "plt.grid(True)\n",
        "plt.tight_layout()\n",
        "plt.show()\n"
      ]
    },
    {
      "cell_type": "code",
      "execution_count": 9,
      "metadata": {
        "colab": {
          "base_uri": "https://localhost:8080/",
          "height": 611
        },
        "id": "fxAV-84fmyxt",
        "outputId": "07adac08-cfdc-4fc5-a4bc-a4582df7fe37"
      },
      "outputs": [
        {
          "output_type": "stream",
          "name": "stdout",
          "text": [
            "✅ LMP Summary Statistics:\n",
            "Mean: 40.05\n",
            "Median: 21.09\n",
            "Standard Deviation: 206.53\n",
            "Skewness: 26.95\n",
            "Kurtosis: 901.89\n"
          ]
        },
        {
          "output_type": "display_data",
          "data": {
            "text/plain": [
              "<Figure size 1000x500 with 1 Axes>"
            ],
            "image/png": "[encoded data removed]"
          },
          "metadata": {}
        }
      ],
      "source": [
        "import pandas as pd\n",
        "import matplotlib.pyplot as plt\n",
        "import seaborn as sns\n",
        "from scipy.stats import skew, kurtosis\n",
        "\n",
        "# 读取数据\n",
        "df = pd.read_csv('all_hourly_data.csv')\n",
        "\n",
        "# 提取目标变量\n",
        "lmp = df['lmp_HB_BUSAVG']\n",
        "\n",
        "# 计算统计量\n",
        "mean_val = lmp.mean()\n",
        "median_val = lmp.median()\n",
        "std_val = lmp.std()\n",
        "skew_val = skew(lmp)\n",
        "kurt_val = kurtosis(lmp)  # Fisher's definition (normal dist = 0)\n",
        "\n",
        "# 打印统计量\n",
        "print(f\"✅ LMP Summary Statistics:\")\n",
        "print(f\"Mean: {mean_val:.2f}\")\n",
        "print(f\"Median: {median_val:.2f}\")\n",
        "print(f\"Standard Deviation: {std_val:.2f}\")\n",
        "print(f\"Skewness: {skew_val:.2f}\")\n",
        "print(f\"Kurtosis: {kurt_val:.2f}\")\n",
        "\n",
        "# 分布图\n",
        "plt.figure(figsize=(10, 5))\n",
        "sns.histplot(lmp, bins=100, kde=True, color='skyblue')\n",
        "plt.axvline(mean_val, color='red', linestyle='--', label=f'Mean: {mean_val:.2f}')\n",
        "plt.axvline(median_val, color='green', linestyle='--', label=f'Median: {median_val:.2f}')\n",
        "plt.xlabel('LMP (HB_BUSAVG)')\n",
        "plt.ylabel('Frequency')\n",
        "plt.title('Distribution of LMP')\n",
        "plt.legend()\n",
        "plt.grid(True)\n",
        "plt.tight_layout()\n",
        "plt.show()\n"
      ]
    },
    {
      "cell_type": "markdown",
      "metadata": {
        "id": "Zs-bX8T_myxt"
      },
      "source": [
        "### 2.1.1 Log Transformation"
      ]
    },
    {
      "cell_type": "code",
      "execution_count": 10,
      "metadata": {
        "colab": {
          "base_uri": "https://localhost:8080/",
          "height": 606
        },
        "id": "VboM0ZFSmyxt",
        "outputId": "037299f1-20f6-4acf-9b6b-09f972f53d5b"
      },
      "outputs": [
        {
          "output_type": "stream",
          "name": "stderr",
          "text": [
            "<ipython-input-10-9cef526aade0>:9: FutureWarning: In a future version of pandas, parsing datetimes with mixed time zones will raise an error unless `utc=True`. Please specify `utc=True` to opt in to the new behaviour and silence this warning. To create a `Series` with mixed offsets and `object` dtype, please use `apply` and `datetime.datetime.strptime`\n",
            "  df['interval_start_local'] = pd.to_datetime(df['interval_start_local'])\n",
            "/usr/local/lib/python3.11/dist-packages/pandas/core/arraylike.py:399: RuntimeWarning: divide by zero encountered in log\n",
            "  result = getattr(ufunc, method)(*inputs, **kwargs)\n",
            "/usr/local/lib/python3.11/dist-packages/pandas/core/arraylike.py:399: RuntimeWarning: invalid value encountered in log\n",
            "  result = getattr(ufunc, method)(*inputs, **kwargs)\n"
          ]
        },
        {
          "output_type": "display_data",
          "data": {
            "text/plain": [
              "<Figure size 1500x500 with 1 Axes>"
            ],
            "image/png": "[encoded data removed]"
          },
          "metadata": {}
        }
      ],
      "source": [
        "import pandas as pd\n",
        "import numpy as np\n",
        "import matplotlib.pyplot as plt\n",
        "\n",
        "# 读取数据\n",
        "df = pd.read_csv('all_hourly_data.csv')\n",
        "\n",
        "# 转换时间格式，确保正确排序\n",
        "df['interval_start_local'] = pd.to_datetime(df['interval_start_local'])\n",
        "df = df.sort_values('interval_start_local')\n",
        "\n",
        "# 对 LMP 进行对数变换（注意加 1 避免 log(0) 的情况）\n",
        "df['lmp_log'] = np.log(df['lmp_HB_BUSAVG'] + 1)\n",
        "\n",
        "# 绘制变换后的 LMP 随时间变化趋势图\n",
        "plt.figure(figsize=(15, 5))\n",
        "plt.plot(df['interval_start_local'], df['lmp_log'], linewidth=0.8, label='Log(lmp + 1)')\n",
        "plt.xlabel('Time')\n",
        "plt.ylabel('Log(LMP + 1)')\n",
        "plt.title('Trend')\n",
        "plt.legend()\n",
        "plt.grid(True)\n",
        "plt.tight_layout()\n",
        "plt.show()\n"
      ]
    },
    {
      "cell_type": "markdown",
      "metadata": {
        "id": "Vt4iTRkumyxt"
      },
      "source": [
        "## 2.2 Feature Engineering"
      ]
    },
    {
      "cell_type": "code",
      "execution_count": 11,
      "metadata": {
        "ExecuteTime": {
          "end_time": "2025-04-20T14:34:21.449834Z",
          "start_time": "2025-04-20T14:34:16.064384Z"
        },
        "id": "exofKEVpmyxu"
      },
      "outputs": [],
      "source": [
        "import pandas as pd\n",
        "import numpy as np\n",
        "\n",
        "#\n",
        "df = pd.read_csv('all_hourly_data.csv')\n",
        "\n",
        "#\n",
        "df['interval_start_local'] = pd.to_datetime(df['interval_start_local'], utc=True)\n",
        "\n",
        "\n",
        "df['day_of_week']  = df['interval_start_local'].dt.dayofweek  #\n",
        "df['day_of_month'] = df['interval_start_local'].dt.day       #\n",
        "df['month']        = df['interval_start_local'].dt.month     #\n",
        "\n",
        "\n",
        "# Lag Features\n",
        "for lag in [1, 2, 3, 4, 5, 6, 7, 24, 48]:\n",
        "    df[f'lmp_lag_{lag}'] = df['lmp_HB_BUSAVG'].shift(lag)\n",
        "\n",
        "# Rolling Features\n",
        "df['lmp_roll_mean_24'] = df['lmp_HB_BUSAVG'].rolling(window=24).mean()\n",
        "df['lmp_roll_mean_48'] = df['lmp_HB_BUSAVG'].rolling(window=48).mean()\n",
        "df['lmp_roll_mean_168'] = df['lmp_HB_BUSAVG'].rolling(window=168).mean()\n",
        "\n",
        "\n",
        "#\n",
        "df = df.dropna().reset_index(drop=True)\n"
      ]
    },
    {
      "cell_type": "code",
      "execution_count": 12,
      "metadata": {
        "colab": {
          "base_uri": "https://localhost:8080/"
        },
        "id": "WV7mbOiDmyxu",
        "outputId": "3b6d7952-cad2-4a70-d7e0-b8bd0a3a4591"
      },
      "outputs": [
        {
          "output_type": "stream",
          "name": "stdout",
          "text": [
            "interval_start_local    0\n",
            "date                    0\n",
            "hour                    0\n",
            "north_x_load            0\n",
            "south_load              0\n",
            "west_x_load             0\n",
            "houston_load            0\n",
            "total_load              0\n",
            "lmp_HB_BUSAVG           0\n",
            "coal_and_lignite        0\n",
            "hydro                   0\n",
            "nuclear                 0\n",
            "power_storage           0\n",
            "solar                   0\n",
            "wind                    0\n",
            "natural_gas             0\n",
            "other_gen               0\n",
            "coast_temp              0\n",
            "east_temp               0\n",
            "far_west_temp           0\n",
            "north_y_temp            0\n",
            "north_central_temp      0\n",
            "south_central_temp      0\n",
            "southern_temp           0\n",
            "west_y_temp             0\n",
            "day_of_week             0\n",
            "day_of_month            0\n",
            "month                   0\n",
            "lmp_lag_1               0\n",
            "lmp_lag_2               0\n",
            "lmp_lag_3               0\n",
            "lmp_lag_4               0\n",
            "lmp_lag_5               0\n",
            "lmp_lag_6               0\n",
            "lmp_lag_7               0\n",
            "lmp_lag_24              0\n",
            "lmp_lag_48              0\n",
            "lmp_roll_mean_24        0\n",
            "lmp_roll_mean_48        0\n",
            "lmp_roll_mean_168       0\n",
            "dtype: int64\n"
          ]
        }
      ],
      "source": [
        "#\n",
        "print(df.isnull().sum())"
      ]
    },
    {
      "cell_type": "markdown",
      "metadata": {
        "id": "itE2aFppmyx2"
      },
      "source": [
        "## 2.3 Train-test Split"
      ]
    },
    {
      "cell_type": "code",
      "execution_count": 13,
      "metadata": {
        "ExecuteTime": {
          "end_time": "2025-04-20T14:34:27.321874Z",
          "start_time": "2025-04-20T14:34:27.245710Z"
        },
        "colab": {
          "base_uri": "https://localhost:8080/"
        },
        "id": "tIu8lxzvmyx3",
        "outputId": "84c6dcb6-c0a9-479e-f224-bd923771d847"
      },
      "outputs": [
        {
          "output_type": "stream",
          "name": "stdout",
          "text": [
            "训练集样本数：52349，特征数：40\n",
            "测试集样本数：11166，特征数：40\n"
          ]
        }
      ],
      "source": [
        "import pandas as pd\n",
        "\n",
        "\n",
        "train_start = pd.Timestamp('2018-01-08 06:00:00+0000', tz='UTC')\n",
        "train_end   = pd.Timestamp('2023-12-31 23:59:59+0000', tz='UTC')\n",
        "test_start  = pd.Timestamp('2024-01-01 00:00:00+0000', tz='UTC')\n",
        "test_end    = pd.Timestamp('2025-04-13 04:00:00+0000', tz='UTC')\n",
        "\n",
        "\n",
        "\n",
        "#\n",
        "mask_train = (df['interval_start_local'] >= train_start) & (df['interval_start_local'] <= train_end)\n",
        "mask_test  = (df['interval_start_local'] >= test_start)  & (df['interval_start_local'] <= test_end)\n",
        "\n",
        "#\n",
        "train_df = df.loc[mask_train].reset_index(drop=True)\n",
        "test_df  = df.loc[mask_test].reset_index(drop=True)\n",
        "\n",
        "#\n",
        "print(f\"训练集样本数：{train_df.shape[0]}，特征数：{train_df.shape[1]}\")\n",
        "print(f\"测试集样本数：{test_df.shape[0]}，特征数：{test_df.shape[1]}\")\n"
      ]
    },
    {
      "cell_type": "markdown",
      "metadata": {
        "id": "OVUJdhA9myx3"
      },
      "source": [
        "# 3.Boosting"
      ]
    },
    {
      "cell_type": "markdown",
      "metadata": {
        "id": "6e-EMkhKmyx3"
      },
      "source": [
        "## 3.1 Xgboost"
      ]
    },
    {
      "cell_type": "markdown",
      "metadata": {
        "id": "KxBrrxPrmyx3"
      },
      "source": [
        "### 3.1.1 RMSE"
      ]
    },
    {
      "cell_type": "code",
      "execution_count": 14,
      "metadata": {
        "ExecuteTime": {
          "end_time": "2025-04-20T14:36:44.580622Z",
          "start_time": "2025-04-20T14:36:08.730687Z"
        },
        "colab": {
          "base_uri": "https://localhost:8080/"
        },
        "id": "JtUyTBu0myx3",
        "outputId": "52701205-912c-4d7c-d228-4075f6c5809e"
      },
      "outputs": [
        {
          "output_type": "stream",
          "name": "stdout",
          "text": [
            " MSE:  5105.6929\n",
            "RMSE: 71.4541\n",
            " MAE:  28.4585\n"
          ]
        }
      ],
      "source": [
        "import pandas as pd\n",
        "import numpy as np\n",
        "from xgboost import XGBRegressor\n",
        "from sklearn.metrics import mean_squared_error, mean_absolute_error\n",
        "import matplotlib.pyplot as plt\n",
        "\n",
        "\n",
        "# 4. Prepare feature matrix and target vector\n",
        "exclude_cols = ['interval_start_local', 'date', 'lmp_HB_BUSAVG']\n",
        "features = [col for col in train_df.columns if col not in exclude_cols]\n",
        "\n",
        "X_train, y_train = train_df[features], train_df['lmp_HB_BUSAVG']\n",
        "X_test,  y_test  = test_df[features],  test_df['lmp_HB_BUSAVG']\n",
        "\n",
        "# 5. Train XGBoost regressor\n",
        "model = XGBRegressor(\n",
        "    objective='reg:squarederror',\n",
        "    eval_metric='rmse',\n",
        "    n_estimators=500,\n",
        "    max_depth=7,\n",
        "    learning_rate=0.05,\n",
        "    subsample=0.8,\n",
        "    colsample_bytree=0.8,\n",
        "    random_state=42\n",
        ")\n",
        "model.fit(X_train, y_train, eval_set=[(X_train, y_train), (X_test, y_test)], verbose=False)\n",
        "\n",
        "# 6. Make predictions\n",
        "y_pred = model.predict(X_test)\n",
        "\n",
        "# 7. Compute evaluation metrics\n",
        "mse  = mean_squared_error(y_test, y_pred)\n",
        "rmse = np.sqrt(mse)\n",
        "mae  = mean_absolute_error(y_test, y_pred)\n",
        "\n",
        "print(f\" MSE:  {mse:.4f}\")\n",
        "print(f\"RMSE: {rmse:.4f}\")\n",
        "print(f\" MAE:  {mae:.4f}\")\n"
      ]
    },
    {
      "cell_type": "markdown",
      "metadata": {
        "id": "EiTiQcQImyx4"
      },
      "source": [
        "### 3.1.2 Xgboost Feature Importance"
      ]
    },
    {
      "cell_type": "code",
      "execution_count": null,
      "metadata": {
        "id": "DtVWH7pemyx4",
        "outputId": "de8d7b97-62df-4559-c0d2-75b2d17e7170"
      },
      "outputs": [
        {
          "name": "stdout",
          "output_type": "stream",
          "text": [
            "               feature  importance\n",
            "25           lmp_lag_1    0.219171\n",
            "17        north_y_temp    0.106495\n",
            "18  north_central_temp    0.105094\n",
            "22         day_of_week    0.071396\n",
            "15           east_temp    0.051504\n",
            "12         natural_gas    0.040176\n",
            "10               solar    0.040018\n",
            "30    lmp_roll_mean_24    0.038494\n",
            "26           lmp_lag_2    0.028010\n",
            "20       southern_temp    0.026328\n",
            "11                wind    0.023791\n",
            "5           total_load    0.020773\n",
            "7                hydro    0.020407\n",
            "23        day_of_month    0.018966\n",
            "13           other_gen    0.017798\n",
            "14          coast_temp    0.016488\n",
            "19  south_central_temp    0.015600\n",
            "31    lmp_roll_mean_48    0.013853\n",
            "9        power_storage    0.013045\n",
            "3          west_x_load    0.011544\n",
            "29          lmp_lag_48    0.010826\n",
            "0                 hour    0.010622\n",
            "1         north_x_load    0.010382\n",
            "27           lmp_lag_3    0.010106\n",
            "4         houston_load    0.008818\n",
            "2           south_load    0.008451\n",
            "6     coal_and_lignite    0.007784\n",
            "21         west_y_temp    0.007691\n",
            "16       far_west_temp    0.007609\n",
            "28          lmp_lag_24    0.006331\n",
            "24               month    0.004632\n",
            "32   lmp_roll_mean_168    0.003898\n",
            "8              nuclear    0.003897\n"
          ]
        },
        {
          "data": {
            "image/png": "[encoded data removed]",
            "text/plain": [
              "<Figure size 1000x800 with 1 Axes>"
            ]
          },
          "metadata": {},
          "output_type": "display_data"
        }
      ],
      "source": [
        "importances = model.feature_importances_\n",
        "\n",
        "importance_df = pd.DataFrame({\n",
        "    'feature': X_train.columns,\n",
        "    'importance': importances\n",
        "}).sort_values(by='importance', ascending=False)\n",
        "\n",
        "print(importance_df)\n",
        "\n",
        "# Plot top 10\n",
        "top_n = 10\n",
        "importance_df.head(top_n).plot(kind='barh', x='feature', y='importance', figsize=(10, 8), legend=False)\n",
        "plt.title(\"Top Feature Importances\")\n",
        "plt.gca().invert_yaxis()\n",
        "plt.xlabel(\"Importance Score\")\n",
        "plt.tight_layout()\n",
        "plt.show()"
      ]
    },
    {
      "cell_type": "markdown",
      "metadata": {
        "id": "wKZQInyZmyx4"
      },
      "source": [
        "## 3.2 Lightgbm"
      ]
    },
    {
      "cell_type": "code",
      "execution_count": null,
      "metadata": {
        "ExecuteTime": {
          "end_time": "2025-04-20T14:49:29.536679Z",
          "start_time": "2025-04-20T14:49:25.919612Z"
        },
        "id": "BnLbmWHTmyx4",
        "outputId": "afb218f4-d10a-4d08-cc97-09d98d866e72"
      },
      "outputs": [
        {
          "name": "stdout",
          "output_type": "stream",
          "text": [
            "[LightGBM] [Info] Auto-choosing row-wise multi-threading, the overhead of testing was 0.001251 seconds.\n",
            "You can set `force_row_wise=true` to remove the overhead.\n",
            "And if memory is not enough, you can set `force_col_wise=true`.\n",
            "[LightGBM] [Info] Total Bins 7254\n",
            "[LightGBM] [Info] Number of data points in the train set: 52349, number of used features: 33\n",
            "[LightGBM] [Info] Start training from score 42.823374\n",
            " MSE:  5302.4296\n",
            "RMSE: 72.8178\n",
            " MAE:  28.4901\n"
          ]
        }
      ],
      "source": [
        "import lightgbm as lgb\n",
        "from sklearn.metrics import mean_squared_error, mean_absolute_error\n",
        "import numpy as np\n",
        "\n",
        "\n",
        "exclude_cols = ['interval_start_local', 'date', 'lmp_HB_BUSAVG']\n",
        "features = [c for c in train_df.columns if c not in exclude_cols]\n",
        "\n",
        "X_train, y_train = train_df[features], train_df['lmp_HB_BUSAVG']\n",
        "X_test,  y_test  = test_df[features],  test_df['lmp_HB_BUSAVG']\n",
        "\n",
        "#\n",
        "model = lgb.LGBMRegressor(\n",
        "    objective='regression',   #\n",
        "    metric='rmse',            #\n",
        "    num_leaves=31,            #\n",
        "    learning_rate=0.05,       #\n",
        "    n_estimators=500,         #\n",
        "    subsample=0.8,            #\n",
        "    colsample_bytree=0.8,     #\n",
        "    random_state=42\n",
        ")\n",
        "\n",
        "#\n",
        "model.fit(\n",
        "    X_train, y_train,\n",
        "    eval_set=[(X_train, y_train), (X_test, y_test)],\n",
        "    eval_metric='rmse'\n",
        ")\n",
        "\n",
        "#\n",
        "y_pred = model.predict(X_test)\n",
        "\n",
        "#\n",
        "mse  = mean_squared_error(y_test, y_pred)\n",
        "rmse = np.sqrt(mse)\n",
        "mae  = mean_absolute_error(y_test, y_pred)\n",
        "\n",
        "print(f\" MSE:  {mse:.4f}\")\n",
        "print(f\"RMSE: {rmse:.4f}\")\n",
        "print(f\" MAE:  {mae:.4f}\")\n"
      ]
    },
    {
      "cell_type": "markdown",
      "metadata": {
        "id": "_tRW6__Imyx4"
      },
      "source": [
        "### 3.2.1 Lightgbm Feature Importance"
      ]
    },
    {
      "cell_type": "code",
      "execution_count": null,
      "metadata": {
        "id": "DWrSSLURmyx4",
        "outputId": "e8c8000a-962c-4557-d755-09ae190641d4"
      },
      "outputs": [
        {
          "name": "stdout",
          "output_type": "stream",
          "text": [
            "               feature  importance\n",
            "17        north_y_temp        1282\n",
            "25           lmp_lag_1        1206\n",
            "15           east_temp        1025\n",
            "19  south_central_temp         930\n",
            "13           other_gen         834\n",
            "30    lmp_roll_mean_24         822\n",
            "16       far_west_temp         738\n",
            "9        power_storage         503\n",
            "26           lmp_lag_2         497\n",
            "7                hydro         466\n",
            "10               solar         457\n",
            "11                wind         451\n",
            "12         natural_gas         442\n",
            "27           lmp_lag_3         437\n",
            "6     coal_and_lignite         428\n",
            "20       southern_temp         418\n",
            "29          lmp_lag_48         397\n",
            "28          lmp_lag_24         393\n",
            "18  north_central_temp         355\n",
            "3          west_x_load         350\n",
            "14          coast_temp         340\n",
            "0                 hour         296\n",
            "31    lmp_roll_mean_48         290\n",
            "21         west_y_temp         246\n",
            "32   lmp_roll_mean_168         232\n",
            "1         north_x_load         191\n",
            "4         houston_load         188\n",
            "8              nuclear         177\n",
            "2           south_load         154\n",
            "5           total_load         130\n",
            "22         day_of_week         126\n",
            "23        day_of_month         125\n",
            "24               month          74\n"
          ]
        },
        {
          "data": {
            "image/png": "[encoded data removed]",
            "text/plain": [
              "<Figure size 1000x800 with 1 Axes>"
            ]
          },
          "metadata": {},
          "output_type": "display_data"
        }
      ],
      "source": [
        "importances = model.feature_importances_\n",
        "\n",
        "importance_df = pd.DataFrame({\n",
        "    'feature': X_train.columns,\n",
        "    'importance': importances\n",
        "}).sort_values(by='importance', ascending=False)\n",
        "\n",
        "print(importance_df)\n",
        "\n",
        "top_n = 10\n",
        "importance_df.head(top_n).plot(kind='barh', x='feature', y='importance', figsize=(10, 8), legend=False)\n",
        "plt.title(\"Top Feature Importances (LightGBM)\")\n",
        "plt.gca().invert_yaxis()  # Highest importance at the top\n",
        "plt.xlabel(\"Importance Score\")\n",
        "plt.tight_layout()\n",
        "plt.show()"
      ]
    },
    {
      "cell_type": "markdown",
      "metadata": {
        "id": "rAbj2gp8myx4"
      },
      "source": [
        "# 4. RNNs"
      ]
    },
    {
      "cell_type": "markdown",
      "metadata": {
        "id": "iSAUmsTgmyx5"
      },
      "source": [
        "## 4.1 LSTM"
      ]
    },
    {
      "cell_type": "code",
      "execution_count": null,
      "metadata": {
        "ExecuteTime": {
          "end_time": "2025-04-20T15:35:28.386356Z",
          "start_time": "2025-04-20T15:30:35.091069Z"
        },
        "id": "5kP-RntQmyx5",
        "outputId": "9010f5b6-c942-49b6-d9ee-ef518387e2ef"
      },
      "outputs": [
        {
          "name": "stderr",
          "output_type": "stream",
          "text": [
            "/Users/JChuang/Documents/Duke Semester 2/IDS ML/IDS705_final_project/.venv/lib/python3.13/site-packages/torch/nn/modules/loss.py:610: UserWarning: Using a target size (torch.Size([64, 1])) that is different to the input size (torch.Size([64])). This will likely lead to incorrect results due to broadcasting. Please ensure they have the same size.\n",
            "  return F.mse_loss(input, target, reduction=self.reduction)\n",
            "/Users/JChuang/Documents/Duke Semester 2/IDS ML/IDS705_final_project/.venv/lib/python3.13/site-packages/torch/nn/modules/loss.py:610: UserWarning: Using a target size (torch.Size([37, 1])) that is different to the input size (torch.Size([37])). This will likely lead to incorrect results due to broadcasting. Please ensure they have the same size.\n",
            "  return F.mse_loss(input, target, reduction=self.reduction)\n"
          ]
        },
        {
          "name": "stdout",
          "output_type": "stream",
          "text": [
            "Epoch 1/20, Train MSE=0.000691\n",
            "Epoch 2/20, Train MSE=0.000613\n",
            "Epoch 3/20, Train MSE=0.000609\n",
            "Epoch 4/20, Train MSE=0.000607\n",
            "Epoch 5/20, Train MSE=0.000607\n",
            "Epoch 6/20, Train MSE=0.000605\n",
            "Epoch 7/20, Train MSE=0.000605\n",
            "Epoch 8/20, Train MSE=0.000607\n",
            "Epoch 9/20, Train MSE=0.000605\n",
            "Epoch 10/20, Train MSE=0.000603\n",
            "Epoch 11/20, Train MSE=0.000603\n",
            "Epoch 12/20, Train MSE=0.000602\n",
            "Epoch 13/20, Train MSE=0.000604\n",
            "Epoch 14/20, Train MSE=0.000602\n",
            "Epoch 15/20, Train MSE=0.000602\n",
            "Epoch 16/20, Train MSE=0.000602\n",
            "Epoch 17/20, Train MSE=0.000601\n",
            "Epoch 18/20, Train MSE=0.000601\n",
            "Epoch 19/20, Train MSE=0.000601\n",
            "Epoch 20/20, Train MSE=0.000601\n",
            " MSE:  4319.2778\n",
            "RMSE: 65.7212\n",
            " MAE:  17.1738\n"
          ]
        }
      ],
      "source": [
        "import numpy as np\n",
        "import pandas as pd\n",
        "from sklearn.preprocessing import MinMaxScaler\n",
        "from sklearn.metrics import mean_squared_error, mean_absolute_error\n",
        "\n",
        "import torch\n",
        "from torch import nn, optim\n",
        "from torch.utils.data import Dataset, DataLoader\n",
        "\n",
        "\n",
        "exclude_cols = ['interval_start_local', 'date', 'lmp_HB_BUSAVG']\n",
        "feature_cols = [c for c in train_df.columns if c not in exclude_cols]\n",
        "\n",
        "scaler_x = MinMaxScaler()\n",
        "scaler_y = MinMaxScaler()\n",
        "\n",
        "X_train_all = scaler_x.fit_transform(train_df[feature_cols])\n",
        "y_train_all = scaler_y.fit_transform(train_df[['lmp_HB_BUSAVG']])\n",
        "X_test_all  = scaler_x.transform(test_df[feature_cols])\n",
        "y_test_all  = scaler_y.transform(test_df[['lmp_HB_BUSAVG']])\n",
        "\n",
        "#\n",
        "class TimeSeriesDataset(Dataset):\n",
        "    def __init__(self, X, y, seq_len=24):\n",
        "        self.X, self.y, self.seq_len = X, y, seq_len\n",
        "\n",
        "    def __len__(self):\n",
        "        return len(self.X) - self.seq_len\n",
        "\n",
        "    def __getitem__(self, idx):\n",
        "        x_seq = self.X[idx:idx+self.seq_len]\n",
        "        y_seq = self.y[idx+self.seq_len]\n",
        "        return torch.FloatTensor(x_seq), torch.FloatTensor(y_seq)\n",
        "\n",
        "seq_len = 24\n",
        "train_ds = TimeSeriesDataset(X_train_all, y_train_all, seq_len)\n",
        "test_ds  = TimeSeriesDataset(X_test_all,  y_test_all,  seq_len)\n",
        "\n",
        "train_loader = DataLoader(train_ds, batch_size=64, shuffle=True)\n",
        "test_loader  = DataLoader(test_ds,  batch_size=64, shuffle=False)\n",
        "\n",
        "#\n",
        "class LSTMRegressor(nn.Module):\n",
        "    def __init__(self, n_features, hidden_size=64, num_layers=1):\n",
        "        super().__init__()\n",
        "        self.lstm = nn.LSTM(input_size=n_features,\n",
        "                            hidden_size=hidden_size,\n",
        "                            num_layers=num_layers,\n",
        "                            batch_first=True)\n",
        "        self.fc = nn.Linear(hidden_size, 1)\n",
        "\n",
        "    def forward(self, x):\n",
        "        # x: [batch, seq_len, n_features]\n",
        "        out, _ = self.lstm(x)         # out: [batch, seq_len, hidden_size]\n",
        "        out = out[:, -1, :]           #\n",
        "        return self.fc(out)           # [batch, 1]\n",
        "\n",
        "device = torch.device('cuda' if torch.cuda.is_available() else 'cpu')\n",
        "model  = LSTMRegressor(n_features=len(feature_cols)).to(device)\n",
        "criterion = nn.MSELoss()\n",
        "optimizer = optim.Adam(model.parameters(), lr=1e-3)\n",
        "\n",
        "#\n",
        "n_epochs = 20\n",
        "for epoch in range(1, n_epochs+1):\n",
        "    model.train()\n",
        "    total_loss = 0\n",
        "    for xb, yb in train_loader:\n",
        "        xb, yb = xb.to(device), yb.to(device)\n",
        "        optimizer.zero_grad()\n",
        "        y_pred = model(xb).squeeze(1)\n",
        "        loss = criterion(y_pred, yb)\n",
        "        loss.backward()\n",
        "        optimizer.step()\n",
        "        total_loss += loss.item() * xb.size(0)\n",
        "    avg_loss = total_loss / len(train_loader.dataset)\n",
        "    print(f\"Epoch {epoch}/{n_epochs}, Train MSE={avg_loss:.6f}\")\n",
        "\n",
        "\n",
        "model.eval()\n",
        "ys, preds = [], []\n",
        "with torch.no_grad():\n",
        "    for xb, yb in test_loader:\n",
        "        xb = xb.to(device)\n",
        "        y_pred = model(xb).squeeze(1).cpu().numpy()\n",
        "        preds.append(y_pred)\n",
        "        ys.append(yb.numpy())\n",
        "\n",
        "y_true = scaler_y.inverse_transform(np.concatenate(ys).reshape(-1,1))\n",
        "y_pred = scaler_y.inverse_transform(np.concatenate(preds).reshape(-1,1))\n",
        "\n",
        "\n",
        "mse  = mean_squared_error(y_true, y_pred)\n",
        "rmse = np.sqrt(mse)\n",
        "mae  = mean_absolute_error(y_true, y_pred)\n",
        "print(f\" MSE:  {mse:.4f}\")\n",
        "print(f\"RMSE: {rmse:.4f}\")\n",
        "print(f\" MAE:  {mae:.4f}\")\n"
      ]
    },
    {
      "cell_type": "markdown",
      "metadata": {
        "id": "AjUMiBXWmyx5"
      },
      "source": [
        "###  4.1.1 LSTM Feature Importance\n",
        "\n",
        "Permutation importance: shuffle one feature at a time in the test set, measure drop in performance, larger drop = more important feature"
      ]
    },
    {
      "cell_type": "code",
      "execution_count": null,
      "metadata": {
        "id": "Wpjy1t06myx5",
        "outputId": "fa314b86-c606-4549-977e-2d237de59aab"
      },
      "outputs": [
        {
          "name": "stdout",
          "output_type": "stream",
          "text": [
            "Base RMSE: 208.2635\n",
            "               feature  rmse_increase\n",
            "3          west_x_load      -9.063268\n",
            "23        day_of_month      -9.068190\n",
            "11                wind      -9.069916\n",
            "6     coal_and_lignite      -9.070132\n",
            "0                 hour      -9.070279\n",
            "30    lmp_roll_mean_24      -9.071053\n",
            "26           lmp_lag_2      -9.074426\n",
            "10               solar      -9.076623\n",
            "22         day_of_week      -9.076701\n",
            "5           total_load      -9.077417\n",
            "8              nuclear      -9.078692\n",
            "13           other_gen      -9.079025\n",
            "25           lmp_lag_1      -9.079162\n",
            "7                hydro      -9.079760\n",
            "29          lmp_lag_48      -9.081035\n",
            "32   lmp_roll_mean_168      -9.081516\n",
            "31    lmp_roll_mean_48      -9.081722\n",
            "4         houston_load      -9.081820\n",
            "12         natural_gas      -9.082094\n",
            "28          lmp_lag_24      -9.082388\n",
            "27           lmp_lag_3      -9.082614\n",
            "9        power_storage      -9.083408\n",
            "18  north_central_temp      -9.085722\n",
            "24               month      -9.086517\n",
            "19  south_central_temp      -9.088272\n",
            "21         west_y_temp      -9.088684\n",
            "20       southern_temp      -9.090929\n",
            "14          coast_temp      -9.092950\n",
            "15           east_temp      -9.093930\n",
            "1         north_x_load      -9.098235\n",
            "16       far_west_temp      -9.102423\n",
            "17        north_y_temp      -9.110710\n",
            "2           south_load      -9.111347\n"
          ]
        }
      ],
      "source": [
        "from torch.utils.data import Subset\n",
        "\n",
        "subset_len = int(0.2 * len(train_ds))\n",
        "subset_idx = np.random.choice(np.arange(len(train_ds)), size=subset_len, replace=False)\n",
        "\n",
        "subset_ds = Subset(train_ds, subset_idx)\n",
        "\n",
        "subset_loader = DataLoader(subset_ds, batch_size=64, shuffle=False)\n",
        "model.eval()\n",
        "preds, ys = [], []\n",
        "with torch.no_grad():\n",
        "    for xb, yb in subset_loader:\n",
        "        xb = xb.to(device)\n",
        "        y_pred = model(xb).squeeze(1).cpu().numpy()\n",
        "        preds.append(y_pred)\n",
        "        ys.append(yb.numpy())\n",
        "\n",
        "y_true = scaler_y.inverse_transform(np.concatenate(ys).reshape(-1, 1))\n",
        "y_pred = scaler_y.inverse_transform(np.concatenate(preds).reshape(-1, 1))\n",
        "base_rmse = np.sqrt(mean_squared_error(y_true, y_pred))\n",
        "print(f\"Base RMSE: {base_rmse:.4f}\")\n",
        "\n",
        "def permute_and_score(model, dataset, feature_idx, base_rmse, scaler_y, device):\n",
        "    # Handle Subset or original TimeSeriesDataset\n",
        "    if isinstance(dataset, torch.utils.data.Subset):\n",
        "        base_ds = dataset.dataset\n",
        "        indices = dataset.indices\n",
        "        X = base_ds.X[indices].copy()\n",
        "        y = base_ds.y[indices].copy()\n",
        "    else:\n",
        "        X = dataset.X.copy()\n",
        "        y = dataset.y.copy()\n",
        "\n",
        "    # Permute the selected feature column\n",
        "    np.random.shuffle(X[:, feature_idx])\n",
        "\n",
        "    perm_ds = TimeSeriesDataset(X, y, seq_len=24)\n",
        "    loader = DataLoader(perm_ds, batch_size=64, shuffle=False)\n",
        "\n",
        "    model.eval()\n",
        "    preds, ys = [], []\n",
        "    with torch.no_grad():\n",
        "        for xb, yb in loader:\n",
        "            xb = xb.to(device)\n",
        "            y_pred = model(xb).squeeze(1).cpu().numpy()\n",
        "            preds.append(y_pred)\n",
        "            ys.append(yb.numpy())\n",
        "\n",
        "    y_true = scaler_y.inverse_transform(np.concatenate(ys).reshape(-1, 1))\n",
        "    y_pred = scaler_y.inverse_transform(np.concatenate(preds).reshape(-1, 1))\n",
        "    rmse = np.sqrt(mean_squared_error(y_true, y_pred))\n",
        "    return rmse - base_rmse\n",
        "\n",
        "from joblib import Parallel, delayed\n",
        "\n",
        "importances = Parallel(n_jobs=-1)(\n",
        "    delayed(permute_and_score)(model, subset_ds, i, base_rmse, scaler_y, device)\n",
        "    for i in range(len(feature_cols))\n",
        ")\n",
        "\n",
        "importance_df = pd.DataFrame({\n",
        "    'feature': feature_cols,\n",
        "    'rmse_increase': importances\n",
        "}).sort_values(by='rmse_increase', ascending=False)\n",
        "\n",
        "print(importance_df)\n"
      ]
    },
    {
      "cell_type": "markdown",
      "metadata": {
        "id": "-3ibcACXmyx5"
      },
      "source": [
        "## 4.2 GRU"
      ]
    },
    {
      "cell_type": "code",
      "execution_count": null,
      "metadata": {
        "ExecuteTime": {
          "end_time": "2025-04-18T13:44:06.668745Z",
          "start_time": "2025-04-18T13:35:10.490763Z"
        },
        "id": "3fjIf3ZWmyx5",
        "outputId": "cfbb4b95-14ad-4d62-98e1-0796ea2cb84c"
      },
      "outputs": [
        {
          "name": "stderr",
          "output_type": "stream",
          "text": [
            "/Users/JChuang/Documents/Duke Semester 2/IDS ML/IDS705_final_project/.venv/lib/python3.13/site-packages/torch/nn/modules/loss.py:610: UserWarning: Using a target size (torch.Size([64, 1])) that is different to the input size (torch.Size([64])). This will likely lead to incorrect results due to broadcasting. Please ensure they have the same size.\n",
            "  return F.mse_loss(input, target, reduction=self.reduction)\n",
            "/Users/JChuang/Documents/Duke Semester 2/IDS ML/IDS705_final_project/.venv/lib/python3.13/site-packages/torch/nn/modules/loss.py:610: UserWarning: Using a target size (torch.Size([37, 1])) that is different to the input size (torch.Size([37])). This will likely lead to incorrect results due to broadcasting. Please ensure they have the same size.\n",
            "  return F.mse_loss(input, target, reduction=self.reduction)\n"
          ]
        },
        {
          "name": "stdout",
          "output_type": "stream",
          "text": [
            "Epoch 1/20, Train MSE=0.001075\n",
            "Epoch 2/20, Train MSE=0.000630\n",
            "Epoch 3/20, Train MSE=0.000621\n",
            "Epoch 4/20, Train MSE=0.000624\n",
            "Epoch 5/20, Train MSE=0.000621\n",
            "Epoch 6/20, Train MSE=0.000621\n",
            "Epoch 7/20, Train MSE=0.000612\n",
            "Epoch 8/20, Train MSE=0.000612\n",
            "Epoch 9/20, Train MSE=0.000608\n",
            "Epoch 10/20, Train MSE=0.000606\n",
            "Epoch 11/20, Train MSE=0.000605\n",
            "Epoch 12/20, Train MSE=0.000605\n",
            "Epoch 13/20, Train MSE=0.000602\n",
            "Epoch 14/20, Train MSE=0.000602\n",
            "Epoch 15/20, Train MSE=0.000603\n",
            "Epoch 16/20, Train MSE=0.000601\n",
            "Epoch 17/20, Train MSE=0.000601\n",
            "Epoch 18/20, Train MSE=0.000601\n",
            "Epoch 19/20, Train MSE=0.000601\n",
            "Epoch 20/20, Train MSE=0.000601\n",
            " MSE:  4386.0664\n",
            "RMSE: 66.2274\n",
            " MAE:  18.7034\n"
          ]
        }
      ],
      "source": [
        "import os\n",
        "os.environ[\"CUDA_VISIBLE_DEVICES\"] = \"\"\n",
        "\n",
        "import numpy as np\n",
        "import pandas as pd\n",
        "from sklearn.preprocessing import MinMaxScaler\n",
        "from sklearn.metrics import mean_squared_error, mean_absolute_error\n",
        "\n",
        "import torch\n",
        "from torch import nn, optim\n",
        "from torch.utils.data import Dataset, DataLoader\n",
        "\n",
        "\n",
        "exclude_cols = ['interval_start_local', 'date', 'lmp_HB_BUSAVG']\n",
        "feature_cols = [c for c in train_df.columns if c not in exclude_cols]\n",
        "\n",
        "scaler_x = MinMaxScaler()\n",
        "scaler_y = MinMaxScaler()\n",
        "\n",
        "X_train_all = scaler_x.fit_transform(train_df[feature_cols])\n",
        "y_train_all = scaler_y.fit_transform(train_df[['lmp_HB_BUSAVG']])\n",
        "X_test_all  = scaler_x.transform(test_df[feature_cols])\n",
        "y_test_all  = scaler_y.transform(test_df[['lmp_HB_BUSAVG']])\n",
        "\n",
        "#\n",
        "class TimeSeriesDataset(Dataset):\n",
        "    def __init__(self, X, y, seq_len=24):\n",
        "        self.X, self.y, self.seq_len = X, y, seq_len\n",
        "\n",
        "    def __len__(self):\n",
        "        return len(self.X) - self.seq_len\n",
        "\n",
        "    def __getitem__(self, idx):\n",
        "        x_seq = self.X[idx:idx+self.seq_len]\n",
        "        y_seq = self.y[idx+self.seq_len]\n",
        "        return torch.FloatTensor(x_seq), torch.FloatTensor(y_seq)\n",
        "\n",
        "seq_len = 24\n",
        "train_ds = TimeSeriesDataset(X_train_all, y_train_all, seq_len)\n",
        "test_ds  = TimeSeriesDataset(X_test_all,  y_test_all,  seq_len)\n",
        "\n",
        "train_loader = DataLoader(train_ds, batch_size=64, shuffle=True)\n",
        "test_loader  = DataLoader(test_ds,  batch_size=64, shuffle=False)\n",
        "\n",
        "#\n",
        "class GRURegressor(nn.Module):\n",
        "    def __init__(self, n_features, hidden_size=64, num_layers=1):\n",
        "        super().__init__()\n",
        "        self.gru = nn.GRU(input_size=n_features,\n",
        "                          hidden_size=hidden_size,\n",
        "                          num_layers=num_layers,\n",
        "                          batch_first=True)\n",
        "        self.fc = nn.Linear(hidden_size, 1)\n",
        "\n",
        "    def forward(self, x):\n",
        "        out, _ = self.gru(x)\n",
        "        out = out[:, -1, :]\n",
        "        return self.fc(out)\n",
        "\n",
        "device = torch.device('cpu')\n",
        "model  = GRURegressor(n_features=len(feature_cols)).to(device)\n",
        "criterion = nn.MSELoss()\n",
        "optimizer = optim.Adam(model.parameters(), lr=1e-3)\n",
        "\n",
        "#\n",
        "n_epochs = 20\n",
        "for epoch in range(1, n_epochs+1):\n",
        "    model.train()\n",
        "    total_loss = 0\n",
        "    for xb, yb in train_loader:\n",
        "        xb, yb = xb.to(device), yb.to(device)\n",
        "        optimizer.zero_grad()\n",
        "        y_pred = model(xb).squeeze(1)\n",
        "        loss = criterion(y_pred, yb)\n",
        "        loss.backward()\n",
        "        optimizer.step()\n",
        "        total_loss += loss.item() * xb.size(0)\n",
        "    avg_loss = total_loss / len(train_loader.dataset)\n",
        "    print(f\"Epoch {epoch}/{n_epochs}, Train MSE={avg_loss:.6f}\")\n",
        "\n",
        "#\n",
        "model.eval()\n",
        "ys, preds = [], []\n",
        "with torch.no_grad():\n",
        "    for xb, yb in test_loader:\n",
        "        xb = xb.to(device)\n",
        "        y_pred = model(xb).squeeze(1).cpu().numpy()\n",
        "        preds.append(y_pred)\n",
        "        ys.append(yb.numpy())\n",
        "\n",
        "y_true = scaler_y.inverse_transform(np.concatenate(ys).reshape(-1,1))\n",
        "y_pred = scaler_y.inverse_transform(np.concatenate(preds).reshape(-1,1))\n",
        "\n",
        "#\n",
        "mse  = mean_squared_error(y_true, y_pred)\n",
        "rmse = np.sqrt(mse)\n",
        "mae  = mean_absolute_error(y_true, y_pred)\n",
        "print(f\" MSE:  {mse:.4f}\")\n",
        "print(f\"RMSE: {rmse:.4f}\")\n",
        "print(f\" MAE:  {mae:.4f}\")"
      ]
    },
    {
      "cell_type": "markdown",
      "metadata": {
        "id": "kCRTlm3imyx6"
      },
      "source": [
        "### 4.2.1 GRU Feature Importance"
      ]
    },
    {
      "cell_type": "code",
      "execution_count": null,
      "metadata": {
        "id": "_IBso29Mmyx6",
        "outputId": "60007432-8a99-434d-ab3b-4a7deddd64b5"
      },
      "outputs": [
        {
          "name": "stdout",
          "output_type": "stream",
          "text": [
            "Base RMSE (on training subset): 178.7000\n",
            "          feature  rmse_increase\n",
            "21    west_y_temp      45.746679\n",
            "5      total_load      45.728474\n",
            "12    natural_gas      45.706986\n",
            "10          solar      45.701607\n",
            "20  southern_temp      45.694296\n",
            "22    day_of_week      45.693156\n",
            "0            hour      45.690771\n",
            "8         nuclear      45.687785\n",
            "29     lmp_lag_48      45.687750\n",
            "26      lmp_lag_2      45.687437\n"
          ]
        }
      ],
      "source": [
        "# Take a 20% random sample from training data\n",
        "subset_len = int(0.2 * len(train_ds))\n",
        "subset_idx = np.random.choice(np.arange(len(train_ds)), size=subset_len, replace=False)\n",
        "\n",
        "subset_ds = Subset(train_ds, subset_idx)\n",
        "subset_loader = DataLoader(subset_ds, batch_size=64, shuffle=False)\n",
        "\n",
        "model.eval()\n",
        "ys, preds = [], []\n",
        "with torch.no_grad():\n",
        "    for xb, yb in subset_loader:\n",
        "        xb = xb.to(device)\n",
        "        y_pred = model(xb).squeeze(1).cpu().numpy()\n",
        "        preds.append(y_pred)\n",
        "        ys.append(yb.numpy())\n",
        "\n",
        "y_true_subset = scaler_y.inverse_transform(np.concatenate(ys).reshape(-1, 1))\n",
        "y_pred_subset = scaler_y.inverse_transform(np.concatenate(preds).reshape(-1, 1))\n",
        "base_rmse = np.sqrt(mean_squared_error(y_true_subset, y_pred_subset))\n",
        "print(f\"Base RMSE (on training subset): {base_rmse:.4f}\")\n",
        "\n",
        "def permute_and_score(model, dataset, feature_idx, base_rmse, scaler_y, device):\n",
        "    # Handle Subset and extract .X and .y\n",
        "    if isinstance(dataset, Subset):\n",
        "        base_ds = dataset.dataset\n",
        "        indices = dataset.indices\n",
        "        X = base_ds.X[indices].copy()\n",
        "        y = base_ds.y[indices].copy()\n",
        "    else:\n",
        "        X = dataset.X.copy()\n",
        "        y = dataset.y.copy()\n",
        "\n",
        "    # Permute selected feature across time series\n",
        "    np.random.shuffle(X[:, feature_idx])\n",
        "\n",
        "    perm_ds = TimeSeriesDataset(X, y, seq_len=24)\n",
        "    loader = DataLoader(perm_ds, batch_size=64, shuffle=False)\n",
        "\n",
        "    model.eval()\n",
        "    preds, ys = [], []\n",
        "    with torch.no_grad():\n",
        "        for xb, yb in loader:\n",
        "            xb = xb.to(device)\n",
        "            y_pred = model(xb).squeeze(1).cpu().numpy()\n",
        "            preds.append(y_pred)\n",
        "            ys.append(yb.numpy())\n",
        "\n",
        "    y_true = scaler_y.inverse_transform(np.concatenate(ys).reshape(-1, 1))\n",
        "    y_pred = scaler_y.inverse_transform(np.concatenate(preds).reshape(-1, 1))\n",
        "    rmse = np.sqrt(mean_squared_error(y_true, y_pred))\n",
        "    return rmse - base_rmse\n",
        "\n",
        "importances = Parallel(n_jobs=-1)(\n",
        "    delayed(permute_and_score)(model, subset_ds, i, base_rmse, scaler_y, device)\n",
        "    for i in range(len(feature_cols))\n",
        ")\n",
        "\n",
        "importance_df = pd.DataFrame({\n",
        "    'feature': feature_cols,\n",
        "    'rmse_increase': importances\n",
        "}).sort_values(by='rmse_increase', ascending=False)\n",
        "\n",
        "print(importance_df.head(10))"
      ]
    },
    {
      "cell_type": "markdown",
      "metadata": {
        "id": "fwH8fQu7myx6"
      },
      "source": [
        "# 5. day-ahead forecasting"
      ]
    },
    {
      "cell_type": "markdown",
      "metadata": {
        "id": "dVecI7vkmyx6"
      },
      "source": [
        "## 5.1 xgboost"
      ]
    },
    {
      "cell_type": "code",
      "execution_count": 15,
      "metadata": {
        "ExecuteTime": {
          "end_time": "2025-04-18T13:03:00.287688Z",
          "start_time": "2025-04-18T13:02:53.668581Z"
        },
        "colab": {
          "base_uri": "https://localhost:8080/"
        },
        "id": "aY3rqv9Rmyx6",
        "outputId": "393e9227-a4ec-4cf8-d05f-46e6e9c14a33"
      },
      "outputs": [
        {
          "output_type": "stream",
          "name": "stdout",
          "text": [
            "[0]\tvalidation_0-rmse:218.19450\tvalidation_1-rmse:68.99556\n",
            "[10]\tvalidation_0-rmse:161.12826\tvalidation_1-rmse:74.86981\n",
            "[20]\tvalidation_0-rmse:128.03885\tvalidation_1-rmse:90.58459\n",
            "[30]\tvalidation_0-rmse:107.08435\tvalidation_1-rmse:99.40156\n",
            "[40]\tvalidation_0-rmse:94.26968\tvalidation_1-rmse:106.04799\n",
            "[50]\tvalidation_0-rmse:85.71692\tvalidation_1-rmse:118.82648\n",
            "[60]\tvalidation_0-rmse:80.56548\tvalidation_1-rmse:124.56611\n",
            "[70]\tvalidation_0-rmse:76.46248\tvalidation_1-rmse:130.60895\n",
            "[80]\tvalidation_0-rmse:73.29970\tvalidation_1-rmse:140.23754\n",
            "[90]\tvalidation_0-rmse:70.64679\tvalidation_1-rmse:143.68617\n",
            "[100]\tvalidation_0-rmse:68.71614\tvalidation_1-rmse:147.49933\n",
            "[110]\tvalidation_0-rmse:66.39793\tvalidation_1-rmse:152.28372\n",
            "[120]\tvalidation_0-rmse:64.89111\tvalidation_1-rmse:155.98177\n",
            "[130]\tvalidation_0-rmse:63.17992\tvalidation_1-rmse:158.49683\n",
            "[140]\tvalidation_0-rmse:61.47219\tvalidation_1-rmse:161.48102\n",
            "[150]\tvalidation_0-rmse:59.56999\tvalidation_1-rmse:161.84036\n",
            "[160]\tvalidation_0-rmse:58.24615\tvalidation_1-rmse:162.61836\n",
            "[170]\tvalidation_0-rmse:57.14922\tvalidation_1-rmse:164.01121\n",
            "[180]\tvalidation_0-rmse:55.44980\tvalidation_1-rmse:165.07960\n",
            "[190]\tvalidation_0-rmse:54.19826\tvalidation_1-rmse:166.98445\n",
            "[200]\tvalidation_0-rmse:52.95933\tvalidation_1-rmse:167.06617\n",
            "[210]\tvalidation_0-rmse:51.75648\tvalidation_1-rmse:167.82219\n",
            "[220]\tvalidation_0-rmse:50.52027\tvalidation_1-rmse:167.90692\n",
            "[230]\tvalidation_0-rmse:49.44212\tvalidation_1-rmse:167.68834\n",
            "[240]\tvalidation_0-rmse:48.37182\tvalidation_1-rmse:168.89629\n",
            "[250]\tvalidation_0-rmse:47.13056\tvalidation_1-rmse:169.14733\n",
            "[260]\tvalidation_0-rmse:46.24627\tvalidation_1-rmse:169.70656\n",
            "[270]\tvalidation_0-rmse:44.83336\tvalidation_1-rmse:170.53684\n",
            "[280]\tvalidation_0-rmse:43.83344\tvalidation_1-rmse:171.22147\n",
            "[290]\tvalidation_0-rmse:42.84702\tvalidation_1-rmse:171.06493\n",
            "[300]\tvalidation_0-rmse:41.95972\tvalidation_1-rmse:171.55464\n",
            "[310]\tvalidation_0-rmse:41.30387\tvalidation_1-rmse:172.13926\n",
            "[320]\tvalidation_0-rmse:40.38748\tvalidation_1-rmse:172.52237\n",
            "[330]\tvalidation_0-rmse:39.65462\tvalidation_1-rmse:173.19480\n",
            "[340]\tvalidation_0-rmse:38.91830\tvalidation_1-rmse:173.58443\n",
            "[350]\tvalidation_0-rmse:38.41934\tvalidation_1-rmse:173.86582\n",
            "[360]\tvalidation_0-rmse:37.83982\tvalidation_1-rmse:174.45836\n",
            "[370]\tvalidation_0-rmse:37.23516\tvalidation_1-rmse:175.11786\n",
            "[380]\tvalidation_0-rmse:36.60654\tvalidation_1-rmse:175.58654\n",
            "[390]\tvalidation_0-rmse:35.78448\tvalidation_1-rmse:175.67331\n",
            "[400]\tvalidation_0-rmse:34.80845\tvalidation_1-rmse:176.78929\n",
            "[410]\tvalidation_0-rmse:34.05556\tvalidation_1-rmse:177.68071\n",
            "[420]\tvalidation_0-rmse:33.68350\tvalidation_1-rmse:178.80254\n",
            "[430]\tvalidation_0-rmse:33.18378\tvalidation_1-rmse:179.03065\n",
            "[440]\tvalidation_0-rmse:32.84270\tvalidation_1-rmse:179.16342\n",
            "[450]\tvalidation_0-rmse:32.48791\tvalidation_1-rmse:179.68768\n",
            "[460]\tvalidation_0-rmse:32.05390\tvalidation_1-rmse:179.98050\n",
            "[470]\tvalidation_0-rmse:31.45739\tvalidation_1-rmse:180.89861\n",
            "[480]\tvalidation_0-rmse:30.97051\tvalidation_1-rmse:181.23147\n",
            "[490]\tvalidation_0-rmse:30.37321\tvalidation_1-rmse:181.71415\n",
            "[499]\tvalidation_0-rmse:29.97949\tvalidation_1-rmse:182.21892\n",
            " MSE:  33203.7359\n",
            "RMSE: 182.2189\n",
            " MAE:  78.1723\n"
          ]
        }
      ],
      "source": [
        "import pandas as pd\n",
        "import numpy as np\n",
        "from xgboost import XGBRegressor\n",
        "from sklearn.metrics import mean_squared_error, mean_absolute_error\n",
        "\n",
        "#\n",
        "df = pd.read_csv('all_hourly_data.csv')\n",
        "df['interval_start_local'] = pd.to_datetime(df['interval_start_local'], utc=True)\n",
        "\n",
        "#\n",
        "df['day_of_week']  = df['interval_start_local'].dt.dayofweek\n",
        "df['day_of_month'] = df['interval_start_local'].dt.day\n",
        "df['month']        = df['interval_start_local'].dt.month\n",
        "\n",
        "#\n",
        "for lag in [1, 2, 3, 24, 48]:\n",
        "    df[f'lmp_lag_{lag}'] = df['lmp_HB_BUSAVG'].shift(lag)\n",
        "\n",
        "#\n",
        "df['lmp_roll_mean_24']  = df['lmp_HB_BUSAVG'].rolling(24).mean()\n",
        "df['lmp_roll_mean_48']  = df['lmp_HB_BUSAVG'].rolling(48).mean()\n",
        "df['lmp_roll_mean_168'] = df['lmp_HB_BUSAVG'].rolling(168).mean()\n",
        "\n",
        "\n",
        "df['target_24h'] = df['lmp_HB_BUSAVG'].shift(-24)\n",
        "\n",
        "\n",
        "df = df.dropna().reset_index(drop=True)\n",
        "\n",
        "\n",
        "train_start = pd.Timestamp('2018-01-08 06:00:00+0000', tz='UTC')\n",
        "train_end   = pd.Timestamp('2023-12-31 23:59:59+0000', tz='UTC')\n",
        "test_start  = pd.Timestamp('2024-01-01 00:00:00+0000', tz='UTC')\n",
        "test_end    = pd.Timestamp('2025-04-13 04:00:00+0000', tz='UTC')\n",
        "\n",
        "mask_train = (df['interval_start_local'] >= train_start) & (df['interval_start_local'] <= train_end)\n",
        "mask_test  = (df['interval_start_local'] >= test_start)  & (df['interval_start_local'] <= test_end)\n",
        "\n",
        "train_df = df.loc[mask_train].reset_index(drop=True)\n",
        "test_df  = df.loc[mask_test].reset_index(drop=True)\n",
        "\n",
        "\n",
        "exclude_cols = ['interval_start_local', 'date', 'lmp_HB_BUSAVG', 'target_24h']\n",
        "features = [c for c in train_df.columns if c not in exclude_cols]\n",
        "X_train, y_train = train_df[features], train_df['target_24h']\n",
        "X_test,  y_test  = test_df[features],  test_df['target_24h']\n",
        "\n",
        "\n",
        "model = XGBRegressor(\n",
        "    objective='reg:squarederror',\n",
        "    eval_metric='rmse',\n",
        "    n_estimators=500,\n",
        "    max_depth=6,\n",
        "    learning_rate=0.05,\n",
        "    subsample=0.8,\n",
        "    colsample_bytree=0.8,\n",
        "    random_state=42\n",
        ")\n",
        "\n",
        "#\n",
        "model.fit(\n",
        "    X_train, y_train,\n",
        "    eval_set=[(X_train, y_train), (X_test, y_test)],\n",
        "    verbose=10\n",
        ")\n",
        "\n",
        "#\n",
        "y_pred = model.predict(X_test)\n",
        "mse  = mean_squared_error(y_test, y_pred)\n",
        "rmse = np.sqrt(mse)\n",
        "mae  = mean_absolute_error(y_test, y_pred)\n",
        "\n",
        "print(f\" MSE:  {mse:.4f}\")\n",
        "print(f\"RMSE: {rmse:.4f}\")\n",
        "print(f\" MAE:  {mae:.4f}\")\n"
      ]
    },
    {
      "cell_type": "markdown",
      "source": [
        "###5.1.1 Xgboost Feature Importance"
      ],
      "metadata": {
        "id": "OMPp1y9ppEVN"
      }
    },
    {
      "cell_type": "code",
      "source": [
        "importances = model.feature_importances_\n",
        "\n",
        "importance_df = pd.DataFrame({\n",
        "    'feature': X_train.columns,\n",
        "    'importance': importances\n",
        "}).sort_values(by='importance', ascending=False)\n",
        "\n",
        "print(importance_df)\n",
        "\n",
        "# Plot top 10\n",
        "top_n = 10\n",
        "importance_df.head(top_n).plot(kind='barh', x='feature', y='importance', figsize=(10, 8), legend=False)\n",
        "plt.title(\"Top Feature Importances\")\n",
        "plt.gca().invert_yaxis()\n",
        "plt.xlabel(\"Importance Score\")\n",
        "plt.tight_layout()\n",
        "plt.show()"
      ],
      "metadata": {
        "colab": {
          "base_uri": "https://localhost:8080/",
          "height": 1000
        },
        "id": "3wHwg-YiqDfC",
        "outputId": "a0a30e29-69f9-4e26-9e68-177105da837b"
      },
      "execution_count": 16,
      "outputs": [
        {
          "output_type": "stream",
          "name": "stdout",
          "text": [
            "               feature  importance\n",
            "31    lmp_roll_mean_48    0.139814\n",
            "20       southern_temp    0.099612\n",
            "7                hydro    0.092254\n",
            "30    lmp_roll_mean_24    0.078178\n",
            "10               solar    0.062097\n",
            "25           lmp_lag_1    0.056093\n",
            "5           total_load    0.039313\n",
            "15           east_temp    0.033720\n",
            "21         west_y_temp    0.025324\n",
            "22         day_of_week    0.021875\n",
            "19  south_central_temp    0.021675\n",
            "24               month    0.021548\n",
            "8              nuclear    0.020705\n",
            "12         natural_gas    0.019104\n",
            "23        day_of_month    0.018887\n",
            "11                wind    0.018382\n",
            "16       far_west_temp    0.017905\n",
            "29          lmp_lag_48    0.017653\n",
            "6     coal_and_lignite    0.017510\n",
            "32   lmp_roll_mean_168    0.016852\n",
            "28          lmp_lag_24    0.016240\n",
            "9        power_storage    0.016006\n",
            "2           south_load    0.015689\n",
            "17        north_y_temp    0.013886\n",
            "14          coast_temp    0.012919\n",
            "18  north_central_temp    0.012817\n",
            "26           lmp_lag_2    0.011842\n",
            "3          west_x_load    0.011464\n",
            "1         north_x_load    0.011101\n",
            "4         houston_load    0.010738\n",
            "27           lmp_lag_3    0.010129\n",
            "0                 hour    0.009827\n",
            "13           other_gen    0.008841\n"
          ]
        },
        {
          "output_type": "display_data",
          "data": {
            "text/plain": [
              "<Figure size 1000x800 with 1 Axes>"
            ],
            "image/png": "[encoded data removed]"
          },
          "metadata": {}
        }
      ]
    },
    {
      "cell_type": "markdown",
      "source": [
        "### 5.1.2 Hyperparameter tuning"
      ],
      "metadata": {
        "id": "w_6cbWN3pZXh"
      }
    },
    {
      "cell_type": "code",
      "source": [
        "!pip install optuna"
      ],
      "metadata": {
        "colab": {
          "base_uri": "https://localhost:8080/"
        },
        "id": "MFnG4XB4rhyz",
        "outputId": "95d920b1-292e-4b63-8ea9-895c969dc351"
      },
      "execution_count": 17,
      "outputs": [
        {
          "output_type": "stream",
          "name": "stdout",
          "text": [
            "Collecting optuna\n",
            "  Downloading optuna-4.3.0-py3-none-any.whl.metadata (17 kB)\n",
            "Collecting alembic>=1.5.0 (from optuna)\n",
            "  Downloading alembic-1.15.2-py3-none-any.whl.metadata (7.3 kB)\n",
            "Collecting colorlog (from optuna)\n",
            "  Downloading colorlog-6.9.0-py3-none-any.whl.metadata (10 kB)\n",
            "Requirement already satisfied: numpy in /usr/local/lib/python3.11/dist-packages (from optuna) (2.0.2)\n",
            "Requirement already satisfied: packaging>=20.0 in /usr/local/lib/python3.11/dist-packages (from optuna) (24.2)\n",
            "Requirement already satisfied: sqlalchemy>=1.4.2 in /usr/local/lib/python3.11/dist-packages (from optuna) (2.0.40)\n",
            "Requirement already satisfied: tqdm in /usr/local/lib/python3.11/dist-packages (from optuna) (4.67.1)\n",
            "Requirement already satisfied: PyYAML in /usr/local/lib/python3.11/dist-packages (from optuna) (6.0.2)\n",
            "Requirement already satisfied: Mako in /usr/lib/python3/dist-packages (from alembic>=1.5.0->optuna) (1.1.3)\n",
            "Requirement already satisfied: typing-extensions>=4.12 in /usr/local/lib/python3.11/dist-packages (from alembic>=1.5.0->optuna) (4.13.2)\n",
            "Requirement already satisfied: greenlet>=1 in /usr/local/lib/python3.11/dist-packages (from sqlalchemy>=1.4.2->optuna) (3.2.0)\n",
            "Downloading optuna-4.3.0-py3-none-any.whl (386 kB)\n",
            "\u001b[2K   \u001b[90m━━━━━━━━━━━━━━━━━━━━━━━━━━━━━━━━━━━━━━━━\u001b[0m \u001b[32m386.6/386.6 kB\u001b[0m \u001b[31m25.8 MB/s\u001b[0m eta \u001b[36m0:00:00\u001b[0m\n",
            "\u001b[?25hDownloading alembic-1.15.2-py3-none-any.whl (231 kB)\n",
            "\u001b[2K   \u001b[90m━━━━━━━━━━━━━━━━━━━━━━━━━━━━━━━━━━━━━━━━\u001b[0m \u001b[32m231.9/231.9 kB\u001b[0m \u001b[31m18.8 MB/s\u001b[0m eta \u001b[36m0:00:00\u001b[0m\n",
            "\u001b[?25hDownloading colorlog-6.9.0-py3-none-any.whl (11 kB)\n",
            "Installing collected packages: colorlog, alembic, optuna\n",
            "Successfully installed alembic-1.15.2 colorlog-6.9.0 optuna-4.3.0\n"
          ]
        }
      ]
    },
    {
      "cell_type": "code",
      "source": [
        "import optuna\n",
        "from xgboost import XGBRegressor\n",
        "from sklearn.metrics import mean_squared_error\n",
        "import numpy as np\n",
        "\n",
        "def objective(trial):\n",
        "    params = {\n",
        "        #Do not need as deep or complex trees for day-ahead predictions compared to hourly because data has smoother trends and long term temporal dependencies\n",
        "        \"n_estimators\": trial.suggest_int(\"n_estimators\", 100, 600), # Smaller upper limit compared to hourly\n",
        "        \"max_depth\": trial.suggest_int(\"max_depth\", 3, 8), # Shallower trees compared to hourly\n",
        "        \"learning_rate\": trial.suggest_float(\"learning_rate\", 1e-3, 0.3, log=True),\n",
        "        \"subsample\": trial.suggest_float(\"subsample\", 0.5, 1.0),\n",
        "        \"colsample_bytree\": trial.suggest_float(\"colsample_bytree\", 0.5, 1.0),\n",
        "        \"gamma\": trial.suggest_float(\"gamma\", 0.0, 5.0),\n",
        "        \"reg_alpha\": trial.suggest_float(\"reg_alpha\", 0.0, 5.0),\n",
        "        \"reg_lambda\": trial.suggest_float(\"reg_lambda\", 0.0, 5.0),\n",
        "\n",
        "        \"verbosity\": 0,\n",
        "        \"random_state\": 42,\n",
        "\n",
        "        \"objective\": \"reg:squarederror\",\n",
        "        \"eval_metric\": \"rmse\"\n",
        "    }\n",
        "\n",
        "    model = XGBRegressor(**params)\n",
        "    model.fit(\n",
        "        X_train, y_train,\n",
        "        eval_set=[(X_test, y_test)],\n",
        "        verbose=False\n",
        "    )\n",
        "\n",
        "    preds = model.predict(X_test)\n",
        "    rmse = np.sqrt(mean_squared_error(y_test, preds))\n",
        "    return rmse\n",
        "\n",
        "study = optuna.create_study(direction=\"minimize\", study_name=\"xgb_lmp_tuning\")\n",
        "study.optimize(objective, n_trials=50, timeout=600)\n",
        "\n",
        "print(\"Best RMSE: {:.4f}\".format(study.best_value))\n",
        "print(\"Best Params: \")\n",
        "for key, val in study.best_params.items():\n",
        "    print(f\"  {key}: {val}\")\n",
        "\n",
        "best_params = study.best_params\n",
        "\n",
        "best_model = XGBRegressor(\n",
        "    **best_params,\n",
        "    objective=\"reg:squarederror\",\n",
        "    eval_metric=\"rmse\",\n",
        "    random_state=42,\n",
        "    verbosity=0\n",
        ")\n",
        "best_model.fit(\n",
        "    X_train, y_train,\n",
        "    eval_set=[(X_test, y_test)],\n",
        "    verbose=False\n",
        ")\n",
        "\n",
        "y_pred = best_model.predict(X_test)\n",
        "mse  = mean_squared_error(y_test, y_pred)\n",
        "rmse = np.sqrt(mse)\n",
        "mae  = np.mean(np.abs(y_test - y_pred))\n",
        "print(f\"Final Test RMSE: {rmse:.4f}, MAE: {mae:.4f}\")\n"
      ],
      "metadata": {
        "colab": {
          "base_uri": "https://localhost:8080/"
        },
        "id": "j9a9DWR7rWRr",
        "outputId": "6506c51a-7e1d-4c90-f02a-f6514d9b7674"
      },
      "execution_count": 18,
      "outputs": [
        {
          "output_type": "stream",
          "name": "stderr",
          "text": [
            "[I 2025-04-21 14:12:26,710] A new study created in memory with name: xgb_lmp_tuning\n",
            "[I 2025-04-21 14:12:36,965] Trial 0 finished with value: 68.3672111731424 and parameters: {'n_estimators': 401, 'max_depth': 6, 'learning_rate': 0.001333247591501298, 'subsample': 0.9308978197379469, 'colsample_bytree': 0.790018017607209, 'gamma': 3.4431239415664643, 'reg_alpha': 2.7659068968935823, 'reg_lambda': 4.17109324139073}. Best is trial 0 with value: 68.3672111731424.\n",
            "[I 2025-04-21 14:12:44,915] Trial 1 finished with value: 82.5287257258048 and parameters: {'n_estimators': 231, 'max_depth': 8, 'learning_rate': 0.003173244500847298, 'subsample': 0.7971625172902261, 'colsample_bytree': 0.9941289749780358, 'gamma': 2.1026745634097477, 'reg_alpha': 4.025590660001931, 'reg_lambda': 1.0305290299632426}. Best is trial 0 with value: 68.3672111731424.\n",
            "[I 2025-04-21 14:12:53,113] Trial 2 finished with value: 118.67017561655774 and parameters: {'n_estimators': 596, 'max_depth': 6, 'learning_rate': 0.007780636203636944, 'subsample': 0.7907606942508971, 'colsample_bytree': 0.5160531439718524, 'gamma': 2.0340569146105447, 'reg_alpha': 2.552383095242758, 'reg_lambda': 1.4124167227895263}. Best is trial 0 with value: 68.3672111731424.\n",
            "[I 2025-04-21 14:13:00,105] Trial 3 finished with value: 143.69638485964052 and parameters: {'n_estimators': 255, 'max_depth': 7, 'learning_rate': 0.01692434791161626, 'subsample': 0.9736517295945386, 'colsample_bytree': 0.8880479756118398, 'gamma': 4.426523032268578, 'reg_alpha': 1.567071379684832, 'reg_lambda': 1.0419073585109584}. Best is trial 0 with value: 68.3672111731424.\n",
            "[I 2025-04-21 14:13:05,502] Trial 4 finished with value: 66.69062904546118 and parameters: {'n_estimators': 399, 'max_depth': 5, 'learning_rate': 0.0010137773691739345, 'subsample': 0.534825416834819, 'colsample_bytree': 0.7727000298952162, 'gamma': 3.5069847090534974, 'reg_alpha': 3.454671099258682, 'reg_lambda': 4.071155687861198}. Best is trial 4 with value: 66.69062904546118.\n",
            "[I 2025-04-21 14:13:07,787] Trial 5 finished with value: 333.3388135171412 and parameters: {'n_estimators': 168, 'max_depth': 5, 'learning_rate': 0.2820723912169407, 'subsample': 0.5877552531412172, 'colsample_bytree': 0.7547295687968982, 'gamma': 0.5214099045068898, 'reg_alpha': 0.9153015418167143, 'reg_lambda': 0.4634760823859013}. Best is trial 4 with value: 66.69062904546118.\n",
            "[I 2025-04-21 14:13:12,877] Trial 6 finished with value: 281.7577414415469 and parameters: {'n_estimators': 258, 'max_depth': 5, 'learning_rate': 0.24470473754436628, 'subsample': 0.9645445067823251, 'colsample_bytree': 0.6153667386315658, 'gamma': 3.206401270350468, 'reg_alpha': 0.7613033450294754, 'reg_lambda': 4.325812729158592}. Best is trial 4 with value: 66.69062904546118.\n",
            "[I 2025-04-21 14:13:18,281] Trial 7 finished with value: 218.2900106167099 and parameters: {'n_estimators': 427, 'max_depth': 5, 'learning_rate': 0.03855530614210458, 'subsample': 0.6086720779736847, 'colsample_bytree': 0.8807771131578628, 'gamma': 3.3160093860287487, 'reg_alpha': 3.6815287219880224, 'reg_lambda': 1.2961219347831465}. Best is trial 4 with value: 66.69062904546118.\n",
            "[I 2025-04-21 14:13:29,162] Trial 8 finished with value: 120.21346272011658 and parameters: {'n_estimators': 472, 'max_depth': 7, 'learning_rate': 0.006046625070365106, 'subsample': 0.9984232582772371, 'colsample_bytree': 0.735433928654598, 'gamma': 2.4817017856957846, 'reg_alpha': 0.5592289960822278, 'reg_lambda': 1.2924606766332158}. Best is trial 4 with value: 66.69062904546118.\n",
            "[I 2025-04-21 14:13:37,399] Trial 9 finished with value: 205.25341817214326 and parameters: {'n_estimators': 583, 'max_depth': 4, 'learning_rate': 0.012436725909701917, 'subsample': 0.7366272937954449, 'colsample_bytree': 0.9359127795406863, 'gamma': 1.0197131187398345, 'reg_alpha': 0.7119025739925705, 'reg_lambda': 1.264337525152213}. Best is trial 4 with value: 66.69062904546118.\n",
            "[I 2025-04-21 14:13:40,805] Trial 10 finished with value: 152.94582019717677 and parameters: {'n_estimators': 338, 'max_depth': 3, 'learning_rate': 0.054424196344805185, 'subsample': 0.502829891458075, 'colsample_bytree': 0.684920829928537, 'gamma': 4.79220135542013, 'reg_alpha': 3.428232407772004, 'reg_lambda': 3.2842890590598364}. Best is trial 4 with value: 66.69062904546118.\n",
            "[I 2025-04-21 14:13:49,369] Trial 11 finished with value: 67.01041654201906 and parameters: {'n_estimators': 400, 'max_depth': 6, 'learning_rate': 0.0010485013383692923, 'subsample': 0.8749309553684242, 'colsample_bytree': 0.8100734498425808, 'gamma': 3.752299879513714, 'reg_alpha': 4.952705326460145, 'reg_lambda': 4.860567817578912}. Best is trial 4 with value: 66.69062904546118.\n",
            "[I 2025-04-21 14:13:55,132] Trial 12 finished with value: 68.30834290134734 and parameters: {'n_estimators': 516, 'max_depth': 4, 'learning_rate': 0.0010909566289137808, 'subsample': 0.8570533236255216, 'colsample_bytree': 0.8394347819899723, 'gamma': 4.009963678938169, 'reg_alpha': 4.913756450504289, 'reg_lambda': 4.9481313272628755}. Best is trial 4 with value: 66.69062904546118.\n",
            "[I 2025-04-21 14:14:03,722] Trial 13 finished with value: 70.2872843709059 and parameters: {'n_estimators': 345, 'max_depth': 7, 'learning_rate': 0.0026014861051624105, 'subsample': 0.7017950298723072, 'colsample_bytree': 0.6627589838622964, 'gamma': 3.6426193763095855, 'reg_alpha': 4.938092390651845, 'reg_lambda': 2.8272260319487987}. Best is trial 4 with value: 66.69062904546118.\n",
            "[I 2025-04-21 14:14:08,255] Trial 14 finished with value: 72.87945765715268 and parameters: {'n_estimators': 396, 'max_depth': 4, 'learning_rate': 0.0027386065976433695, 'subsample': 0.8588991533865704, 'colsample_bytree': 0.8167378631275639, 'gamma': 2.829699506613816, 'reg_alpha': 4.242910496290717, 'reg_lambda': 3.967063526979281}. Best is trial 4 with value: 66.69062904546118.\n",
            "[I 2025-04-21 14:14:10,194] Trial 15 finished with value: 67.45874665863333 and parameters: {'n_estimators': 101, 'max_depth': 6, 'learning_rate': 0.0010022352799480278, 'subsample': 0.6438766697303165, 'colsample_bytree': 0.7107252025787636, 'gamma': 4.987784004601162, 'reg_alpha': 1.7542810945774556, 'reg_lambda': 4.983221694352546}. Best is trial 4 with value: 66.69062904546118.\n",
            "[I 2025-04-21 14:14:15,151] Trial 16 finished with value: 67.27052507937364 and parameters: {'n_estimators': 304, 'max_depth': 3, 'learning_rate': 0.002112391384838619, 'subsample': 0.5109682424874198, 'colsample_bytree': 0.6149718427588051, 'gamma': 4.111843433392508, 'reg_alpha': 4.408192643991535, 'reg_lambda': 3.4358070711424915}. Best is trial 4 with value: 66.69062904546118.\n",
            "[I 2025-04-21 14:14:30,082] Trial 17 finished with value: 105.07193638680374 and parameters: {'n_estimators': 487, 'max_depth': 8, 'learning_rate': 0.005365050440475141, 'subsample': 0.8736214858742761, 'colsample_bytree': 0.776490556684559, 'gamma': 1.4357008931709645, 'reg_alpha': 3.1950002413020746, 'reg_lambda': 2.279172812677385}. Best is trial 4 with value: 66.69062904546118.\n",
            "[I 2025-04-21 14:14:39,339] Trial 18 finished with value: 154.1498428777765 and parameters: {'n_estimators': 447, 'max_depth': 6, 'learning_rate': 0.11401858173796736, 'subsample': 0.6933462900067393, 'colsample_bytree': 0.854451274149757, 'gamma': 2.84829206625517, 'reg_alpha': 1.7070784301702988, 'reg_lambda': 4.358314514703003}. Best is trial 4 with value: 66.69062904546118.\n",
            "[I 2025-04-21 14:14:46,431] Trial 19 finished with value: 87.96026679089941 and parameters: {'n_estimators': 531, 'max_depth': 5, 'learning_rate': 0.004235499794891064, 'subsample': 0.5633783033393015, 'colsample_bytree': 0.9275395083281872, 'gamma': 3.9737086233913606, 'reg_alpha': 2.9866159494227724, 'reg_lambda': 3.484231739649589}. Best is trial 4 with value: 66.69062904546118.\n",
            "[I 2025-04-21 14:14:52,145] Trial 20 finished with value: 162.6411530754146 and parameters: {'n_estimators': 374, 'max_depth': 4, 'learning_rate': 0.028356493621852066, 'subsample': 0.9122828174507951, 'colsample_bytree': 0.5338018647426575, 'gamma': 4.491284797505766, 'reg_alpha': 2.1491661540923728, 'reg_lambda': 2.193260851964906}. Best is trial 4 with value: 66.69062904546118.\n",
            "[I 2025-04-21 14:14:55,323] Trial 21 finished with value: 67.37621167196325 and parameters: {'n_estimators': 306, 'max_depth': 3, 'learning_rate': 0.0022407976058695495, 'subsample': 0.513095783607845, 'colsample_bytree': 0.5905538342965164, 'gamma': 3.8594192729633137, 'reg_alpha': 4.373972319485917, 'reg_lambda': 3.5994719177519667}. Best is trial 4 with value: 66.69062904546118.\n",
            "[I 2025-04-21 14:14:58,623] Trial 22 finished with value: 67.05050582334229 and parameters: {'n_estimators': 317, 'max_depth': 3, 'learning_rate': 0.0017398385336304136, 'subsample': 0.5408587680556473, 'colsample_bytree': 0.6375946633238032, 'gamma': 4.345650235737704, 'reg_alpha': 4.5237243269098455, 'reg_lambda': 2.9095815882683533}. Best is trial 4 with value: 66.69062904546118.\n",
            "[I 2025-04-21 14:15:02,842] Trial 23 finished with value: 67.21627401927346 and parameters: {'n_estimators': 299, 'max_depth': 4, 'learning_rate': 0.001735748955805078, 'subsample': 0.6476387838761705, 'colsample_bytree': 0.6580534453156461, 'gamma': 4.396548551572831, 'reg_alpha': 3.835097172568838, 'reg_lambda': 2.835474160152147}. Best is trial 4 with value: 66.69062904546118.\n",
            "[I 2025-04-21 14:15:11,089] Trial 24 finished with value: 66.37749961825926 and parameters: {'n_estimators': 362, 'max_depth': 7, 'learning_rate': 0.0015497427810765162, 'subsample': 0.5488273583767824, 'colsample_bytree': 0.7226109544233095, 'gamma': 3.0052747726824305, 'reg_alpha': 4.615041316049134, 'reg_lambda': 4.717749296483428}. Best is trial 24 with value: 66.37749961825926.\n",
            "[I 2025-04-21 14:15:20,717] Trial 25 finished with value: 66.6949488742221 and parameters: {'n_estimators': 376, 'max_depth': 7, 'learning_rate': 0.0010571230896225133, 'subsample': 0.8014475490229062, 'colsample_bytree': 0.7214472835298087, 'gamma': 2.9456536715103883, 'reg_alpha': 4.734048017555918, 'reg_lambda': 4.68961713800456}. Best is trial 24 with value: 66.37749961825926.\n",
            "[I 2025-04-21 14:15:31,403] Trial 26 finished with value: 75.69864292780639 and parameters: {'n_estimators': 444, 'max_depth': 7, 'learning_rate': 0.003904566926296132, 'subsample': 0.8030009991443171, 'colsample_bytree': 0.7213839486996361, 'gamma': 2.887406437513465, 'reg_alpha': 0.08078851529786713, 'reg_lambda': 4.578276214573373}. Best is trial 24 with value: 66.37749961825926.\n",
            "[I 2025-04-21 14:15:40,374] Trial 27 finished with value: 84.66781623785315 and parameters: {'n_estimators': 360, 'max_depth': 8, 'learning_rate': 0.007873370290858479, 'subsample': 0.6167694828856326, 'colsample_bytree': 0.6944213473791193, 'gamma': 2.2570373451889156, 'reg_alpha': 3.547512220504042, 'reg_lambda': 3.9844492022331863}. Best is trial 24 with value: 66.37749961825926.\n",
            "[I 2025-04-21 14:15:49,409] Trial 28 finished with value: 67.06334296524152 and parameters: {'n_estimators': 382, 'max_depth': 7, 'learning_rate': 0.001478075233637165, 'subsample': 0.6775937843565291, 'colsample_bytree': 0.747714058370233, 'gamma': 1.7226725637062374, 'reg_alpha': 4.590586224309877, 'reg_lambda': 3.8816531679199024}. Best is trial 24 with value: 66.37749961825926.\n",
            "[I 2025-04-21 14:16:02,732] Trial 29 finished with value: 67.07957620759474 and parameters: {'n_estimators': 429, 'max_depth': 8, 'learning_rate': 0.0015444174345457863, 'subsample': 0.7502191990144311, 'colsample_bytree': 0.7853331701184093, 'gamma': 3.0878462697529443, 'reg_alpha': 4.02813989620064, 'reg_lambda': 4.5523098766510115}. Best is trial 24 with value: 66.37749961825926.\n",
            "[I 2025-04-21 14:16:09,248] Trial 30 finished with value: 66.72378550083614 and parameters: {'n_estimators': 211, 'max_depth': 7, 'learning_rate': 0.0013476444237072518, 'subsample': 0.5661738639049331, 'colsample_bytree': 0.563128318423415, 'gamma': 3.4606626769254314, 'reg_alpha': 2.9171687755205418, 'reg_lambda': 4.545404417603496}. Best is trial 24 with value: 66.37749961825926.\n",
            "[I 2025-04-21 14:16:12,356] Trial 31 finished with value: 66.93580675025494 and parameters: {'n_estimators': 154, 'max_depth': 7, 'learning_rate': 0.0013827344069291076, 'subsample': 0.5538606220468141, 'colsample_bytree': 0.5892078270745567, 'gamma': 3.500987261929268, 'reg_alpha': 2.7065065210010193, 'reg_lambda': 4.706912089760052}. Best is trial 24 with value: 66.37749961825926.\n",
            "[I 2025-04-21 14:16:15,709] Trial 32 finished with value: 67.01795015634633 and parameters: {'n_estimators': 208, 'max_depth': 6, 'learning_rate': 0.003341564113693108, 'subsample': 0.5806194485073572, 'colsample_bytree': 0.5601458204625513, 'gamma': 2.7781613686205002, 'reg_alpha': 2.2825714748736097, 'reg_lambda': 4.2031992317384965}. Best is trial 24 with value: 66.37749961825926.\n",
            "[I 2025-04-21 14:16:23,215] Trial 33 finished with value: 66.69789359789988 and parameters: {'n_estimators': 272, 'max_depth': 7, 'learning_rate': 0.002011140740929716, 'subsample': 0.5335496802770121, 'colsample_bytree': 0.766772843773459, 'gamma': 2.4389112400620374, 'reg_alpha': 3.0632249010948556, 'reg_lambda': 4.461098209380135}. Best is trial 24 with value: 66.37749961825926.\n",
            "[I 2025-04-21 14:16:30,037] Trial 34 finished with value: 67.70765338301227 and parameters: {'n_estimators': 253, 'max_depth': 8, 'learning_rate': 0.0022494002988569764, 'subsample': 0.826386731636617, 'colsample_bytree': 0.7651049734500166, 'gamma': 2.5791178743845578, 'reg_alpha': 3.3086492952723394, 'reg_lambda': 3.8007024319503544}. Best is trial 24 with value: 66.37749961825926.\n",
            "[I 2025-04-21 14:16:36,477] Trial 35 finished with value: 94.6847857339942 and parameters: {'n_estimators': 284, 'max_depth': 6, 'learning_rate': 0.012664306880315763, 'subsample': 0.5417313974617681, 'colsample_bytree': 0.7954336974948135, 'gamma': 2.0512860928009657, 'reg_alpha': 3.965519374697271, 'reg_lambda': 4.18500284395185}. Best is trial 24 with value: 66.37749961825926.\n",
            "[I 2025-04-21 14:16:46,814] Trial 36 finished with value: 71.73643263364536 and parameters: {'n_estimators': 343, 'max_depth': 8, 'learning_rate': 0.0010254056158335012, 'subsample': 0.7612950484817085, 'colsample_bytree': 0.690006052254584, 'gamma': 2.306794314365648, 'reg_alpha': 2.428710461613944, 'reg_lambda': 0.1481535099109892}. Best is trial 24 with value: 66.37749961825926.\n",
            "[I 2025-04-21 14:16:50,677] Trial 37 finished with value: 66.8596063853804 and parameters: {'n_estimators': 276, 'max_depth': 5, 'learning_rate': 0.0020264055913008223, 'subsample': 0.6036825533049821, 'colsample_bytree': 0.7425588648143862, 'gamma': 1.6359546450286484, 'reg_alpha': 4.124978766311295, 'reg_lambda': 4.42791451677067}. Best is trial 24 with value: 66.37749961825926.\n",
            "[I 2025-04-21 14:17:01,068] Trial 38 finished with value: 71.40622113674301 and parameters: {'n_estimators': 420, 'max_depth': 7, 'learning_rate': 0.003455214894650946, 'subsample': 0.5370821622210467, 'colsample_bytree': 0.8397127197745801, 'gamma': 3.248456025140463, 'reg_alpha': 4.687784981424511, 'reg_lambda': 4.768560460443562}. Best is trial 24 with value: 66.37749961825926.\n",
            "[I 2025-04-21 14:17:06,485] Trial 39 finished with value: 78.3088027733586 and parameters: {'n_estimators': 329, 'max_depth': 6, 'learning_rate': 0.0068516115275227, 'subsample': 0.6361973115328463, 'colsample_bytree': 0.7141681522021532, 'gamma': 3.065889816544998, 'reg_alpha': 3.652213751528636, 'reg_lambda': 3.7319929418092244}. Best is trial 24 with value: 66.37749961825926.\n",
            "[I 2025-04-21 14:17:15,902] Trial 40 finished with value: 82.8476723327825 and parameters: {'n_estimators': 367, 'max_depth': 7, 'learning_rate': 0.004872352200795353, 'subsample': 0.7183097267118963, 'colsample_bytree': 0.7630850880060822, 'gamma': 2.5999744364743433, 'reg_alpha': 3.1877870881964436, 'reg_lambda': 3.139106218530058}. Best is trial 24 with value: 66.37749961825926.\n",
            "[I 2025-04-21 14:17:20,290] Trial 41 finished with value: 66.68682623567805 and parameters: {'n_estimators': 207, 'max_depth': 7, 'learning_rate': 0.0013467149574398676, 'subsample': 0.5802353769544291, 'colsample_bytree': 0.654304339251, 'gamma': 3.410681987789129, 'reg_alpha': 2.7457516898015735, 'reg_lambda': 4.559617718310715}. Best is trial 24 with value: 66.37749961825926.\n",
            "[I 2025-04-21 14:17:26,034] Trial 42 finished with value: 66.78814651947698 and parameters: {'n_estimators': 188, 'max_depth': 7, 'learning_rate': 0.0013260850275735082, 'subsample': 0.5767229134314318, 'colsample_bytree': 0.6666191639767347, 'gamma': 3.42006236957015, 'reg_alpha': 1.9344866746107634, 'reg_lambda': 4.100071857024744}. Best is trial 24 with value: 66.37749961825926.\n",
            "[I 2025-04-21 14:17:29,416] Trial 43 finished with value: 67.4530460621109 and parameters: {'n_estimators': 233, 'max_depth': 5, 'learning_rate': 0.0029251112609613066, 'subsample': 0.5227219411435897, 'colsample_bytree': 0.7329644792578239, 'gamma': 3.091461591817236, 'reg_alpha': 2.656616365575662, 'reg_lambda': 4.339836567578428}. Best is trial 24 with value: 66.37749961825926.\n",
            "[I 2025-04-21 14:17:33,121] Trial 44 finished with value: 66.91256594903572 and parameters: {'n_estimators': 162, 'max_depth': 7, 'learning_rate': 0.0012815519108714617, 'subsample': 0.5980115704900304, 'colsample_bytree': 0.8031505918837349, 'gamma': 2.379436711143678, 'reg_alpha': 2.8189910527195225, 'reg_lambda': 4.672908475152312}. Best is trial 24 with value: 66.37749961825926.\n",
            "[I 2025-04-21 14:17:41,257] Trial 45 finished with value: 66.4601300396445 and parameters: {'n_estimators': 250, 'max_depth': 8, 'learning_rate': 0.0017356804539049122, 'subsample': 0.7805425195054182, 'colsample_bytree': 0.6303590819531173, 'gamma': 3.694728691752125, 'reg_alpha': 1.17583605784503, 'reg_lambda': 4.86045350625027}. Best is trial 24 with value: 66.37749961825926.\n",
            "[I 2025-04-21 14:17:53,429] Trial 46 finished with value: 158.9257359359603 and parameters: {'n_estimators': 408, 'max_depth': 8, 'learning_rate': 0.094856582980002, 'subsample': 0.7732318567402203, 'colsample_bytree': 0.6344880310279724, 'gamma': 3.7254683319050472, 'reg_alpha': 0.4447819398780062, 'reg_lambda': 1.8059203621966784}. Best is trial 24 with value: 66.37749961825926.\n",
            "[I 2025-04-21 14:17:57,260] Trial 47 finished with value: 67.14968861579877 and parameters: {'n_estimators': 121, 'max_depth': 8, 'learning_rate': 0.001745971042316375, 'subsample': 0.8110737725544148, 'colsample_bytree': 0.9995427801783394, 'gamma': 3.472794114105843, 'reg_alpha': 1.2321825847043124, 'reg_lambda': 4.90952203094772}. Best is trial 24 with value: 66.37749961825926.\n",
            "[I 2025-04-21 14:18:02,673] Trial 48 finished with value: 74.06765341754479 and parameters: {'n_estimators': 236, 'max_depth': 6, 'learning_rate': 0.009092597529305751, 'subsample': 0.77996099917671, 'colsample_bytree': 0.5002134124593032, 'gamma': 3.664535653519646, 'reg_alpha': 1.337919950684559, 'reg_lambda': 4.814857049384904}. Best is trial 24 with value: 66.37749961825926.\n",
            "[I 2025-04-21 14:18:15,975] Trial 49 finished with value: 68.79293507798445 and parameters: {'n_estimators': 473, 'max_depth': 8, 'learning_rate': 0.002570015526150521, 'subsample': 0.7279902324064658, 'colsample_bytree': 0.6233376016586188, 'gamma': 0.4697381372374614, 'reg_alpha': 4.7433423139049635, 'reg_lambda': 4.994721978630194}. Best is trial 24 with value: 66.37749961825926.\n"
          ]
        },
        {
          "output_type": "stream",
          "name": "stdout",
          "text": [
            "Best RMSE: 66.3775\n",
            "Best Params: \n",
            "  n_estimators: 362\n",
            "  max_depth: 7\n",
            "  learning_rate: 0.0015497427810765162\n",
            "  subsample: 0.5488273583767824\n",
            "  colsample_bytree: 0.7226109544233095\n",
            "  gamma: 3.0052747726824305\n",
            "  reg_alpha: 4.615041316049134\n",
            "  reg_lambda: 4.717749296483428\n",
            "Final Test RMSE: 66.3775, MAE: 24.5474\n"
          ]
        }
      ]
    },
    {
      "cell_type": "markdown",
      "metadata": {
        "id": "G-Rvhfnemyx6"
      },
      "source": [
        "## 5.2 lightgbm"
      ]
    },
    {
      "cell_type": "code",
      "execution_count": 19,
      "metadata": {
        "ExecuteTime": {
          "end_time": "2025-04-18T13:04:12.469027Z",
          "start_time": "2025-04-18T13:04:08.623084Z"
        },
        "colab": {
          "base_uri": "https://localhost:8080/"
        },
        "id": "bWUSVrHBmyx6",
        "outputId": "aef0b925-cd9e-46e9-f525-d01329f3e491"
      },
      "outputs": [
        {
          "output_type": "stream",
          "name": "stdout",
          "text": [
            "[LightGBM] [Info] Auto-choosing col-wise multi-threading, the overhead of testing was 0.020565 seconds.\n",
            "You can set `force_col_wise=true` to remove the overhead.\n",
            "[LightGBM] [Info] Total Bins 7254\n",
            "[LightGBM] [Info] Number of data points in the train set: 52349, number of used features: 33\n",
            "[LightGBM] [Info] Start training from score 42.826536\n",
            " MSE:  20723.2600\n",
            "RMSE: 143.9558\n",
            " MAE:  56.6976\n"
          ]
        }
      ],
      "source": [
        "import pandas as pd\n",
        "import numpy as np\n",
        "import lightgbm as lgb\n",
        "from sklearn.metrics import mean_squared_error, mean_absolute_error\n",
        "\n",
        "\n",
        "df = pd.read_csv('all_hourly_data.csv')\n",
        "df['interval_start_local'] = pd.to_datetime(df['interval_start_local'], utc=True)\n",
        "\n",
        "#\n",
        "df['day_of_week']  = df['interval_start_local'].dt.dayofweek\n",
        "df['day_of_month'] = df['interval_start_local'].dt.day\n",
        "df['month']        = df['interval_start_local'].dt.month\n",
        "\n",
        "#\n",
        "for lag in [1, 2, 3, 24, 48]:\n",
        "    df[f'lmp_lag_{lag}'] = df['lmp_HB_BUSAVG'].shift(lag)\n",
        "\n",
        "#\n",
        "df['lmp_roll_mean_24']  = df['lmp_HB_BUSAVG'].rolling(24).mean()\n",
        "df['lmp_roll_mean_48']  = df['lmp_HB_BUSAVG'].rolling(48).mean()\n",
        "df['lmp_roll_mean_168'] = df['lmp_HB_BUSAVG'].rolling(168).mean()\n",
        "\n",
        "\n",
        "df['target_24h'] = df['lmp_HB_BUSAVG'].shift(-24)\n",
        "\n",
        "\n",
        "df = df.dropna().reset_index(drop=True)\n",
        "\n",
        "\n",
        "train_start = pd.Timestamp('2018-01-08 06:00:00+0000', tz='UTC')\n",
        "train_end   = pd.Timestamp('2023-12-31 23:59:59+0000', tz='UTC')\n",
        "test_start  = pd.Timestamp('2024-01-01 00:00:00+0000', tz='UTC')\n",
        "test_end    = pd.Timestamp('2025-04-13 04:00:00+0000', tz='UTC')\n",
        "\n",
        "mask_train = (df['interval_start_local'] >= train_start) & (df['interval_start_local'] <= train_end)\n",
        "mask_test  = (df['interval_start_local'] >= test_start)  & (df['interval_start_local'] <= test_end)\n",
        "\n",
        "train_df = df.loc[mask_train].reset_index(drop=True)\n",
        "test_df  = df.loc[mask_test].reset_index(drop=True)\n",
        "\n",
        "\n",
        "exclude_cols = ['interval_start_local', 'date', 'lmp_HB_BUSAVG', 'target_24h']\n",
        "features = [c for c in train_df.columns if c not in exclude_cols]\n",
        "X_train, y_train = train_df[features], train_df['target_24h']\n",
        "X_test,  y_test  = test_df[features],  test_df['target_24h']\n",
        "\n",
        "#\n",
        "model = lgb.LGBMRegressor(\n",
        "    objective='regression',\n",
        "    metric='rmse',\n",
        "    n_estimators=500,\n",
        "    learning_rate=0.05,\n",
        "    num_leaves=31,\n",
        "    subsample=0.8,\n",
        "    colsample_bytree=0.8,\n",
        "    random_state=42\n",
        ")\n",
        "\n",
        "#\n",
        "model.fit(\n",
        "    X_train, y_train,\n",
        "    eval_set=[(X_train, y_train), (X_test, y_test)],\n",
        "    eval_metric='rmse'\n",
        ")\n",
        "\n",
        "#\n",
        "y_pred = model.predict(X_test)\n",
        "mse  = mean_squared_error(y_test, y_pred)\n",
        "rmse = np.sqrt(mse)\n",
        "mae  = mean_absolute_error(y_test, y_pred)\n",
        "\n",
        "print(f\" MSE:  {mse:.4f}\")\n",
        "print(f\"RMSE: {rmse:.4f}\")\n",
        "print(f\" MAE:  {mae:.4f}\")\n"
      ]
    },
    {
      "cell_type": "markdown",
      "source": [
        "### 5.2.1 lightgbm Feature Importance"
      ],
      "metadata": {
        "id": "aWscDkzXpLcp"
      }
    },
    {
      "cell_type": "code",
      "source": [
        "importances = model.feature_importances_\n",
        "\n",
        "importance_df = pd.DataFrame({\n",
        "    'feature': X_train.columns,\n",
        "    'importance': importances\n",
        "}).sort_values(by='importance', ascending=False)\n",
        "\n",
        "print(importance_df)\n",
        "\n",
        "top_n = 10\n",
        "importance_df.head(top_n).plot(kind='barh', x='feature', y='importance', figsize=(10, 8), legend=False)\n",
        "plt.title(\"Top Feature Importances (LightGBM)\")\n",
        "plt.gca().invert_yaxis()  # Highest importance at the top\n",
        "plt.xlabel(\"Importance Score\")\n",
        "plt.tight_layout()\n",
        "plt.show()"
      ],
      "metadata": {
        "colab": {
          "base_uri": "https://localhost:8080/",
          "height": 1000
        },
        "id": "r1rs-1Y3w9dq",
        "outputId": "8fe1e89b-48f0-4e2b-9cc7-1b97804b08b5"
      },
      "execution_count": 20,
      "outputs": [
        {
          "output_type": "stream",
          "name": "stdout",
          "text": [
            "               feature  importance\n",
            "16       far_west_temp        1475\n",
            "17        north_y_temp        1183\n",
            "15           east_temp         962\n",
            "19  south_central_temp         691\n",
            "29          lmp_lag_48         621\n",
            "7                hydro         596\n",
            "28          lmp_lag_24         596\n",
            "9        power_storage         517\n",
            "14          coast_temp         508\n",
            "6     coal_and_lignite         445\n",
            "20       southern_temp         443\n",
            "8              nuclear         436\n",
            "32   lmp_roll_mean_168         430\n",
            "25           lmp_lag_1         409\n",
            "12         natural_gas         399\n",
            "13           other_gen         375\n",
            "11                wind         374\n",
            "30    lmp_roll_mean_24         372\n",
            "10               solar         372\n",
            "21         west_y_temp         365\n",
            "31    lmp_roll_mean_48         361\n",
            "27           lmp_lag_3         315\n",
            "4         houston_load         314\n",
            "23        day_of_month         313\n",
            "18  north_central_temp         313\n",
            "1         north_x_load         308\n",
            "26           lmp_lag_2         307\n",
            "3          west_x_load         244\n",
            "22         day_of_week         239\n",
            "2           south_load         234\n",
            "0                 hour         220\n",
            "5           total_load         180\n",
            "24               month          83\n"
          ]
        },
        {
          "output_type": "display_data",
          "data": {
            "text/plain": [
              "<Figure size 1000x800 with 1 Axes>"
            ],
            "image/png": "[encoded data removed]"
          },
          "metadata": {}
        }
      ]
    },
    {
      "cell_type": "markdown",
      "source": [
        "### 5.2.2 Hyperparameter tuning"
      ],
      "metadata": {
        "id": "DoLm06Q4petH"
      }
    },
    {
      "cell_type": "markdown",
      "metadata": {
        "id": "pjg_whZwmyx7"
      },
      "source": [
        "## 5.3 LSTM"
      ]
    },
    {
      "cell_type": "code",
      "execution_count": null,
      "metadata": {
        "ExecuteTime": {
          "end_time": "2025-04-18T13:07:47.267905Z",
          "start_time": "2025-04-18T13:05:26.136254Z"
        },
        "id": "2P_sen1omyx7",
        "outputId": "2c1591e0-e4ec-44b7-ea9a-2708d52aab80"
      },
      "outputs": [
        {
          "name": "stderr",
          "output_type": "stream",
          "text": [
            "C:\\New Duke\\5. Courses\\STA 663\\CS 61A\\CS61A\\venv\\lib\\site-packages\\torch\\nn\\modules\\loss.py:610: UserWarning: Using a target size (torch.Size([64, 1])) that is different to the input size (torch.Size([64])). This will likely lead to incorrect results due to broadcasting. Please ensure they have the same size.\n",
            "  return F.mse_loss(input, target, reduction=self.reduction)\n",
            "C:\\New Duke\\5. Courses\\STA 663\\CS 61A\\CS61A\\venv\\lib\\site-packages\\torch\\nn\\modules\\loss.py:610: UserWarning: Using a target size (torch.Size([37, 1])) that is different to the input size (torch.Size([37])). This will likely lead to incorrect results due to broadcasting. Please ensure they have the same size.\n",
            "  return F.mse_loss(input, target, reduction=self.reduction)\n"
          ]
        },
        {
          "name": "stdout",
          "output_type": "stream",
          "text": [
            "Epoch 1/20, Train MSE=0.000629\n",
            "Epoch 2/20, Train MSE=0.000610\n",
            "Epoch 3/20, Train MSE=0.000607\n",
            "Epoch 4/20, Train MSE=0.000605\n",
            "Epoch 5/20, Train MSE=0.000603\n",
            "Epoch 6/20, Train MSE=0.000602\n",
            "Epoch 7/20, Train MSE=0.000601\n",
            "Epoch 8/20, Train MSE=0.000600\n",
            "Epoch 9/20, Train MSE=0.000600\n",
            "Epoch 10/20, Train MSE=0.000600\n",
            "Epoch 11/20, Train MSE=0.000600\n",
            "Epoch 12/20, Train MSE=0.000600\n",
            "Epoch 13/20, Train MSE=0.000600\n",
            "Epoch 14/20, Train MSE=0.000600\n",
            "Epoch 15/20, Train MSE=0.000599\n",
            "Epoch 16/20, Train MSE=0.000599\n",
            "Epoch 17/20, Train MSE=0.000600\n",
            "Epoch 18/20, Train MSE=0.000599\n",
            "Epoch 19/20, Train MSE=0.000599\n",
            "Epoch 20/20, Train MSE=0.000600\n",
            "24h 预测 — 测试集 MSE:  4689.6997\n",
            "24h 预测 — 测试集 RMSE: 68.4814\n",
            "24h 预测 — 测试集 MAE:  28.1741\n"
          ]
        }
      ],
      "source": [
        "import os\n",
        "os.environ[\"CUDA_VISIBLE_DEVICES\"] = \"\"\n",
        "\n",
        "import numpy as np\n",
        "import pandas as pd\n",
        "from sklearn.preprocessing import MinMaxScaler\n",
        "from sklearn.metrics import mean_squared_error, mean_absolute_error\n",
        "\n",
        "import torch\n",
        "from torch import nn, optim\n",
        "from torch.utils.data import Dataset, DataLoader\n",
        "\n",
        "\n",
        "df = pd.read_csv('all_hourly_data.csv')\n",
        "df['interval_start_local'] = pd.to_datetime(df['interval_start_local'], utc=True)\n",
        "\n",
        "\n",
        "df['day_of_week']  = df['interval_start_local'].dt.dayofweek\n",
        "df['day_of_month'] = df['interval_start_local'].dt.day\n",
        "df['month']        = df['interval_start_local'].dt.month\n",
        "\n",
        "for lag in [1, 2, 3, 24, 48]:\n",
        "    df[f'lmp_lag_{lag}'] = df['lmp_HB_BUSAVG'].shift(lag)\n",
        "\n",
        "df['lmp_roll_mean_24']  = df['lmp_HB_BUSAVG'].rolling(24).mean()\n",
        "df['lmp_roll_mean_48']  = df['lmp_HB_BUSAVG'].rolling(48).mean()\n",
        "df['lmp_roll_mean_168'] = df['lmp_HB_BUSAVG'].rolling(168).mean()\n",
        "\n",
        "\n",
        "df['target_24h'] = df['lmp_HB_BUSAVG'].shift(-24)\n",
        "\n",
        "df = df.dropna().reset_index(drop=True)\n",
        "\n",
        "\n",
        "train_start = pd.Timestamp('2018-01-08 06:00:00+0000', tz='UTC')\n",
        "train_end   = pd.Timestamp('2023-12-31 23:59:59+0000', tz='UTC')\n",
        "test_start  = pd.Timestamp('2024-01-01 00:00:00+0000', tz='UTC')\n",
        "test_end    = pd.Timestamp('2025-04-13 04:00:00+0000', tz='UTC')\n",
        "\n",
        "mask_train = (df['interval_start_local'] >= train_start) & (df['interval_start_local'] <= train_end)\n",
        "mask_test  = (df['interval_start_local'] >= test_start)  & (df['interval_start_local'] <= test_end)\n",
        "\n",
        "train_df = df.loc[mask_train].reset_index(drop=True)\n",
        "test_df  = df.loc[mask_test].reset_index(drop=True)\n",
        "\n",
        "\n",
        "exclude_cols = ['interval_start_local', 'date', 'lmp_HB_BUSAVG', 'target_24h']\n",
        "feature_cols = [c for c in train_df.columns if c not in exclude_cols]\n",
        "\n",
        "scaler_x = MinMaxScaler()\n",
        "scaler_y = MinMaxScaler()\n",
        "\n",
        "X_train_all = scaler_x.fit_transform(train_df[feature_cols])\n",
        "y_train_all = scaler_y.fit_transform(train_df[['target_24h']])\n",
        "X_test_all  = scaler_x.transform(test_df[feature_cols])\n",
        "y_test_all  = scaler_y.transform(test_df[['target_24h']])\n",
        "\n",
        "\n",
        "class TimeSeriesDataset(Dataset):\n",
        "    def __init__(self, X, y, seq_len=24):\n",
        "        self.X, self.y, self.seq_len = X, y, seq_len\n",
        "\n",
        "    def __len__(self):\n",
        "        return len(self.X) - self.seq_len\n",
        "\n",
        "    def __getitem__(self, idx):\n",
        "        x_seq = self.X[idx:idx+self.seq_len]\n",
        "        y_seq = self.y[idx+self.seq_len]\n",
        "        return torch.FloatTensor(x_seq), torch.FloatTensor(y_seq)\n",
        "\n",
        "seq_len = 24\n",
        "train_ds = TimeSeriesDataset(X_train_all, y_train_all, seq_len)\n",
        "test_ds  = TimeSeriesDataset(X_test_all,  y_test_all,  seq_len)\n",
        "\n",
        "train_loader = DataLoader(train_ds, batch_size=64, shuffle=True)\n",
        "test_loader  = DataLoader(test_ds,  batch_size=64, shuffle=False)\n",
        "\n",
        "\n",
        "class LSTMRegressor(nn.Module):\n",
        "    def __init__(self, n_features, hidden_size=64, num_layers=1):\n",
        "        super().__init__()\n",
        "        self.lstm = nn.LSTM(input_size=n_features,\n",
        "                            hidden_size=hidden_size,\n",
        "                            num_layers=num_layers,\n",
        "                            batch_first=True)\n",
        "        self.fc = nn.Linear(hidden_size, 1)\n",
        "\n",
        "    def forward(self, x):\n",
        "        out, _ = self.lstm(x)\n",
        "        out = out[:, -1, :]\n",
        "        return self.fc(out)\n",
        "\n",
        "device = torch.device('cpu')\n",
        "model  = LSTMRegressor(n_features=len(feature_cols)).to(device)\n",
        "criterion = nn.MSELoss()\n",
        "optimizer = optim.Adam(model.parameters(), lr=1e-3)\n",
        "\n",
        "n_epochs = 20\n",
        "for epoch in range(1, n_epochs+1):\n",
        "    model.train()\n",
        "    total_loss = 0\n",
        "    for xb, yb in train_loader:\n",
        "        xb, yb = xb.to(device), yb.to(device)\n",
        "        optimizer.zero_grad()\n",
        "        y_pred = model(xb).squeeze(1)\n",
        "        loss = criterion(y_pred, yb)\n",
        "        loss.backward()\n",
        "        optimizer.step()\n",
        "        total_loss += loss.item() * xb.size(0)\n",
        "    avg_loss = total_loss / len(train_loader.dataset)\n",
        "    print(f\"Epoch {epoch}/{n_epochs}, Train MSE={avg_loss:.6f}\")\n",
        "\n",
        "\n",
        "model.eval()\n",
        "ys, preds = [], []\n",
        "with torch.no_grad():\n",
        "    for xb, yb in test_loader:\n",
        "        y_pred = model(xb).squeeze(1).cpu().numpy()\n",
        "        preds.append(y_pred)\n",
        "        ys.append(yb.numpy())\n",
        "\n",
        "y_true = scaler_y.inverse_transform(np.concatenate(ys).reshape(-1,1))\n",
        "y_pred = scaler_y.inverse_transform(np.concatenate(preds).reshape(-1,1))\n",
        "\n",
        "mse  = mean_squared_error(y_true, y_pred)\n",
        "rmse = np.sqrt(mse)\n",
        "mae  = mean_absolute_error(y_true, y_pred)\n",
        "print(f\" MSE:  {mse:.4f}\")\n",
        "print(f\"RMSE: {rmse:.4f}\")\n",
        "print(f\" MAE:  {mae:.4f}\")\n"
      ]
    },
    {
      "cell_type": "markdown",
      "source": [
        "### 5.3.1 LSTM Feature Importance"
      ],
      "metadata": {
        "id": "QJkWO_L8pPK9"
      }
    },
    {
      "cell_type": "code",
      "source": [
        "from torch.utils.data import Subset\n",
        "\n",
        "subset_len = int(0.2 * len(train_ds))\n",
        "subset_idx = np.random.choice(np.arange(len(train_ds)), size=subset_len, replace=False)\n",
        "\n",
        "subset_ds = Subset(train_ds, subset_idx)\n",
        "\n",
        "subset_loader = DataLoader(subset_ds, batch_size=64, shuffle=False)\n",
        "model.eval()\n",
        "preds, ys = [], []\n",
        "with torch.no_grad():\n",
        "    for xb, yb in subset_loader:\n",
        "        xb = xb.to(device)\n",
        "        y_pred = model(xb).squeeze(1).cpu().numpy()\n",
        "        preds.append(y_pred)\n",
        "        ys.append(yb.numpy())\n",
        "\n",
        "y_true = scaler_y.inverse_transform(np.concatenate(ys).reshape(-1, 1))\n",
        "y_pred = scaler_y.inverse_transform(np.concatenate(preds).reshape(-1, 1))\n",
        "base_rmse = np.sqrt(mean_squared_error(y_true, y_pred))\n",
        "print(f\"Base RMSE: {base_rmse:.4f}\")\n",
        "\n",
        "def permute_and_score(model, dataset, feature_idx, base_rmse, scaler_y, device):\n",
        "    # Handle Subset or original TimeSeriesDataset\n",
        "    if isinstance(dataset, torch.utils.data.Subset):\n",
        "        base_ds = dataset.dataset\n",
        "        indices = dataset.indices\n",
        "        X = base_ds.X[indices].copy()\n",
        "        y = base_ds.y[indices].copy()\n",
        "    else:\n",
        "        X = dataset.X.copy()\n",
        "        y = dataset.y.copy()\n",
        "\n",
        "    # Permute the selected feature column\n",
        "    np.random.shuffle(X[:, feature_idx])\n",
        "\n",
        "    perm_ds = TimeSeriesDataset(X, y, seq_len=24)\n",
        "    loader = DataLoader(perm_ds, batch_size=64, shuffle=False)\n",
        "\n",
        "    model.eval()\n",
        "    preds, ys = [], []\n",
        "    with torch.no_grad():\n",
        "        for xb, yb in loader:\n",
        "            xb = xb.to(device)\n",
        "            y_pred = model(xb).squeeze(1).cpu().numpy()\n",
        "            preds.append(y_pred)\n",
        "            ys.append(yb.numpy())\n",
        "\n",
        "    y_true = scaler_y.inverse_transform(np.concatenate(ys).reshape(-1, 1))\n",
        "    y_pred = scaler_y.inverse_transform(np.concatenate(preds).reshape(-1, 1))\n",
        "    rmse = np.sqrt(mean_squared_error(y_true, y_pred))\n",
        "    return rmse - base_rmse\n",
        "\n",
        "from joblib import Parallel, delayed\n",
        "\n",
        "importances = Parallel(n_jobs=-1)(\n",
        "    delayed(permute_and_score)(model, subset_ds, i, base_rmse, scaler_y, device)\n",
        "    for i in range(len(feature_cols))\n",
        ")\n",
        "\n",
        "importance_df = pd.DataFrame({\n",
        "    'feature': feature_cols,\n",
        "    'rmse_increase': importances\n",
        "}).sort_values(by='rmse_increase', ascending=False)\n",
        "\n",
        "print(importance_df)\n"
      ],
      "metadata": {
        "id": "BD8QwnBZarsF"
      },
      "execution_count": null,
      "outputs": []
    },
    {
      "cell_type": "markdown",
      "source": [
        "### 5.3.2 Hyperparameter tuning"
      ],
      "metadata": {
        "id": "aY_ZPF-tpidD"
      }
    },
    {
      "cell_type": "markdown",
      "metadata": {
        "id": "zkduvrXTmyx7"
      },
      "source": [
        "## 5.4 GRU"
      ]
    },
    {
      "cell_type": "code",
      "execution_count": null,
      "metadata": {
        "ExecuteTime": {
          "end_time": "2025-04-18T13:13:45.552532Z",
          "start_time": "2025-04-18T13:08:25.694863Z"
        },
        "id": "GNtfwyDlmyx7",
        "outputId": "306cbccb-ef8d-4b31-fecf-62a142e05716"
      },
      "outputs": [
        {
          "name": "stderr",
          "output_type": "stream",
          "text": [
            "C:\\New Duke\\5. Courses\\STA 663\\CS 61A\\CS61A\\venv\\lib\\site-packages\\torch\\nn\\modules\\loss.py:610: UserWarning: Using a target size (torch.Size([64, 1])) that is different to the input size (torch.Size([64])). This will likely lead to incorrect results due to broadcasting. Please ensure they have the same size.\n",
            "  return F.mse_loss(input, target, reduction=self.reduction)\n",
            "C:\\New Duke\\5. Courses\\STA 663\\CS 61A\\CS61A\\venv\\lib\\site-packages\\torch\\nn\\modules\\loss.py:610: UserWarning: Using a target size (torch.Size([37, 1])) that is different to the input size (torch.Size([37])). This will likely lead to incorrect results due to broadcasting. Please ensure they have the same size.\n",
            "  return F.mse_loss(input, target, reduction=self.reduction)\n"
          ]
        },
        {
          "name": "stdout",
          "output_type": "stream",
          "text": [
            "Epoch 1/20, Train MSE=0.000727\n",
            "Epoch 2/20, Train MSE=0.000633\n",
            "Epoch 3/20, Train MSE=0.000622\n",
            "Epoch 4/20, Train MSE=0.000617\n",
            "Epoch 5/20, Train MSE=0.000613\n",
            "Epoch 6/20, Train MSE=0.000611\n",
            "Epoch 7/20, Train MSE=0.000609\n",
            "Epoch 8/20, Train MSE=0.000606\n",
            "Epoch 9/20, Train MSE=0.000608\n",
            "Epoch 10/20, Train MSE=0.000606\n",
            "Epoch 11/20, Train MSE=0.000605\n",
            "Epoch 12/20, Train MSE=0.000605\n",
            "Epoch 13/20, Train MSE=0.000604\n",
            "Epoch 14/20, Train MSE=0.000603\n",
            "Epoch 15/20, Train MSE=0.000604\n",
            "Epoch 16/20, Train MSE=0.000602\n",
            "Epoch 17/20, Train MSE=0.000604\n",
            "Epoch 18/20, Train MSE=0.000602\n",
            "Epoch 19/20, Train MSE=0.000602\n",
            "Epoch 20/20, Train MSE=0.000601\n",
            "24h 预测 — 测试集 MSE:  4504.5312\n",
            "24h 预测 — 测试集 RMSE: 67.1158\n",
            "24h 预测 — 测试集 MAE:  22.2012\n"
          ]
        }
      ],
      "source": [
        "import os\n",
        "os.environ[\"CUDA_VISIBLE_DEVICES\"] = \"\"\n",
        "\n",
        "import numpy as np\n",
        "import pandas as pd\n",
        "from sklearn.preprocessing import MinMaxScaler\n",
        "from sklearn.metrics import mean_squared_error, mean_absolute_error\n",
        "\n",
        "import torch\n",
        "from torch import nn, optim\n",
        "from torch.utils.data import Dataset, DataLoader\n",
        "\n",
        "\n",
        "df = pd.read_csv('all_hourly_data.csv')\n",
        "df['interval_start_local'] = pd.to_datetime(df['interval_start_local'], utc=True)\n",
        "\n",
        "\n",
        "df['day_of_week']  = df['interval_start_local'].dt.dayofweek\n",
        "df['day_of_month'] = df['interval_start_local'].dt.day\n",
        "df['month']        = df['interval_start_local'].dt.month\n",
        "\n",
        "\n",
        "for lag in [1, 2, 3, 24, 48]:\n",
        "    df[f'lmp_lag_{lag}'] = df['lmp_HB_BUSAVG'].shift(lag)\n",
        "df['lmp_roll_mean_24']  = df['lmp_HB_BUSAVG'].rolling(24).mean()\n",
        "df['lmp_roll_mean_48']  = df['lmp_HB_BUSAVG'].rolling(48).mean()\n",
        "df['lmp_roll_mean_168'] = df['lmp_HB_BUSAVG'].rolling(168).mean()\n",
        "\n",
        "\n",
        "df['target_24h'] = df['lmp_HB_BUSAVG'].shift(-24)\n",
        "\n",
        "df = df.dropna().reset_index(drop=True)\n",
        "train_start = pd.Timestamp('2018-01-08 06:00:00+0000', tz='UTC')\n",
        "train_end   = pd.Timestamp('2023-12-31 23:59:59+0000', tz='UTC')\n",
        "test_start  = pd.Timestamp('2024-01-01 00:00:00+0000', tz='UTC')\n",
        "test_end    = pd.Timestamp('2025-04-13 04:00:00+0000', tz='UTC')\n",
        "mask_train = (df['interval_start_local'] >= train_start) & (df['interval_start_local'] <= train_end)\n",
        "mask_test  = (df['interval_start_local'] >= test_start)  & (df['interval_start_local'] <= test_end)\n",
        "train_df = df.loc[mask_train].reset_index(drop=True)\n",
        "test_df  = df.loc[mask_test].reset_index(drop=True)\n",
        "\n",
        "\n",
        "exclude_cols = ['interval_start_local', 'date', 'lmp_HB_BUSAVG', 'target_24h']\n",
        "feature_cols = [c for c in train_df.columns if c not in exclude_cols]\n",
        "scaler_x = MinMaxScaler(); scaler_y = MinMaxScaler()\n",
        "X_train_all = scaler_x.fit_transform(train_df[feature_cols])\n",
        "y_train_all = scaler_y.fit_transform(train_df[['target_24h']])\n",
        "X_test_all  = scaler_x.transform(test_df[feature_cols])\n",
        "y_test_all  = scaler_y.transform(test_df[['target_24h']])\n",
        "\n",
        "\n",
        "class TimeSeriesDataset(Dataset):\n",
        "    def __init__(self, X, y, seq_len=24):\n",
        "        self.X, self.y, self.seq_len = X, y, seq_len\n",
        "    def __len__(self):\n",
        "        return len(self.X) - self.seq_len\n",
        "    def __getitem__(self, idx):\n",
        "        x_seq = self.X[idx:idx+self.seq_len]\n",
        "        y_seq = self.y[idx+self.seq_len]\n",
        "        return torch.FloatTensor(x_seq), torch.FloatTensor(y_seq)\n",
        "\n",
        "seq_len = 24\n",
        "train_ds = TimeSeriesDataset(X_train_all, y_train_all, seq_len)\n",
        "test_ds  = TimeSeriesDataset(X_test_all,  y_test_all,  seq_len)\n",
        "train_loader = DataLoader(train_ds, batch_size=64, shuffle=True)\n",
        "test_loader  = DataLoader(test_ds,  batch_size=64, shuffle=False)\n",
        "\n",
        "\n",
        "class GRURegressor(nn.Module):\n",
        "    def __init__(self, n_features, hidden_size=64, num_layers=1):\n",
        "        super().__init__()\n",
        "        self.gru = nn.GRU(input_size=n_features,\n",
        "                          hidden_size=hidden_size,\n",
        "                          num_layers=num_layers,\n",
        "                          batch_first=True)\n",
        "        self.fc  = nn.Linear(hidden_size, 1)\n",
        "    def forward(self, x):\n",
        "        # x: [batch, seq_len, n_features]\n",
        "        out, _ = self.gru(x)       # out: [batch, seq_len, hidden_size]\n",
        "        out = out[:, -1, :]        #\n",
        "        return self.fc(out)        # [batch,1]\n",
        "\n",
        "device = torch.device('cpu')\n",
        "model  = GRURegressor(n_features=len(feature_cols)).to(device)\n",
        "criterion = nn.MSELoss()\n",
        "optimizer = optim.Adam(model.parameters(), lr=1e-3)\n",
        "\n",
        "\n",
        "n_epochs = 20\n",
        "for epoch in range(1, n_epochs+1):\n",
        "    model.train()\n",
        "    total_loss = 0\n",
        "    for xb, yb in train_loader:\n",
        "        xb, yb = xb.to(device), yb.to(device)\n",
        "        optimizer.zero_grad()\n",
        "        y_pred = model(xb).squeeze(1)\n",
        "        loss = criterion(y_pred, yb)\n",
        "        loss.backward()\n",
        "        optimizer.step()\n",
        "        total_loss += loss.item() * xb.size(0)\n",
        "    avg_loss = total_loss / len(train_loader.dataset)\n",
        "    print(f\"Epoch {epoch}/{n_epochs}, Train MSE={avg_loss:.6f}\")\n",
        "\n",
        "\n",
        "model.eval()\n",
        "ys, preds = [], []\n",
        "with torch.no_grad():\n",
        "    for xb, yb in test_loader:\n",
        "        y_pred = model(xb).squeeze(1).cpu().numpy()\n",
        "        preds.append(y_pred); ys.append(yb.numpy())\n",
        "\n",
        "y_true = scaler_y.inverse_transform(np.concatenate(ys).reshape(-1,1))\n",
        "y_pred = scaler_y.inverse_transform(np.concatenate(preds).reshape(-1,1))\n",
        "\n",
        "\n",
        "mse  = mean_squared_error(y_true, y_pred)\n",
        "rmse = np.sqrt(mse)\n",
        "mae  = mean_absolute_error(y_true, y_pred)\n",
        "print(f\" MSE:  {mse:.4f}\")\n",
        "print(f\"RMSE: {rmse:.4f}\")\n",
        "print(f\" MAE:  {mae:.4f}\")\n"
      ]
    },
    {
      "cell_type": "markdown",
      "source": [
        "### 5.4.1 GRU Feature Importance"
      ],
      "metadata": {
        "id": "jbiEMrQHpT9N"
      }
    },
    {
      "cell_type": "code",
      "source": [
        "# Take a 20% random sample from training data\n",
        "subset_len = int(0.2 * len(train_ds))\n",
        "subset_idx = np.random.choice(np.arange(len(train_ds)), size=subset_len, replace=False)\n",
        "\n",
        "subset_ds = Subset(train_ds, subset_idx)\n",
        "subset_loader = DataLoader(subset_ds, batch_size=64, shuffle=False)\n",
        "\n",
        "model.eval()\n",
        "ys, preds = [], []\n",
        "with torch.no_grad():\n",
        "    for xb, yb in subset_loader:\n",
        "        xb = xb.to(device)\n",
        "        y_pred = model(xb).squeeze(1).cpu().numpy()\n",
        "        preds.append(y_pred)\n",
        "        ys.append(yb.numpy())\n",
        "\n",
        "y_true_subset = scaler_y.inverse_transform(np.concatenate(ys).reshape(-1, 1))\n",
        "y_pred_subset = scaler_y.inverse_transform(np.concatenate(preds).reshape(-1, 1))\n",
        "base_rmse = np.sqrt(mean_squared_error(y_true_subset, y_pred_subset))\n",
        "print(f\"Base RMSE (on training subset): {base_rmse:.4f}\")\n",
        "\n",
        "def permute_and_score(model, dataset, feature_idx, base_rmse, scaler_y, device):\n",
        "    # Handle Subset and extract .X and .y\n",
        "    if isinstance(dataset, Subset):\n",
        "        base_ds = dataset.dataset\n",
        "        indices = dataset.indices\n",
        "        X = base_ds.X[indices].copy()\n",
        "        y = base_ds.y[indices].copy()\n",
        "    else:\n",
        "        X = dataset.X.copy()\n",
        "        y = dataset.y.copy()\n",
        "\n",
        "    # Permute selected feature across time series\n",
        "    np.random.shuffle(X[:, feature_idx])\n",
        "\n",
        "    perm_ds = TimeSeriesDataset(X, y, seq_len=24)\n",
        "    loader = DataLoader(perm_ds, batch_size=64, shuffle=False)\n",
        "\n",
        "    model.eval()\n",
        "    preds, ys = [], []\n",
        "    with torch.no_grad():\n",
        "        for xb, yb in loader:\n",
        "            xb = xb.to(device)\n",
        "            y_pred = model(xb).squeeze(1).cpu().numpy()\n",
        "            preds.append(y_pred)\n",
        "            ys.append(yb.numpy())\n",
        "\n",
        "    y_true = scaler_y.inverse_transform(np.concatenate(ys).reshape(-1, 1))\n",
        "    y_pred = scaler_y.inverse_transform(np.concatenate(preds).reshape(-1, 1))\n",
        "    rmse = np.sqrt(mean_squared_error(y_true, y_pred))\n",
        "    return rmse - base_rmse\n",
        "\n",
        "importances = Parallel(n_jobs=-1)(\n",
        "    delayed(permute_and_score)(model, subset_ds, i, base_rmse, scaler_y, device)\n",
        "    for i in range(len(feature_cols))\n",
        ")\n",
        "\n",
        "importance_df = pd.DataFrame({\n",
        "    'feature': feature_cols,\n",
        "    'rmse_increase': importances\n",
        "}).sort_values(by='rmse_increase', ascending=False)\n",
        "\n",
        "print(importance_df.head(10))"
      ],
      "metadata": {
        "id": "HnHzCXQ0axk7"
      },
      "execution_count": null,
      "outputs": []
    },
    {
      "cell_type": "markdown",
      "source": [
        "### 5.4.2 Hyperparameter tuning"
      ],
      "metadata": {
        "id": "0yow6ruHpnjD"
      }
    }
  ],
  "metadata": {
    "colab": {
      "provenance": [],
      "toc_visible": true,
      "include_colab_link": true
    },
    "kernelspec": {
      "display_name": ".venv",
      "language": "python",
      "name": "python3"
    },
    "language_info": {
      "codemirror_mode": {
        "name": "ipython",
        "version": 3
      },
      "file_extension": ".py",
      "mimetype": "text/x-python",
      "name": "python",
      "nbconvert_exporter": "python",
      "pygments_lexer": "ipython3",
      "version": "3.13.1"
    }
  },
  "nbformat": 4,
  "nbformat_minor": 0
}