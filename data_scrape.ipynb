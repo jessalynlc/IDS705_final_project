{
  "nbformat": 4,
  "nbformat_minor": 0,
  "metadata": {
    "colab": {
      "provenance": [],
      "authorship_tag": "ABX9TyNGbngJYWENWDiBh2b1M1fE",
      "include_colab_link": true
    },
    "kernelspec": {
      "name": "python3",
      "display_name": "Python 3"
    },
    "language_info": {
      "name": "python"
    }
  },
  "cells": [
    {
      "cell_type": "markdown",
      "metadata": {
        "id": "view-in-github",
        "colab_type": "text"
      },
      "source": [
        "<a href=\"https://colab.research.google.com/github/jessalynlc/IDS705_final_project/blob/main/data_scrape.ipynb\" target=\"_parent\"><img src=\"https://colab.research.google.com/assets/colab-badge.svg\" alt=\"Open In Colab\"/></a>"
      ]
    },
    {
      "cell_type": "code",
      "source": [
        "import time\n",
        "import requests\n",
        "import json\n",
        "import pandas as pd\n",
        "import numpy as np"
      ],
      "metadata": {
        "id": "2heElnmwNTgJ"
      },
      "execution_count": 1,
      "outputs": []
    },
    {
      "cell_type": "markdown",
      "source": [
        "#DATA PULL\n",
        "\n",
        "Data pull for all except wet bulb temperatures and Henry Hub are hourly and spans Jan 1 2018 - April 12, 2025. Henry Hub natural gas spot prices are available from 1997, but only data from 2018-2025 were used to align with the other datasets.\n",
        "\n",
        "Load, LMP, fuel mix, temperature from https://www.gridstatus.io/datasets\n",
        "\n",
        "Henry Hub Spot Prices from https://www.eia.gov/dnav/ng/hist/rngwhhdm.htm\n",
        "\n",
        "Wet bulb temperatures from https://www.planoweather.com/wxwetbulbdetail.php?"
      ],
      "metadata": {
        "id": "amosuf_BQcfV"
      }
    },
    {
      "cell_type": "markdown",
      "source": [
        "## Loading raw data files stored in github"
      ],
      "metadata": {
        "id": "LXZzHkuVcYU5"
      }
    },
    {
      "cell_type": "code",
      "source": [
        "#RT load data\n",
        "load_url = \"https://raw.githubusercontent.com/jessalynlc/IDS705_final_project/main/Raw_Data/ercot_load_by_forecast_zone.csv\"\n",
        "\n",
        "#RT LMP data\n",
        "busavg_1_url = \"https://raw.githubusercontent.com/jessalynlc/IDS705_final_project/main/Raw_Data/HB_BUSAVG_LMP_Jan12018-Jan12019.csv\"\n",
        "busavg_2_url = \"https://raw.githubusercontent.com/jessalynlc/IDS705_final_project/main/Raw_Data/HB_BUSAVG_LMP_Jan12019-Jan12020.csv\"\n",
        "busavg_3_url = \"https://raw.githubusercontent.com/jessalynlc/IDS705_final_project/main/Raw_Data/HB_BUSAVG_LMP_Jan12020-Dec312020.csv\"\n",
        "busavg_4_url = \"https://raw.githubusercontent.com/jessalynlc/IDS705_final_project/main/Raw_Data/HB_BUS_AVG_LMP_Dec312020-Dec312021.csv\"\n",
        "busavg_5_url = \"https://raw.githubusercontent.com/jessalynlc/IDS705_final_project/main/Raw_Data/HB_BUS_AVG_LMP_Dec312021-Dec312022.csv\"\n",
        "busavg_6_url = \"https://raw.githubusercontent.com/jessalynlc/IDS705_final_project/main/Raw_Data/HB_BUS_AVG_LMP_Dec312022-Dec312023.csv\"\n",
        "#don't forget to delete Dec 30 data from here because it's in last data file!\n",
        "busavg_7_url = \"https://raw.githubusercontent.com/jessalynlc/IDS705_final_project/main/Raw_Data/HB_BUS_AVG_LMP_Dec302023-Dec292024.csv\"\n",
        "busavg_8_url = \"https://raw.githubusercontent.com/jessalynlc/IDS705_final_project/main/Raw_Data/HB_BUS_AVG_LMP_Dec292024_Apr132025.csv\"\n",
        "\n",
        "#fuel mix data\n",
        "fuelmix_1_url = \"https://raw.githubusercontent.com/jessalynlc/IDS705_final_project/main/Raw_Data/fuel_mix_Jan12018-Jan12019.csv\"\n",
        "fuelmix_2_url = \"https://raw.githubusercontent.com/jessalynlc/IDS705_final_project/main/Raw_Data/fuel_mix_Jan12019-Jan12020.csv\"\n",
        "fuelmix_3_url = \"https://raw.githubusercontent.com/jessalynlc/IDS705_final_project/main/Raw_Data/fuel_mix_Jan12020_Dec312020.csv\"\n",
        "fuelmix_4_url = \"https://raw.githubusercontent.com/jessalynlc/IDS705_final_project/main/Raw_Data/fuel_mix_Dec312020_Dec312021.csv\"\n",
        "fuelmix_5_url = \"https://raw.githubusercontent.com/jessalynlc/IDS705_final_project/main/Raw_Data/fuel_mix_Dec312021-Dec312022.csv\"\n",
        "fuelmix_6_url = \"https://raw.githubusercontent.com/jessalynlc/IDS705_final_project/main/Raw_Data/fuel_mix_Dec312022-Dec312023.csv\"\n",
        "fuelmix_7_url = \"https://raw.githubusercontent.com/jessalynlc/IDS705_final_project/main/Raw_Data/fuel_mix_Dec312023-Dec302024.csv\"\n",
        "fuelmix_8_url = \"https://raw.githubusercontent.com/jessalynlc/IDS705_final_project/main/Raw_Data/fuel_mix_Dec302024-Apr132025.csv\"\n",
        "\n",
        "#temp data\n",
        "temp_1_url = \"https://raw.githubusercontent.com/jessalynlc/IDS705_final_project/main/Raw_Data/temp_Jan12018-Jan12019.csv\"\n",
        "temp_2_url = \"https://raw.githubusercontent.com/jessalynlc/IDS705_final_project/main/Raw_Data/temp_Jan12019-Jan12020.csv\"\n",
        "temp_3_url = \"https://raw.githubusercontent.com/jessalynlc/IDS705_final_project/main/Raw_Data/temp_Jan12020-Dec312020.csv\"\n",
        "temp_4_url = \"https://raw.githubusercontent.com/jessalynlc/IDS705_final_project/main/Raw_Data/temp_Dec312020-Dec312021.csv\"\n",
        "temp_5_url = \"https://raw.githubusercontent.com/jessalynlc/IDS705_final_project/main/Raw_Data/temp_Dec312021-Dec312022.csv\"\n",
        "temp_6_url = \"https://raw.githubusercontent.com/jessalynlc/IDS705_final_project/main/Raw_Data/temp_Dec312022-Dec312023.csv\"\n",
        "temp_7_url = \"https://raw.githubusercontent.com/jessalynlc/IDS705_final_project/main/Raw_Data/temp_Dec312023-Dec302024_v2.csv\"\n",
        "temp_8_url = \"https://raw.githubusercontent.com/jessalynlc/IDS705_final_project/main/Raw_Data/temp_Dec302024-Apr132025.csv\"\n",
        "\n",
        "#Henry Hub Data (daily) (Dollars per Million Btu)\n",
        "henry_hub_url = \"https://raw.githubusercontent.com/jessalynlc/IDS705_final_project/refs/heads/main/Raw_Data/Henry_Hub_Natural_Gas_Spot_Price_updated.csv\"\n",
        "\n",
        "#Wet Bulb Temperature\n",
        "wet_bulb_url = \"https://raw.githubusercontent.com/jessalynlc/IDS705_final_project/refs/heads/main/Raw_Data/wet_bulb_temp.xlsx\""
      ],
      "metadata": {
        "id": "NwX5vsxfQbZ9"
      },
      "execution_count": 2,
      "outputs": []
    },
    {
      "cell_type": "code",
      "source": [
        "load = pd.read_csv(load_url)\n",
        "\n",
        "busavg_1 = pd.read_csv(busavg_1_url)\n",
        "busavg_2 = pd.read_csv(busavg_2_url)\n",
        "busavg_3 = pd.read_csv(busavg_3_url)\n",
        "busavg_4 = pd.read_csv(busavg_4_url)\n",
        "busavg_5 = pd.read_csv(busavg_5_url)\n",
        "busavg_6 = pd.read_csv(busavg_6_url)\n",
        "busavg_7 = pd.read_csv(busavg_7_url)\n",
        "busavg_8 = pd.read_csv(busavg_8_url)\n",
        "\n",
        "fuelmix_1 = pd.read_csv(fuelmix_1_url)\n",
        "fuelmix_2 = pd.read_csv(fuelmix_2_url)\n",
        "fuelmix_3 = pd.read_csv(fuelmix_3_url)\n",
        "fuelmix_4 = pd.read_csv(fuelmix_4_url)\n",
        "fuelmix_5 = pd.read_csv(fuelmix_5_url)\n",
        "fuelmix_6 = pd.read_csv(fuelmix_6_url)\n",
        "fuelmix_7 = pd.read_csv(fuelmix_7_url)\n",
        "fuelmix_8 = pd.read_csv(fuelmix_8_url)\n",
        "\n",
        "temp_1 = pd.read_csv(temp_1_url)\n",
        "temp_2 = pd.read_csv(temp_2_url)\n",
        "temp_3 = pd.read_csv(temp_3_url)\n",
        "temp_4 = pd.read_csv(temp_4_url)\n",
        "temp_5 = pd.read_csv(temp_5_url)\n",
        "temp_6 = pd.read_csv(temp_6_url)\n",
        "temp_7 = pd.read_csv(temp_7_url)\n",
        "temp_8 = pd.read_csv(temp_8_url)\n",
        "\n",
        "henry_hub = pd.read_csv(henry_hub_url)\n",
        "wet_bulb = pd.ExcelFile(wet_bulb_url)\n",
        "sheet_names = wet_bulb.sheet_names"
      ],
      "metadata": {
        "id": "DhxuQU2KXWWd"
      },
      "execution_count": 5,
      "outputs": []
    },
    {
      "cell_type": "markdown",
      "source": [
        "## Cleaning up Wet Bulb file\n",
        "\n",
        "This is daily wet bulb temperature data from Plano, Texas. To align it with hourly data from GridStatus, we assume that the wet bulb temperature remains constant across all 24 hours of each day."
      ],
      "metadata": {
        "id": "NjPaNmj3cd3N"
      }
    },
    {
      "cell_type": "code",
      "source": [
        "#Cleaning up wet_bulb file\n",
        "all_data = []\n",
        "\n",
        "for sheet in sheet_names:\n",
        "    df = pd.read_excel(wet_bulb_url, sheet_name=sheet, skiprows=3)\n",
        "    df = df.iloc[:, :13]  # Only keep 'Day' + Jan–Dec columns\n",
        "    df = df.dropna(how='all')  # Drop empty rows\n",
        "\n",
        "    # Melt the dataframe from wide to long format\n",
        "    df_long = df.melt(id_vars='Day', var_name='month', value_name='wet_bulb')\n",
        "    df_long['year'] = int(sheet)\n",
        "\n",
        "    # Convert to datetime\n",
        "    df_long['date'] = pd.to_datetime(df_long['year'].astype(str) + '-' + df_long['month'] + '-' + df_long['Day'].astype(str), errors='coerce')\n",
        "\n",
        "    df_long = df_long.dropna(subset=['date'])  # Drop invalid dates (e.g., Feb 30)\n",
        "\n",
        "    all_data.append(df_long[['date', 'wet_bulb']])\n",
        "\n",
        "# Combine all years\n",
        "wet_bulb_all = pd.concat(all_data, ignore_index=True).sort_values('date').reset_index(drop=True)\n"
      ],
      "metadata": {
        "id": "gOhZt86kvUbv"
      },
      "execution_count": 6,
      "outputs": []
    },
    {
      "cell_type": "code",
      "source": [
        "#Changing Henry Hub and Wet Bulb Temp data to hourly\n",
        "wet_bulb_all['date'] = pd.to_datetime(wet_bulb_all['date'])\n",
        "wet_bulb_all['hour'] = 0  # initialize an hour column\n",
        "\n",
        "# Repeat each row 24 times (for 0–23 hours)\n",
        "wet_bulb_hourly = wet_bulb_all.loc[wet_bulb_all.index.repeat(24)].reset_index(drop=True)\n",
        "wet_bulb_hourly['hour'] = list(range(24)) * len(wet_bulb_all)\n",
        "\n",
        "wet_bulb_hourly['interval_start_local'] = wet_bulb_hourly['date'] + pd.to_timedelta(wet_bulb_hourly['hour'], unit='h')\n",
        "wet_bulb_hourly = wet_bulb_hourly[['interval_start_local', 'wet_bulb']]"
      ],
      "metadata": {
        "id": "ypLVNZSFwo0T"
      },
      "execution_count": 7,
      "outputs": []
    },
    {
      "cell_type": "markdown",
      "source": [
        "## Cleaning up Henry Hub file\n",
        "\n",
        "This dataset contains daily Henry Hub natural gas spot prices in `$/MMBTU`. To align with the hourly electricity data from GridStatus, we assume that the daily gas price remains constant across all 24 hours of each day as short-term intraday variation in spot gas prices is typically minimal for RT LMP forecasting.\n",
        "\n",
        "Spot prices are not reported on weekends or federal holidays because the Henry Hub market (like many financial commodity markets) typically follows a weekday trading schedule, with no active settlement on non-business days. To address these gaps, we filled missing values using the nearest available gas price, an approach that helps maintain continuity while preserving the broader price signal."
      ],
      "metadata": {
        "id": "RPOBagxgdr9G"
      }
    },
    {
      "cell_type": "code",
      "source": [
        "#Convert to datetime and sort\n",
        "henry_hub['date'] = pd.to_datetime(henry_hub['date'])\n",
        "henry_hub = henry_hub.sort_values('date').reset_index(drop=True)\n",
        "\n",
        "#Create a full daily date range\n",
        "full_dates = pd.DataFrame({'date': pd.date_range(start=henry_hub['date'].min(),\n",
        "                                                  end=henry_hub['date'].max(), freq='D')})\n",
        "\n",
        "#Merge with original data\n",
        "henry_hub_full = full_dates.merge(henry_hub, on='date', how='left')\n",
        "\n",
        "#Fill missing prices using nearest value (forward-fill, then back-fill)\n",
        "henry_hub_full['Henry Hub Natural Gas Spot Price Dollars per Million Btu'] = (\n",
        "    henry_hub_full['Henry Hub Natural Gas Spot Price Dollars per Million Btu']\n",
        "    .ffill()\n",
        "    .bfill()\n",
        ")\n",
        "\n",
        "henry_hub_full = henry_hub_full.sort_values('date').reset_index(drop=True)\n",
        "\n",
        "#Repeat each row 24 times (one for each hour)\n",
        "henry_hub_hourly = henry_hub_full.loc[henry_hub_full.index.repeat(24)].reset_index(drop=True).copy()\n",
        "\n",
        "#Create the hour column (0–23 for each day)\n",
        "henry_hub_hourly['hour'] = list(range(24)) * len(henry_hub_full)\n",
        "\n",
        "#Create the hourly timestamp\n",
        "henry_hub_hourly['interval_start_local'] = henry_hub_hourly['date'] + pd.to_timedelta(henry_hub_hourly['hour'], unit='h')\n",
        "\n",
        "#Select and rename columns if needed\n",
        "henry_hub_hourly = henry_hub_hourly[['interval_start_local', 'Henry Hub Natural Gas Spot Price Dollars per Million Btu']]"
      ],
      "metadata": {
        "id": "BO1Dn0OVwu0O",
        "outputId": "23621371-1955-442b-c5a9-6b38b5174838",
        "colab": {
          "base_uri": "https://localhost:8080/"
        }
      },
      "execution_count": 8,
      "outputs": [
        {
          "output_type": "stream",
          "name": "stderr",
          "text": [
            "<ipython-input-8-a9009abb53f3>:2: UserWarning: Could not infer format, so each element will be parsed individually, falling back to `dateutil`. To ensure parsing is consistent and as-expected, please specify a format.\n",
            "  henry_hub['date'] = pd.to_datetime(henry_hub['date'])\n"
          ]
        }
      ]
    },
    {
      "cell_type": "markdown",
      "source": [
        "## Combining all csv files"
      ],
      "metadata": {
        "id": "JrDCrjKQdXRb"
      }
    },
    {
      "cell_type": "code",
      "source": [
        "#combining csv files\n",
        "\n",
        "#cleaning this file because have an overlapping day\n",
        "busavg_7_temp = busavg_7.drop(index=range(24))\n",
        "busavg_lmp = pd.concat([busavg_1, busavg_2, busavg_3, busavg_4, busavg_5, busavg_6, busavg_7_temp, busavg_8])\n",
        "\n",
        "fuel_mix = pd.concat([fuelmix_1, fuelmix_2, fuelmix_3, fuelmix_4, fuelmix_5, fuelmix_6, fuelmix_7, fuelmix_8])\n",
        "\n",
        "temp = pd.concat([temp_1, temp_2, temp_3, temp_4, temp_5, temp_6, temp_7, temp_8])"
      ],
      "metadata": {
        "id": "v0cddcsXXrSP"
      },
      "execution_count": 9,
      "outputs": []
    },
    {
      "cell_type": "code",
      "source": [
        "#num of rows should match\n",
        "\n",
        "#not really sure why load is missing data, so i'm just going to fill.NA later to simplify, could be worth looking into issue later\n",
        "print(load.shape)\n",
        "print(busavg_lmp.shape)\n",
        "print(fuel_mix.shape)\n",
        "print(temp.shape)\n",
        "\n",
        "#load.to_csv('load.csv', index=False)"
      ],
      "metadata": {
        "colab": {
          "base_uri": "https://localhost:8080/"
        },
        "id": "FfbzGq6AYy-z",
        "outputId": "eea2912e-b8e3-4977-f1f7-0e41b6bd1a1d"
      },
      "execution_count": 10,
      "outputs": [
        {
          "output_type": "stream",
          "name": "stdout",
          "text": [
            "(63689, 9)\n",
            "(63815, 6)\n",
            "(63815, 12)\n",
            "(63815, 14)\n"
          ]
        }
      ]
    },
    {
      "cell_type": "code",
      "source": [
        "#dropping unnecessary columns\n",
        "load = load.drop(columns=['interval_end_local', 'interval_start_local', 'interval_end_utc'])\n",
        "busavg_lmp = busavg_lmp.drop(columns=['interval_end_local', 'interval_start_local', 'interval_end_utc', 'location'])\n",
        "fuel_mix = fuel_mix.drop(columns=['interval_end_local', 'interval_start_local', 'interval_end_utc'])\n",
        "temp = temp.drop(columns=['interval_end_local', 'interval_start_local', 'interval_end_utc', 'publish_time_local', 'publish_time_utc'])\n",
        "\n",
        "#turning interval_start_local to datetime objects\n",
        "for df in [load, busavg_lmp, fuel_mix, temp]:\n",
        "    df['interval_start_utc'] = pd.to_datetime(df['interval_start_utc'], utc = True)\n"
      ],
      "metadata": {
        "id": "yoJdaD-RehIp"
      },
      "execution_count": 11,
      "outputs": []
    },
    {
      "cell_type": "code",
      "source": [
        "merged = load.merge(busavg_lmp, on='interval_start_utc', how='left')\n",
        "merged = merged.merge(fuel_mix, on='interval_start_utc', how='left')\n",
        "all_hourly_data = merged.merge(temp, on='interval_start_utc', how='left')"
      ],
      "metadata": {
        "id": "ZP0S87_ni2ms"
      },
      "execution_count": 12,
      "outputs": []
    },
    {
      "cell_type": "code",
      "source": [
        "all_hourly_data['interval_start_local'] = all_hourly_data['interval_start_utc'].dt.tz_convert('America/Chicago')\n",
        "\n",
        "# Extract date and hour\n",
        "all_hourly_data['date'] = all_hourly_data['interval_start_local'].dt.date\n",
        "all_hourly_data['hour'] = all_hourly_data['interval_start_local'].dt.hour"
      ],
      "metadata": {
        "id": "78ZYryEfkyFN"
      },
      "execution_count": 13,
      "outputs": []
    },
    {
      "cell_type": "code",
      "source": [
        "all_hourly_data = all_hourly_data.drop(columns=['interval_start_utc'])"
      ],
      "metadata": {
        "id": "8SEW5plisYyr"
      },
      "execution_count": 14,
      "outputs": []
    },
    {
      "cell_type": "code",
      "source": [
        "cols = ['interval_start_local', 'date', 'hour'] + [col for col in all_hourly_data.columns if col not in ['interval_start_local', 'date', 'hour']]\n",
        "all_hourly_data = all_hourly_data[cols]"
      ],
      "metadata": {
        "id": "j6TLGR7Psltc"
      },
      "execution_count": 15,
      "outputs": []
    },
    {
      "cell_type": "code",
      "source": [
        "# Convert 'interval_start_local' in wet_bulb_hourly and henry_hub_hourly to the same timezone as all_hourly_data\n",
        "wet_bulb_hourly['interval_start_local'] = pd.to_datetime(wet_bulb_hourly['interval_start_local']).dt.tz_localize('UTC').dt.tz_convert('America/Chicago')\n",
        "henry_hub_hourly['interval_start_local'] = pd.to_datetime(henry_hub_hourly['interval_start_local']).dt.tz_localize('UTC').dt.tz_convert('America/Chicago')\n",
        "\n",
        "\n",
        "# Merge all three\n",
        "merged_df = (\n",
        "    all_hourly_data\n",
        "    .merge(wet_bulb_hourly, on='interval_start_local', how='left')\n",
        "    .merge(henry_hub_hourly, on='interval_start_local', how='left')\n",
        ")"
      ],
      "metadata": {
        "id": "4jtHpFtKxCC5"
      },
      "execution_count": 16,
      "outputs": []
    },
    {
      "cell_type": "code",
      "source": [
        "merged_df.to_csv('all_hourly_data.csv', index = False)"
      ],
      "metadata": {
        "id": "LTgchr7TssFd"
      },
      "execution_count": 17,
      "outputs": []
    }
  ]
}