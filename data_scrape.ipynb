{
 "nbformat": 4,
 "nbformat_minor": 0,
 "metadata": {
  "colab": {
   "provenance": [],
   "authorship_tag": "ABX9TyNBR/QluWrSNVqfF2UCfqMY",
   "include_colab_link": true
  },
  "kernelspec": {
   "name": "python3",
   "display_name": "Python 3 (ipykernel)",
   "language": "python"
  },
  "language_info": {
   "name": "python"
  }
 },
 "cells": [
  {
   "cell_type": "markdown",
   "metadata": {
    "id": "view-in-github",
    "colab_type": "text"
   },
   "source": [
    "<a href=\"https://colab.research.google.com/github/jessalynlc/IDS705_final_project/blob/main/data_scrape.ipynb\" target=\"_parent\"><img src=\"https://colab.research.google.com/assets/colab-badge.svg\" alt=\"Open In Colab\"/></a>"
   ]
  },
  {
   "cell_type": "code",
   "source": [
    "import time\n",
    "import requests\n",
    "import json\n",
    "import pandas as pd\n",
    "import numpy as np"
   ],
   "metadata": {
    "id": "2heElnmwNTgJ",
    "ExecuteTime": {
     "end_time": "2025-04-13T20:30:01.723140Z",
     "start_time": "2025-04-13T20:30:00.293424Z"
    }
   },
   "outputs": [],
   "execution_count": 1
  },
  {
   "metadata": {},
   "cell_type": "markdown",
   "source": "# 1. Data Preparation"
  },
  {
   "cell_type": "code",
   "metadata": {
    "id": "5tgXUD_Su9JK",
    "ExecuteTime": {
     "end_time": "2025-04-13T20:30:01.833479Z",
     "start_time": "2025-04-13T20:30:01.806732Z"
    }
   },
   "source": [
    "api_key = 'd70a0d83e1a942578e16b2ed70dab42f'\n",
    "\n",
    "#pulling data for ERCOT\n",
    "ercot_load_forecast_dam = 'https://api.gridstatus.io/v1/datasets/ercot_load_forecast_dam/query?api_key=' + api_key + '&limit=1000'\n",
    "load = 'https://api.gridstatus.io/v1/datasets/ercot_load/query?api_key=' + api_key + '&limit=1000'\n",
    "ercot_unplanned_resource_outages = 'https://api.gridstatus.io/v1/datasets/ercot_unplanned_resource_outages/query?api_key=' + api_key + '&limit=1000'\n",
    "ercot_fuel_mix = 'https://api.gridstatus.io/v1/datasets/ercot_fuel_mix/query?api_key=' + api_key + '&limit=1000'\n",
    "ercot_solar_actual_and_forecast_hourly = 'https://api.gridstatus.io/v1/datasets/ercot_solar_actual_and_forecast_hourly/query?api_key=' + api_key + '&limit=1000'\n",
    "ercot_temperature_forecast_by_weather_zone = 'https://api.gridstatus.io/v1/datasets/ercot_temperature_forecast_by_weather_zone/query?api_key=' + api_key + '&limit=1000'\n",
    "ercot_energy_storage_resources = 'https://api.gridstatus.io/v1/datasets/ercot_energy_storage_resources/query?api_key=' + api_key + '&limit=1000'\n",
    "\n",
    "\n",
    "#LMP price pull (target)\n",
    "#Pulling LMP at the average of all the hubs\n",
    "ercot_lmp_by_settlement_point = 'https://api.gridstatus.io/v1/datasets/ercot_lmp_by_settlement_point/query/location/HB_HUBAVG?api_key=' + api_key + '&limit=1000'\n",
    "\n",
    "#Other hubs incase we want to forecast them, but sticking with the bus average:HB_CENTRAL, HB_EAST, HB_HOUSTON, HB_BUSAVG, HB_NORTH, HB_PAN, HB_SOUTH HB_WEST"
   ],
   "outputs": [],
   "execution_count": 2
  },
  {
   "cell_type": "markdown",
   "source": "## Data Pull V1",
   "metadata": {
    "id": "Ky4mUApWD5y3"
   }
  },
  {
   "cell_type": "code",
   "source": [
    "WAIT_TIME = 1  # seconds\n",
    "\n",
    "response = requests.get(ercot_load_forecast_dam)\n",
    "ercot_load_forecast_dam_data = response.json()\n",
    "time.sleep(WAIT_TIME)\n",
    "\n",
    "response = requests.get(load)\n",
    "load_data = response.json()\n",
    "time.sleep(WAIT_TIME)\n",
    "\n",
    "response = requests.get(ercot_unplanned_resource_outages)\n",
    "ercot_unplanned_resource_outages_data = response.json()\n",
    "time.sleep(WAIT_TIME)\n",
    "\n",
    "response = requests.get(ercot_fuel_mix)\n",
    "ercot_fuel_mix_data = response.json()\n",
    "time.sleep(WAIT_TIME)\n",
    "\n",
    "response = requests.get(ercot_solar_actual_and_forecast_hourly)\n",
    "ercot_solar_actual_and_forecast_hourly_data = response.json()\n",
    "time.sleep(WAIT_TIME)\n",
    "\n",
    "response = requests.get(ercot_temperature_forecast_by_weather_zone)\n",
    "ercot_temperature_forecast_by_weather_zone_data = response.json()\n",
    "time.sleep(WAIT_TIME)\n",
    "\n",
    "response = requests.get(ercot_energy_storage_resources)\n",
    "ercot_energy_storage_resources_data = response.json()\n",
    "time.sleep(WAIT_TIME)\n",
    "\n",
    "response = requests.get(ercot_lmp_by_settlement_point)\n",
    "ercot_lmp_by_settlement_point_data = response.json()\n",
    "\n",
    "#Question: Not all the datasets start at the same time, but I almost wonder if it's interesting to see how the model performs as more data gets added as time progresses..."
   ],
   "metadata": {
    "id": "8RjicqhpAMXI",
    "colab": {
     "base_uri": "https://localhost:8080/",
     "height": 356
    },
    "outputId": "028f15c0-20f6-4ef8-aa53-2f679c396951",
    "ExecuteTime": {
     "end_time": "2025-04-13T20:30:25.875172Z",
     "start_time": "2025-04-13T20:30:01.911261Z"
    }
   },
   "outputs": [],
   "execution_count": 3
  },
  {
   "cell_type": "markdown",
   "source": "### Organizing data frame",
   "metadata": {
    "id": "2kZC87atD9Uo"
   }
  },
  {
   "cell_type": "code",
   "source": [
    "#extracting the value of the data key to create a list of dictionaries\n",
    "ercot_load_forecast_dam_records = ercot_load_forecast_dam_data['data']\n",
    "load_records = load_data['data']\n",
    "ercot_unplanned_resource_outages_records = ercot_unplanned_resource_outages_data['data']\n",
    "ercot_fuel_mix_records = ercot_fuel_mix_data['data']\n",
    "ercot_solar_actual_and_forecast_hourly_records = ercot_solar_actual_and_forecast_hourly_data['data']\n",
    "ercot_temperature_forecast_by_weather_zone_records = ercot_temperature_forecast_by_weather_zone_data['data']\n",
    "ercot_energy_storage_resources_records = ercot_energy_storage_resources_data['data']\n",
    "ercot_lmp_by_settlement_point_records = ercot_lmp_by_settlement_point_data['data']\n",
    "\n",
    "# Create separate data frames\n",
    "ercot_load_forecast_dam_df = pd.DataFrame(ercot_load_forecast_dam_records)\n",
    "load_df = pd.DataFrame(load_records)\n",
    "ercot_unplanned_resource_outages_df = pd.DataFrame(ercot_unplanned_resource_outages_records)\n",
    "ercot_fuel_mix_df = pd.DataFrame(ercot_fuel_mix_records)\n",
    "ercot_solar_actual_and_forecast_hourly_df = pd.DataFrame(ercot_solar_actual_and_forecast_hourly_records)\n",
    "ercot_temperature_forecast_by_weather_zone_df = pd.DataFrame(ercot_temperature_forecast_by_weather_zone_records)\n",
    "ercot_energy_storage_resources_df = pd.DataFrame(ercot_energy_storage_resources_records)\n",
    "ercot_lmp_by_settlement_point_records_df = pd.DataFrame(ercot_lmp_by_settlement_point_records)\n",
    "\n",
    "# Put all DataFrames in a list\n",
    "dataframes = [\n",
    "    ercot_load_forecast_dam_df,\n",
    "    load_df,\n",
    "    #ercot_unplanned_resource_outages_df, commenting out for now, have to think about how to add this to master\n",
    "    ercot_fuel_mix_df,\n",
    "    ercot_solar_actual_and_forecast_hourly_df,\n",
    "    ercot_temperature_forecast_by_weather_zone_df,\n",
    "    ercot_energy_storage_resources_df,\n",
    "    ercot_lmp_by_settlement_point_records_df\n",
    "]\n",
    "\n",
    "#Standardize timestamps and collect time deltas\n",
    "min_intervals = []\n",
    "for i in range(len(dataframes)):\n",
    "  df = dataframes[i].copy()\n",
    "\n",
    "  # Rename time_utc to interval_start_utc if present, I think this is only for ercot_temperature_forecast_by_weather_zone_df\n",
    "  if 'time_utc' in df.columns:\n",
    "    df = df.rename(columns={'time_utc': 'interval_start_utc'})\n",
    "\n",
    "  # Convert timestamps\n",
    "  df['interval_start_utc'] = pd.to_datetime(df['interval_start_utc'])\n",
    "\n",
    "  # Convert and inspect time delta if end time exists\n",
    "  if 'interval_end_utc' in df.columns:\n",
    "    df['interval_end_utc'] = pd.to_datetime(df['interval_end_utc'])\n",
    "    deltas = (df['interval_end_utc'] - df['interval_start_utc']).dropna()\n",
    "    if not deltas.empty:\n",
    "      min_intervals.append(deltas.min())\n",
    "\n",
    "  dataframes[i] = df\n",
    "\n",
    "#Find smallest interval (e.g., 5 minutes)\n",
    "smallest_interval = min(min_intervals)\n",
    "print(f\"Smallest interval detected: {smallest_interval}\")\n",
    "\n",
    "#Create master time index\n",
    "all_times = pd.concat([df['interval_start_utc'] for df in dataframes])\n",
    "time_index = pd.date_range(start=all_times.min(), end=all_times.max(), freq=smallest_interval)\n",
    "master_df = pd.DataFrame({'interval_start_utc': time_index})\n",
    "\n",
    "#Drop original interval_end_utc and merge\n",
    "for df in dataframes:\n",
    "    if 'interval_end_utc' in df.columns:\n",
    "        df = df.drop(columns='interval_end_utc')\n",
    "    master_df = master_df.merge(df, on='interval_start_utc', how='left')\n",
    "\n",
    "#Add consistent interval_end_utc\n",
    "master_df['interval_end_utc'] = master_df['interval_start_utc'] + smallest_interval\n",
    "\n",
    "print(master_df.head())\n",
    "print(master_df.shape)"
   ],
   "metadata": {
    "id": "UKv5lZljCaUQ",
    "ExecuteTime": {
     "end_time": "2025-04-13T20:30:33.794177Z",
     "start_time": "2025-04-13T20:30:26.568032Z"
    }
   },
   "outputs": [
    {
     "name": "stdout",
     "output_type": "stream",
     "text": [
      "Smallest interval detected: 0 days 00:05:00\n",
      "         interval_start_utc publish_time_utc_x  north_x  south  west_x  \\\n",
      "0 2010-11-30 06:00:00+00:00                NaN      NaN    NaN     NaN   \n",
      "1 2010-11-30 06:00:00+00:00                NaN      NaN    NaN     NaN   \n",
      "2 2010-11-30 06:00:00+00:00                NaN      NaN    NaN     NaN   \n",
      "3 2010-11-30 06:00:00+00:00                NaN      NaN    NaN     NaN   \n",
      "4 2010-11-30 06:05:00+00:00                NaN      NaN    NaN     NaN   \n",
      "\n",
      "   houston  system_total  load  coal_and_lignite  hydro  ...  west_y  \\\n",
      "0      NaN           NaN   NaN               NaN    NaN  ...     NaN   \n",
      "1      NaN           NaN   NaN               NaN    NaN  ...     NaN   \n",
      "2      NaN           NaN   NaN               NaN    NaN  ...     NaN   \n",
      "3      NaN           NaN   NaN               NaN    NaN  ...     NaN   \n",
      "4      NaN           NaN   NaN               NaN    NaN  ...     NaN   \n",
      "\n",
      "   total_charging  total_discharging  net_output         sced_timestamp_utc  \\\n",
      "0             NaN                NaN         NaN  2010-11-30T06:00:36+00:00   \n",
      "1             NaN                NaN         NaN  2010-11-30T06:02:08+00:00   \n",
      "2             NaN                NaN         NaN  2010-11-30T06:03:27+00:00   \n",
      "3             NaN                NaN         NaN  2010-11-30T06:04:02+00:00   \n",
      "4             NaN                NaN         NaN  2010-11-30T06:05:14+00:00   \n",
      "\n",
      "           market   location  location_type    lmp          interval_end_utc  \n",
      "0  REAL_TIME_SCED  HB_HUBAVG    Trading Hub   4.46 2010-11-30 06:05:00+00:00  \n",
      "1  REAL_TIME_SCED  HB_HUBAVG    Trading Hub   4.46 2010-11-30 06:05:00+00:00  \n",
      "2  REAL_TIME_SCED  HB_HUBAVG    Trading Hub   4.46 2010-11-30 06:05:00+00:00  \n",
      "3  REAL_TIME_SCED  HB_HUBAVG    Trading Hub   4.46 2010-11-30 06:05:00+00:00  \n",
      "4  REAL_TIME_SCED  HB_HUBAVG    Trading Hub  18.73 2010-11-30 06:10:00+00:00  \n",
      "\n",
      "[5 rows x 40 columns]\n",
      "(1372033, 40)\n"
     ]
    }
   ],
   "execution_count": 4
  },
  {
   "cell_type": "markdown",
   "source": [
    "## DATA PULL V2 (FINAL)\n",
    "\n",
    "Data pull for all are hourly and spans Jan 1 2018 - April 12, 2025"
   ],
   "metadata": {
    "id": "amosuf_BQcfV"
   }
  },
  {
   "cell_type": "code",
   "source": [
    "#RT load data\n",
    "load_url = \"https://raw.githubusercontent.com/jessalynlc/IDS705_final_project/main/Raw_Data/ercot_load_by_forecast_zone.csv\"\n",
    "\n",
    "#RT LMP data\n",
    "busavg_1_url = \"https://raw.githubusercontent.com/jessalynlc/IDS705_final_project/main/Raw_Data/HB_BUSAVG_LMP_Jan12018-Jan12019.csv\"\n",
    "busavg_2_url = \"https://raw.githubusercontent.com/jessalynlc/IDS705_final_project/main/Raw_Data/HB_BUSAVG_LMP_Jan12019-Jan12020.csv\"\n",
    "busavg_3_url = \"https://raw.githubusercontent.com/jessalynlc/IDS705_final_project/main/Raw_Data/HB_BUSAVG_LMP_Jan12020-Dec312020.csv\"\n",
    "busavg_4_url = \"https://raw.githubusercontent.com/jessalynlc/IDS705_final_project/main/Raw_Data/HB_BUS_AVG_LMP_Dec312020-Dec312021.csv\"\n",
    "busavg_5_url = \"https://raw.githubusercontent.com/jessalynlc/IDS705_final_project/main/Raw_Data/HB_BUS_AVG_LMP_Dec312021-Dec312022.csv\"\n",
    "busavg_6_url = \"https://raw.githubusercontent.com/jessalynlc/IDS705_final_project/main/Raw_Data/HB_BUS_AVG_LMP_Dec312022-Dec312023.csv\"\n",
    "#don't forget to delete Dec 30 data from here because it's in last data file!\n",
    "busavg_7_url = \"https://raw.githubusercontent.com/jessalynlc/IDS705_final_project/main/Raw_Data/HB_BUS_AVG_LMP_Dec302023-Dec292024.csv\"\n",
    "busavg_8_url = \"https://raw.githubusercontent.com/jessalynlc/IDS705_final_project/main/Raw_Data/HB_BUS_AVG_LMP_Dec292024_Apr132025.csv\"\n",
    "\n",
    "#fuel mix data\n",
    "fuelmix_1_url = \"https://raw.githubusercontent.com/jessalynlc/IDS705_final_project/main/Raw_Data/fuel_mix_Jan12018-Jan12019.csv\"\n",
    "fuelmix_2_url = \"https://raw.githubusercontent.com/jessalynlc/IDS705_final_project/main/Raw_Data/fuel_mix_Jan12019-Jan12020.csv\"\n",
    "fuelmix_3_url = \"https://raw.githubusercontent.com/jessalynlc/IDS705_final_project/main/Raw_Data/fuel_mix_Jan12020_Dec312020.csv\"\n",
    "fuelmix_4_url = \"https://raw.githubusercontent.com/jessalynlc/IDS705_final_project/main/Raw_Data/fuel_mix_Dec312020_Dec312021.csv\"\n",
    "fuelmix_5_url = \"https://raw.githubusercontent.com/jessalynlc/IDS705_final_project/main/Raw_Data/fuel_mix_Dec312021-Dec312022.csv\"\n",
    "fuelmix_6_url = \"https://raw.githubusercontent.com/jessalynlc/IDS705_final_project/main/Raw_Data/fuel_mix_Dec312022-Dec312023.csv\"\n",
    "fuelmix_7_url = \"https://raw.githubusercontent.com/jessalynlc/IDS705_final_project/main/Raw_Data/fuel_mix_Dec312023-Dec302024.csv\"\n",
    "fuelmix_8_url = \"https://raw.githubusercontent.com/jessalynlc/IDS705_final_project/main/Raw_Data/fuel_mix_Dec302024-Apr132025.csv\"\n",
    "\n",
    "#temp data\n",
    "temp_1_url = \"https://raw.githubusercontent.com/jessalynlc/IDS705_final_project/main/Raw_Data/temp_Jan12018-Jan12019.csv\"\n",
    "temp_2_url = \"https://raw.githubusercontent.com/jessalynlc/IDS705_final_project/main/Raw_Data/temp_Jan12019-Jan12020.csv\"\n",
    "temp_3_url = \"https://raw.githubusercontent.com/jessalynlc/IDS705_final_project/main/Raw_Data/temp_Jan12020-Dec312020.csv\"\n",
    "temp_4_url = \"https://raw.githubusercontent.com/jessalynlc/IDS705_final_project/main/Raw_Data/temp_Dec312020-Dec312021.csv\"\n",
    "temp_5_url = \"https://raw.githubusercontent.com/jessalynlc/IDS705_final_project/main/Raw_Data/temp_Dec312021-Dec312022.csv\"\n",
    "temp_6_url = \"https://raw.githubusercontent.com/jessalynlc/IDS705_final_project/main/Raw_Data/temp_Dec312022-Dec312023.csv\"\n",
    "temp_7_url = \"https://raw.githubusercontent.com/jessalynlc/IDS705_final_project/main/Raw_Data/temp_Dec312023-Dec302024_v2.csv\"\n",
    "temp_8_url = \"https://raw.githubusercontent.com/jessalynlc/IDS705_final_project/main/Raw_Data/temp_Dec302024-Apr132025.csv\"\n"
   ],
   "metadata": {
    "id": "NwX5vsxfQbZ9",
    "ExecuteTime": {
     "end_time": "2025-04-13T20:30:34.022770Z",
     "start_time": "2025-04-13T20:30:34.001094Z"
    }
   },
   "outputs": [],
   "execution_count": 5
  },
  {
   "cell_type": "code",
   "source": [
    "load = pd.read_csv(load_url)\n",
    "\n",
    "busavg_1 = pd.read_csv(busavg_1_url)\n",
    "busavg_2 = pd.read_csv(busavg_2_url)\n",
    "busavg_3 = pd.read_csv(busavg_3_url)\n",
    "busavg_4 = pd.read_csv(busavg_4_url)\n",
    "busavg_5 = pd.read_csv(busavg_5_url)\n",
    "busavg_6 = pd.read_csv(busavg_6_url)\n",
    "busavg_7 = pd.read_csv(busavg_7_url)\n",
    "busavg_8 = pd.read_csv(busavg_8_url)\n",
    "\n",
    "fuelmix_1 = pd.read_csv(fuelmix_1_url)\n",
    "fuelmix_2 = pd.read_csv(fuelmix_2_url)\n",
    "fuelmix_3 = pd.read_csv(fuelmix_3_url)\n",
    "fuelmix_4 = pd.read_csv(fuelmix_4_url)\n",
    "fuelmix_5 = pd.read_csv(fuelmix_5_url)\n",
    "fuelmix_6 = pd.read_csv(fuelmix_6_url)\n",
    "fuelmix_7 = pd.read_csv(fuelmix_7_url)\n",
    "fuelmix_8 = pd.read_csv(fuelmix_8_url)\n",
    "\n",
    "temp_1 = pd.read_csv(temp_1_url)\n",
    "temp_2 = pd.read_csv(temp_2_url)\n",
    "temp_3 = pd.read_csv(temp_3_url)\n",
    "temp_4 = pd.read_csv(temp_4_url)\n",
    "temp_5 = pd.read_csv(temp_5_url)\n",
    "temp_6 = pd.read_csv(temp_6_url)\n",
    "temp_7 = pd.read_csv(temp_7_url)\n",
    "temp_8 = pd.read_csv(temp_8_url)\n"
   ],
   "metadata": {
    "id": "DhxuQU2KXWWd",
    "ExecuteTime": {
     "end_time": "2025-04-13T20:30:51.574437Z",
     "start_time": "2025-04-13T20:30:34.235181Z"
    }
   },
   "outputs": [],
   "execution_count": 6
  },
  {
   "cell_type": "code",
   "source": [
    "#combining csv files\n",
    "\n",
    "#cleaning this file because have an overlapping day\n",
    "busavg_7_temp = busavg_7.drop(index=range(24))\n",
    "busavg_lmp = pd.concat([busavg_1, busavg_2, busavg_3, busavg_4, busavg_5, busavg_6, busavg_7_temp, busavg_8])\n",
    "\n",
    "fuel_mix = pd.concat([fuelmix_1, fuelmix_2, fuelmix_3, fuelmix_4, fuelmix_5, fuelmix_6, fuelmix_7, fuelmix_8])\n",
    "\n",
    "temp = pd.concat([temp_1, temp_2, temp_3, temp_4, temp_5, temp_6, temp_7, temp_8])"
   ],
   "metadata": {
    "id": "v0cddcsXXrSP",
    "ExecuteTime": {
     "end_time": "2025-04-13T20:30:51.668346Z",
     "start_time": "2025-04-13T20:30:51.591429Z"
    }
   },
   "outputs": [],
   "execution_count": 7
  },
  {
   "cell_type": "code",
   "source": [
    "#num of rows should match\n",
    "\n",
    "#not really sure why load is missing data, so i'm just going to fill.NA later to simplify, could be worth looking into issue later\n",
    "print(load.shape)\n",
    "print(busavg_lmp.shape)\n",
    "print(fuel_mix.shape)\n",
    "print(temp.shape)\n",
    "\n",
    "#load.to_csv('load.csv', index=False)"
   ],
   "metadata": {
    "colab": {
     "base_uri": "https://localhost:8080/"
    },
    "id": "FfbzGq6AYy-z",
    "outputId": "f51fd257-20e3-4a58-979e-7962c98b2428",
    "ExecuteTime": {
     "end_time": "2025-04-13T20:30:52.010539Z",
     "start_time": "2025-04-13T20:30:51.985397Z"
    }
   },
   "outputs": [
    {
     "name": "stdout",
     "output_type": "stream",
     "text": [
      "(63689, 9)\n",
      "(63815, 6)\n",
      "(63815, 12)\n",
      "(63815, 14)\n"
     ]
    }
   ],
   "execution_count": 8
  },
  {
   "cell_type": "code",
   "source": [
    "load.head()"
   ],
   "metadata": {
    "colab": {
     "base_uri": "https://localhost:8080/",
     "height": 206
    },
    "id": "eFqLxbb8d9Ea",
    "outputId": "e6209dc9-c626-4e73-cade-f6723dd034a6",
    "ExecuteTime": {
     "end_time": "2025-04-13T20:30:52.477852Z",
     "start_time": "2025-04-13T20:30:52.417447Z"
    }
   },
   "outputs": [
    {
     "data": {
      "text/plain": [
       "        interval_start_local         interval_start_utc  \\\n",
       "0  2018-01-01T00:00:00-06:00  2018-01-01 06:00:00+00:00   \n",
       "1  2018-01-01T01:00:00-06:00  2018-01-01 07:00:00+00:00   \n",
       "2  2018-01-01T02:00:00-06:00  2018-01-01 08:00:00+00:00   \n",
       "3  2018-01-01T03:00:00-06:00  2018-01-01 09:00:00+00:00   \n",
       "4  2018-01-01T04:00:00-06:00  2018-01-01 10:00:00+00:00   \n",
       "\n",
       "          interval_end_local           interval_end_utc     north     south  \\\n",
       "0  2018-01-01T01:00:00-06:00  2018-01-01 07:00:00+00:00  21198.80  14046.47   \n",
       "1  2018-01-01T02:00:00-06:00  2018-01-01 08:00:00+00:00  21176.60  14176.73   \n",
       "2  2018-01-01T03:00:00-06:00  2018-01-01 09:00:00+00:00  21234.65  14265.94   \n",
       "3  2018-01-01T04:00:00-06:00  2018-01-01 10:00:00+00:00  21365.95  14360.66   \n",
       "4  2018-01-01T05:00:00-06:00  2018-01-01 11:00:00+00:00  21691.43  14516.28   \n",
       "\n",
       "      west   houston     total  \n",
       "0  4759.33  10584.52  50589.13  \n",
       "1  4722.19  10569.91  50645.44  \n",
       "2  4675.70  10559.50  50735.79  \n",
       "3  4673.38  10608.76  51008.76  \n",
       "4  4698.25  10793.93  51699.89  "
      ],
      "text/html": [
       "<div>\n",
       "<style scoped>\n",
       "    .dataframe tbody tr th:only-of-type {\n",
       "        vertical-align: middle;\n",
       "    }\n",
       "\n",
       "    .dataframe tbody tr th {\n",
       "        vertical-align: top;\n",
       "    }\n",
       "\n",
       "    .dataframe thead th {\n",
       "        text-align: right;\n",
       "    }\n",
       "</style>\n",
       "<table border=\"1\" class=\"dataframe\">\n",
       "  <thead>\n",
       "    <tr style=\"text-align: right;\">\n",
       "      <th></th>\n",
       "      <th>interval_start_local</th>\n",
       "      <th>interval_start_utc</th>\n",
       "      <th>interval_end_local</th>\n",
       "      <th>interval_end_utc</th>\n",
       "      <th>north</th>\n",
       "      <th>south</th>\n",
       "      <th>west</th>\n",
       "      <th>houston</th>\n",
       "      <th>total</th>\n",
       "    </tr>\n",
       "  </thead>\n",
       "  <tbody>\n",
       "    <tr>\n",
       "      <th>0</th>\n",
       "      <td>2018-01-01T00:00:00-06:00</td>\n",
       "      <td>2018-01-01 06:00:00+00:00</td>\n",
       "      <td>2018-01-01T01:00:00-06:00</td>\n",
       "      <td>2018-01-01 07:00:00+00:00</td>\n",
       "      <td>21198.80</td>\n",
       "      <td>14046.47</td>\n",
       "      <td>4759.33</td>\n",
       "      <td>10584.52</td>\n",
       "      <td>50589.13</td>\n",
       "    </tr>\n",
       "    <tr>\n",
       "      <th>1</th>\n",
       "      <td>2018-01-01T01:00:00-06:00</td>\n",
       "      <td>2018-01-01 07:00:00+00:00</td>\n",
       "      <td>2018-01-01T02:00:00-06:00</td>\n",
       "      <td>2018-01-01 08:00:00+00:00</td>\n",
       "      <td>21176.60</td>\n",
       "      <td>14176.73</td>\n",
       "      <td>4722.19</td>\n",
       "      <td>10569.91</td>\n",
       "      <td>50645.44</td>\n",
       "    </tr>\n",
       "    <tr>\n",
       "      <th>2</th>\n",
       "      <td>2018-01-01T02:00:00-06:00</td>\n",
       "      <td>2018-01-01 08:00:00+00:00</td>\n",
       "      <td>2018-01-01T03:00:00-06:00</td>\n",
       "      <td>2018-01-01 09:00:00+00:00</td>\n",
       "      <td>21234.65</td>\n",
       "      <td>14265.94</td>\n",
       "      <td>4675.70</td>\n",
       "      <td>10559.50</td>\n",
       "      <td>50735.79</td>\n",
       "    </tr>\n",
       "    <tr>\n",
       "      <th>3</th>\n",
       "      <td>2018-01-01T03:00:00-06:00</td>\n",
       "      <td>2018-01-01 09:00:00+00:00</td>\n",
       "      <td>2018-01-01T04:00:00-06:00</td>\n",
       "      <td>2018-01-01 10:00:00+00:00</td>\n",
       "      <td>21365.95</td>\n",
       "      <td>14360.66</td>\n",
       "      <td>4673.38</td>\n",
       "      <td>10608.76</td>\n",
       "      <td>51008.76</td>\n",
       "    </tr>\n",
       "    <tr>\n",
       "      <th>4</th>\n",
       "      <td>2018-01-01T04:00:00-06:00</td>\n",
       "      <td>2018-01-01 10:00:00+00:00</td>\n",
       "      <td>2018-01-01T05:00:00-06:00</td>\n",
       "      <td>2018-01-01 11:00:00+00:00</td>\n",
       "      <td>21691.43</td>\n",
       "      <td>14516.28</td>\n",
       "      <td>4698.25</td>\n",
       "      <td>10793.93</td>\n",
       "      <td>51699.89</td>\n",
       "    </tr>\n",
       "  </tbody>\n",
       "</table>\n",
       "</div>"
      ]
     },
     "execution_count": 9,
     "metadata": {},
     "output_type": "execute_result"
    }
   ],
   "execution_count": 9
  },
  {
   "cell_type": "code",
   "source": [
    "#busavg_lmp.head()"
   ],
   "metadata": {
    "id": "kiLbwlIFd_4p",
    "ExecuteTime": {
     "end_time": "2025-04-13T20:30:52.851092Z",
     "start_time": "2025-04-13T20:30:52.841513Z"
    }
   },
   "outputs": [],
   "execution_count": 10
  },
  {
   "cell_type": "code",
   "source": [
    "#fuel_mix.head()"
   ],
   "metadata": {
    "id": "U7qp5iAVeB1X",
    "ExecuteTime": {
     "end_time": "2025-04-13T20:30:53.457280Z",
     "start_time": "2025-04-13T20:30:53.446642Z"
    }
   },
   "outputs": [],
   "execution_count": 11
  },
  {
   "cell_type": "code",
   "source": [
    "#temp.head()"
   ],
   "metadata": {
    "id": "zk8e7cFfeEpn",
    "ExecuteTime": {
     "end_time": "2025-04-13T20:30:53.983410Z",
     "start_time": "2025-04-13T20:30:53.963888Z"
    }
   },
   "outputs": [],
   "execution_count": 12
  },
  {
   "cell_type": "code",
   "source": [
    "#dropping unnecessary columns\n",
    "load = load.drop(columns=['interval_end_local', 'interval_start_local', 'interval_end_utc'])\n",
    "busavg_lmp = busavg_lmp.drop(columns=['interval_end_local', 'interval_start_local', 'interval_end_utc', 'location'])\n",
    "fuel_mix = fuel_mix.drop(columns=['interval_end_local', 'interval_start_local', 'interval_end_utc'])\n",
    "temp = temp.drop(columns=['interval_end_local', 'interval_start_local', 'interval_end_utc', 'publish_time_local', 'publish_time_utc'])\n",
    "\n",
    "#turning interval_start_local to datetime objects\n",
    "for df in [load, busavg_lmp, fuel_mix, temp]:\n",
    "    df['interval_start_utc'] = pd.to_datetime(df['interval_start_utc'], utc = True)\n"
   ],
   "metadata": {
    "id": "yoJdaD-RehIp",
    "ExecuteTime": {
     "end_time": "2025-04-13T20:30:55.736728Z",
     "start_time": "2025-04-13T20:30:54.885879Z"
    }
   },
   "outputs": [],
   "execution_count": 13
  },
  {
   "cell_type": "code",
   "source": [
    "merged = load.merge(busavg_lmp, on='interval_start_utc', how='left')\n",
    "merged = merged.merge(fuel_mix, on='interval_start_utc', how='left')\n",
    "all_hourly_data = merged.merge(temp, on='interval_start_utc', how='left')"
   ],
   "metadata": {
    "id": "ZP0S87_ni2ms",
    "ExecuteTime": {
     "end_time": "2025-04-13T20:30:56.083915Z",
     "start_time": "2025-04-13T20:30:56.008724Z"
    }
   },
   "outputs": [],
   "execution_count": 14
  },
  {
   "cell_type": "code",
   "source": [
    "all_hourly_data.head()"
   ],
   "metadata": {
    "colab": {
     "base_uri": "https://localhost:8080/",
     "height": 342
    },
    "id": "cBJq5Xsni48p",
    "outputId": "68a96138-54b3-4707-f2ce-c18be0bacb70",
    "ExecuteTime": {
     "end_time": "2025-04-13T20:30:56.502649Z",
     "start_time": "2025-04-13T20:30:56.457706Z"
    }
   },
   "outputs": [
    {
     "data": {
      "text/plain": [
       "         interval_start_utc   north_x     south   west_x   houston     total  \\\n",
       "0 2018-01-01 06:00:00+00:00  21198.80  14046.47  4759.33  10584.52  50589.13   \n",
       "1 2018-01-01 07:00:00+00:00  21176.60  14176.73  4722.19  10569.91  50645.44   \n",
       "2 2018-01-01 08:00:00+00:00  21234.65  14265.94  4675.70  10559.50  50735.79   \n",
       "3 2018-01-01 09:00:00+00:00  21365.95  14360.66  4673.38  10608.76  51008.76   \n",
       "4 2018-01-01 10:00:00+00:00  21691.43  14516.28  4698.25  10793.93  51699.89   \n",
       "\n",
       "         lmp  coal_and_lignite      hydro      nuclear  ...   natural_gas  \\\n",
       "0  27.285833      15806.625503  60.499499  5111.946989  ...  25122.230913   \n",
       "1  27.427500      15903.987676  60.624716  5111.708293  ...  25351.367821   \n",
       "2  27.243333      15913.714280  60.310699  5111.566488  ...  25177.212640   \n",
       "3  27.770000      15932.358134  60.369606  5109.763895  ...  25678.390661   \n",
       "4  28.697500      15904.127241  60.309479  5110.438986  ...  26451.298419   \n",
       "\n",
       "      other  coast  east  far_west  north_y  north_central  south_central  \\\n",
       "0  2.103656   39.4  28.5      20.0     17.5          22.75           27.5   \n",
       "1  1.712454   38.3  27.5      19.5     16.5          21.75           27.0   \n",
       "2  2.239718   37.3  25.5      19.5     16.0          21.25           27.0   \n",
       "3  1.608887   36.8  25.0      19.0     15.5          20.25           26.5   \n",
       "4  1.757122   35.0  24.0      18.5     14.5          19.00           26.5   \n",
       "\n",
       "   southern  west_y  \n",
       "0      42.2    18.2  \n",
       "1      40.6    17.6  \n",
       "2      39.2    17.6  \n",
       "3      38.2    17.0  \n",
       "4      36.8    16.6  \n",
       "\n",
       "[5 rows x 23 columns]"
      ],
      "text/html": [
       "<div>\n",
       "<style scoped>\n",
       "    .dataframe tbody tr th:only-of-type {\n",
       "        vertical-align: middle;\n",
       "    }\n",
       "\n",
       "    .dataframe tbody tr th {\n",
       "        vertical-align: top;\n",
       "    }\n",
       "\n",
       "    .dataframe thead th {\n",
       "        text-align: right;\n",
       "    }\n",
       "</style>\n",
       "<table border=\"1\" class=\"dataframe\">\n",
       "  <thead>\n",
       "    <tr style=\"text-align: right;\">\n",
       "      <th></th>\n",
       "      <th>interval_start_utc</th>\n",
       "      <th>north_x</th>\n",
       "      <th>south</th>\n",
       "      <th>west_x</th>\n",
       "      <th>houston</th>\n",
       "      <th>total</th>\n",
       "      <th>lmp</th>\n",
       "      <th>coal_and_lignite</th>\n",
       "      <th>hydro</th>\n",
       "      <th>nuclear</th>\n",
       "      <th>...</th>\n",
       "      <th>natural_gas</th>\n",
       "      <th>other</th>\n",
       "      <th>coast</th>\n",
       "      <th>east</th>\n",
       "      <th>far_west</th>\n",
       "      <th>north_y</th>\n",
       "      <th>north_central</th>\n",
       "      <th>south_central</th>\n",
       "      <th>southern</th>\n",
       "      <th>west_y</th>\n",
       "    </tr>\n",
       "  </thead>\n",
       "  <tbody>\n",
       "    <tr>\n",
       "      <th>0</th>\n",
       "      <td>2018-01-01 06:00:00+00:00</td>\n",
       "      <td>21198.80</td>\n",
       "      <td>14046.47</td>\n",
       "      <td>4759.33</td>\n",
       "      <td>10584.52</td>\n",
       "      <td>50589.13</td>\n",
       "      <td>27.285833</td>\n",
       "      <td>15806.625503</td>\n",
       "      <td>60.499499</td>\n",
       "      <td>5111.946989</td>\n",
       "      <td>...</td>\n",
       "      <td>25122.230913</td>\n",
       "      <td>2.103656</td>\n",
       "      <td>39.4</td>\n",
       "      <td>28.5</td>\n",
       "      <td>20.0</td>\n",
       "      <td>17.5</td>\n",
       "      <td>22.75</td>\n",
       "      <td>27.5</td>\n",
       "      <td>42.2</td>\n",
       "      <td>18.2</td>\n",
       "    </tr>\n",
       "    <tr>\n",
       "      <th>1</th>\n",
       "      <td>2018-01-01 07:00:00+00:00</td>\n",
       "      <td>21176.60</td>\n",
       "      <td>14176.73</td>\n",
       "      <td>4722.19</td>\n",
       "      <td>10569.91</td>\n",
       "      <td>50645.44</td>\n",
       "      <td>27.427500</td>\n",
       "      <td>15903.987676</td>\n",
       "      <td>60.624716</td>\n",
       "      <td>5111.708293</td>\n",
       "      <td>...</td>\n",
       "      <td>25351.367821</td>\n",
       "      <td>1.712454</td>\n",
       "      <td>38.3</td>\n",
       "      <td>27.5</td>\n",
       "      <td>19.5</td>\n",
       "      <td>16.5</td>\n",
       "      <td>21.75</td>\n",
       "      <td>27.0</td>\n",
       "      <td>40.6</td>\n",
       "      <td>17.6</td>\n",
       "    </tr>\n",
       "    <tr>\n",
       "      <th>2</th>\n",
       "      <td>2018-01-01 08:00:00+00:00</td>\n",
       "      <td>21234.65</td>\n",
       "      <td>14265.94</td>\n",
       "      <td>4675.70</td>\n",
       "      <td>10559.50</td>\n",
       "      <td>50735.79</td>\n",
       "      <td>27.243333</td>\n",
       "      <td>15913.714280</td>\n",
       "      <td>60.310699</td>\n",
       "      <td>5111.566488</td>\n",
       "      <td>...</td>\n",
       "      <td>25177.212640</td>\n",
       "      <td>2.239718</td>\n",
       "      <td>37.3</td>\n",
       "      <td>25.5</td>\n",
       "      <td>19.5</td>\n",
       "      <td>16.0</td>\n",
       "      <td>21.25</td>\n",
       "      <td>27.0</td>\n",
       "      <td>39.2</td>\n",
       "      <td>17.6</td>\n",
       "    </tr>\n",
       "    <tr>\n",
       "      <th>3</th>\n",
       "      <td>2018-01-01 09:00:00+00:00</td>\n",
       "      <td>21365.95</td>\n",
       "      <td>14360.66</td>\n",
       "      <td>4673.38</td>\n",
       "      <td>10608.76</td>\n",
       "      <td>51008.76</td>\n",
       "      <td>27.770000</td>\n",
       "      <td>15932.358134</td>\n",
       "      <td>60.369606</td>\n",
       "      <td>5109.763895</td>\n",
       "      <td>...</td>\n",
       "      <td>25678.390661</td>\n",
       "      <td>1.608887</td>\n",
       "      <td>36.8</td>\n",
       "      <td>25.0</td>\n",
       "      <td>19.0</td>\n",
       "      <td>15.5</td>\n",
       "      <td>20.25</td>\n",
       "      <td>26.5</td>\n",
       "      <td>38.2</td>\n",
       "      <td>17.0</td>\n",
       "    </tr>\n",
       "    <tr>\n",
       "      <th>4</th>\n",
       "      <td>2018-01-01 10:00:00+00:00</td>\n",
       "      <td>21691.43</td>\n",
       "      <td>14516.28</td>\n",
       "      <td>4698.25</td>\n",
       "      <td>10793.93</td>\n",
       "      <td>51699.89</td>\n",
       "      <td>28.697500</td>\n",
       "      <td>15904.127241</td>\n",
       "      <td>60.309479</td>\n",
       "      <td>5110.438986</td>\n",
       "      <td>...</td>\n",
       "      <td>26451.298419</td>\n",
       "      <td>1.757122</td>\n",
       "      <td>35.0</td>\n",
       "      <td>24.0</td>\n",
       "      <td>18.5</td>\n",
       "      <td>14.5</td>\n",
       "      <td>19.00</td>\n",
       "      <td>26.5</td>\n",
       "      <td>36.8</td>\n",
       "      <td>16.6</td>\n",
       "    </tr>\n",
       "  </tbody>\n",
       "</table>\n",
       "<p>5 rows × 23 columns</p>\n",
       "</div>"
      ]
     },
     "execution_count": 15,
     "metadata": {},
     "output_type": "execute_result"
    }
   ],
   "execution_count": 15
  },
  {
   "cell_type": "code",
   "source": [
    "# First, convert to datetime (if not already)\n",
    "#all_hourly_data['interval_start_utc'] = pd.to_datetime(all_hourly_data['interval_start_utc'])\n",
    "\n",
    "all_hourly_data['interval_start_local'] = all_hourly_data['interval_start_utc'].dt.tz_convert('America/Chicago')\n",
    "\n",
    "# Extract date and hour\n",
    "all_hourly_data['date'] = all_hourly_data['interval_start_local'].dt.date\n",
    "all_hourly_data['hour'] = all_hourly_data['interval_start_local'].dt.hour"
   ],
   "metadata": {
    "id": "78ZYryEfkyFN",
    "ExecuteTime": {
     "end_time": "2025-04-13T20:31:06.447641Z",
     "start_time": "2025-04-13T20:30:57.158688Z"
    }
   },
   "outputs": [],
   "execution_count": 16
  },
  {
   "cell_type": "code",
   "source": [
    "all_hourly_data = all_hourly_data.drop(columns=['interval_start_utc'])"
   ],
   "metadata": {
    "id": "8SEW5plisYyr",
    "ExecuteTime": {
     "end_time": "2025-04-13T20:31:06.561193Z",
     "start_time": "2025-04-13T20:31:06.533317Z"
    }
   },
   "outputs": [],
   "execution_count": 17
  },
  {
   "cell_type": "code",
   "source": [
    "cols = ['interval_start_local', 'date', 'hour'] + [col for col in all_hourly_data.columns if col not in ['interval_start_local', 'date', 'hour']]\n",
    "all_hourly_data = all_hourly_data[cols]"
   ],
   "metadata": {
    "id": "j6TLGR7Psltc",
    "ExecuteTime": {
     "end_time": "2025-04-13T20:31:06.988779Z",
     "start_time": "2025-04-13T20:31:06.949784Z"
    }
   },
   "outputs": [],
   "execution_count": 18
  },
  {
   "cell_type": "code",
   "source": [
    "all_hourly_data.head()"
   ],
   "metadata": {
    "colab": {
     "base_uri": "https://localhost:8080/",
     "height": 342
    },
    "id": "bET6OtNsqHFQ",
    "outputId": "8980d48f-c6cc-46e2-be98-ded1b051a979",
    "ExecuteTime": {
     "end_time": "2025-04-13T20:31:07.381015Z",
     "start_time": "2025-04-13T20:31:07.317661Z"
    }
   },
   "outputs": [
    {
     "data": {
      "text/plain": [
       "       interval_start_local        date  hour   north_x     south   west_x  \\\n",
       "0 2018-01-01 00:00:00-06:00  2018-01-01     0  21198.80  14046.47  4759.33   \n",
       "1 2018-01-01 01:00:00-06:00  2018-01-01     1  21176.60  14176.73  4722.19   \n",
       "2 2018-01-01 02:00:00-06:00  2018-01-01     2  21234.65  14265.94  4675.70   \n",
       "3 2018-01-01 03:00:00-06:00  2018-01-01     3  21365.95  14360.66  4673.38   \n",
       "4 2018-01-01 04:00:00-06:00  2018-01-01     4  21691.43  14516.28  4698.25   \n",
       "\n",
       "    houston     total        lmp  coal_and_lignite  ...   natural_gas  \\\n",
       "0  10584.52  50589.13  27.285833      15806.625503  ...  25122.230913   \n",
       "1  10569.91  50645.44  27.427500      15903.987676  ...  25351.367821   \n",
       "2  10559.50  50735.79  27.243333      15913.714280  ...  25177.212640   \n",
       "3  10608.76  51008.76  27.770000      15932.358134  ...  25678.390661   \n",
       "4  10793.93  51699.89  28.697500      15904.127241  ...  26451.298419   \n",
       "\n",
       "      other  coast  east  far_west  north_y  north_central  south_central  \\\n",
       "0  2.103656   39.4  28.5      20.0     17.5          22.75           27.5   \n",
       "1  1.712454   38.3  27.5      19.5     16.5          21.75           27.0   \n",
       "2  2.239718   37.3  25.5      19.5     16.0          21.25           27.0   \n",
       "3  1.608887   36.8  25.0      19.0     15.5          20.25           26.5   \n",
       "4  1.757122   35.0  24.0      18.5     14.5          19.00           26.5   \n",
       "\n",
       "   southern  west_y  \n",
       "0      42.2    18.2  \n",
       "1      40.6    17.6  \n",
       "2      39.2    17.6  \n",
       "3      38.2    17.0  \n",
       "4      36.8    16.6  \n",
       "\n",
       "[5 rows x 25 columns]"
      ],
      "text/html": [
       "<div>\n",
       "<style scoped>\n",
       "    .dataframe tbody tr th:only-of-type {\n",
       "        vertical-align: middle;\n",
       "    }\n",
       "\n",
       "    .dataframe tbody tr th {\n",
       "        vertical-align: top;\n",
       "    }\n",
       "\n",
       "    .dataframe thead th {\n",
       "        text-align: right;\n",
       "    }\n",
       "</style>\n",
       "<table border=\"1\" class=\"dataframe\">\n",
       "  <thead>\n",
       "    <tr style=\"text-align: right;\">\n",
       "      <th></th>\n",
       "      <th>interval_start_local</th>\n",
       "      <th>date</th>\n",
       "      <th>hour</th>\n",
       "      <th>north_x</th>\n",
       "      <th>south</th>\n",
       "      <th>west_x</th>\n",
       "      <th>houston</th>\n",
       "      <th>total</th>\n",
       "      <th>lmp</th>\n",
       "      <th>coal_and_lignite</th>\n",
       "      <th>...</th>\n",
       "      <th>natural_gas</th>\n",
       "      <th>other</th>\n",
       "      <th>coast</th>\n",
       "      <th>east</th>\n",
       "      <th>far_west</th>\n",
       "      <th>north_y</th>\n",
       "      <th>north_central</th>\n",
       "      <th>south_central</th>\n",
       "      <th>southern</th>\n",
       "      <th>west_y</th>\n",
       "    </tr>\n",
       "  </thead>\n",
       "  <tbody>\n",
       "    <tr>\n",
       "      <th>0</th>\n",
       "      <td>2018-01-01 00:00:00-06:00</td>\n",
       "      <td>2018-01-01</td>\n",
       "      <td>0</td>\n",
       "      <td>21198.80</td>\n",
       "      <td>14046.47</td>\n",
       "      <td>4759.33</td>\n",
       "      <td>10584.52</td>\n",
       "      <td>50589.13</td>\n",
       "      <td>27.285833</td>\n",
       "      <td>15806.625503</td>\n",
       "      <td>...</td>\n",
       "      <td>25122.230913</td>\n",
       "      <td>2.103656</td>\n",
       "      <td>39.4</td>\n",
       "      <td>28.5</td>\n",
       "      <td>20.0</td>\n",
       "      <td>17.5</td>\n",
       "      <td>22.75</td>\n",
       "      <td>27.5</td>\n",
       "      <td>42.2</td>\n",
       "      <td>18.2</td>\n",
       "    </tr>\n",
       "    <tr>\n",
       "      <th>1</th>\n",
       "      <td>2018-01-01 01:00:00-06:00</td>\n",
       "      <td>2018-01-01</td>\n",
       "      <td>1</td>\n",
       "      <td>21176.60</td>\n",
       "      <td>14176.73</td>\n",
       "      <td>4722.19</td>\n",
       "      <td>10569.91</td>\n",
       "      <td>50645.44</td>\n",
       "      <td>27.427500</td>\n",
       "      <td>15903.987676</td>\n",
       "      <td>...</td>\n",
       "      <td>25351.367821</td>\n",
       "      <td>1.712454</td>\n",
       "      <td>38.3</td>\n",
       "      <td>27.5</td>\n",
       "      <td>19.5</td>\n",
       "      <td>16.5</td>\n",
       "      <td>21.75</td>\n",
       "      <td>27.0</td>\n",
       "      <td>40.6</td>\n",
       "      <td>17.6</td>\n",
       "    </tr>\n",
       "    <tr>\n",
       "      <th>2</th>\n",
       "      <td>2018-01-01 02:00:00-06:00</td>\n",
       "      <td>2018-01-01</td>\n",
       "      <td>2</td>\n",
       "      <td>21234.65</td>\n",
       "      <td>14265.94</td>\n",
       "      <td>4675.70</td>\n",
       "      <td>10559.50</td>\n",
       "      <td>50735.79</td>\n",
       "      <td>27.243333</td>\n",
       "      <td>15913.714280</td>\n",
       "      <td>...</td>\n",
       "      <td>25177.212640</td>\n",
       "      <td>2.239718</td>\n",
       "      <td>37.3</td>\n",
       "      <td>25.5</td>\n",
       "      <td>19.5</td>\n",
       "      <td>16.0</td>\n",
       "      <td>21.25</td>\n",
       "      <td>27.0</td>\n",
       "      <td>39.2</td>\n",
       "      <td>17.6</td>\n",
       "    </tr>\n",
       "    <tr>\n",
       "      <th>3</th>\n",
       "      <td>2018-01-01 03:00:00-06:00</td>\n",
       "      <td>2018-01-01</td>\n",
       "      <td>3</td>\n",
       "      <td>21365.95</td>\n",
       "      <td>14360.66</td>\n",
       "      <td>4673.38</td>\n",
       "      <td>10608.76</td>\n",
       "      <td>51008.76</td>\n",
       "      <td>27.770000</td>\n",
       "      <td>15932.358134</td>\n",
       "      <td>...</td>\n",
       "      <td>25678.390661</td>\n",
       "      <td>1.608887</td>\n",
       "      <td>36.8</td>\n",
       "      <td>25.0</td>\n",
       "      <td>19.0</td>\n",
       "      <td>15.5</td>\n",
       "      <td>20.25</td>\n",
       "      <td>26.5</td>\n",
       "      <td>38.2</td>\n",
       "      <td>17.0</td>\n",
       "    </tr>\n",
       "    <tr>\n",
       "      <th>4</th>\n",
       "      <td>2018-01-01 04:00:00-06:00</td>\n",
       "      <td>2018-01-01</td>\n",
       "      <td>4</td>\n",
       "      <td>21691.43</td>\n",
       "      <td>14516.28</td>\n",
       "      <td>4698.25</td>\n",
       "      <td>10793.93</td>\n",
       "      <td>51699.89</td>\n",
       "      <td>28.697500</td>\n",
       "      <td>15904.127241</td>\n",
       "      <td>...</td>\n",
       "      <td>26451.298419</td>\n",
       "      <td>1.757122</td>\n",
       "      <td>35.0</td>\n",
       "      <td>24.0</td>\n",
       "      <td>18.5</td>\n",
       "      <td>14.5</td>\n",
       "      <td>19.00</td>\n",
       "      <td>26.5</td>\n",
       "      <td>36.8</td>\n",
       "      <td>16.6</td>\n",
       "    </tr>\n",
       "  </tbody>\n",
       "</table>\n",
       "<p>5 rows × 25 columns</p>\n",
       "</div>"
      ]
     },
     "execution_count": 19,
     "metadata": {},
     "output_type": "execute_result"
    }
   ],
   "execution_count": 19
  },
  {
   "cell_type": "code",
   "source": "# all_hourly_data.to_csv('all_hourly_data.csv', index = False)",
   "metadata": {
    "id": "LTgchr7TssFd",
    "ExecuteTime": {
     "end_time": "2025-04-13T20:31:10.946281Z",
     "start_time": "2025-04-13T20:31:08.211510Z"
    }
   },
   "outputs": [
    {
     "ename": "PermissionError",
     "evalue": "[Errno 13] Permission denied: 'all_hourly_data.csv'",
     "output_type": "error",
     "traceback": [
      "\u001B[1;31m---------------------------------------------------------------------------\u001B[0m",
      "\u001B[1;31mPermissionError\u001B[0m                           Traceback (most recent call last)",
      "Cell \u001B[1;32mIn[20], line 1\u001B[0m\n\u001B[1;32m----> 1\u001B[0m \u001B[43mall_hourly_data\u001B[49m\u001B[38;5;241;43m.\u001B[39;49m\u001B[43mto_csv\u001B[49m\u001B[43m(\u001B[49m\u001B[38;5;124;43m'\u001B[39;49m\u001B[38;5;124;43mall_hourly_data.csv\u001B[39;49m\u001B[38;5;124;43m'\u001B[39;49m\u001B[43m,\u001B[49m\u001B[43m \u001B[49m\u001B[43mindex\u001B[49m\u001B[43m \u001B[49m\u001B[38;5;241;43m=\u001B[39;49m\u001B[43m \u001B[49m\u001B[38;5;28;43;01mFalse\u001B[39;49;00m\u001B[43m)\u001B[49m\n",
      "File \u001B[1;32mC:\\New Duke\\5. Courses\\STA 663\\CS 61A\\CS61A\\venv\\lib\\site-packages\\pandas\\util\\_decorators.py:333\u001B[0m, in \u001B[0;36mdeprecate_nonkeyword_arguments.<locals>.decorate.<locals>.wrapper\u001B[1;34m(*args, **kwargs)\u001B[0m\n\u001B[0;32m    327\u001B[0m \u001B[38;5;28;01mif\u001B[39;00m \u001B[38;5;28mlen\u001B[39m(args) \u001B[38;5;241m>\u001B[39m num_allow_args:\n\u001B[0;32m    328\u001B[0m     warnings\u001B[38;5;241m.\u001B[39mwarn(\n\u001B[0;32m    329\u001B[0m         msg\u001B[38;5;241m.\u001B[39mformat(arguments\u001B[38;5;241m=\u001B[39m_format_argument_list(allow_args)),\n\u001B[0;32m    330\u001B[0m         \u001B[38;5;167;01mFutureWarning\u001B[39;00m,\n\u001B[0;32m    331\u001B[0m         stacklevel\u001B[38;5;241m=\u001B[39mfind_stack_level(),\n\u001B[0;32m    332\u001B[0m     )\n\u001B[1;32m--> 333\u001B[0m \u001B[38;5;28;01mreturn\u001B[39;00m func(\u001B[38;5;241m*\u001B[39margs, \u001B[38;5;241m*\u001B[39m\u001B[38;5;241m*\u001B[39mkwargs)\n",
      "File \u001B[1;32mC:\\New Duke\\5. Courses\\STA 663\\CS 61A\\CS61A\\venv\\lib\\site-packages\\pandas\\core\\generic.py:3967\u001B[0m, in \u001B[0;36mNDFrame.to_csv\u001B[1;34m(self, path_or_buf, sep, na_rep, float_format, columns, header, index, index_label, mode, encoding, compression, quoting, quotechar, lineterminator, chunksize, date_format, doublequote, escapechar, decimal, errors, storage_options)\u001B[0m\n\u001B[0;32m   3956\u001B[0m df \u001B[38;5;241m=\u001B[39m \u001B[38;5;28mself\u001B[39m \u001B[38;5;28;01mif\u001B[39;00m \u001B[38;5;28misinstance\u001B[39m(\u001B[38;5;28mself\u001B[39m, ABCDataFrame) \u001B[38;5;28;01melse\u001B[39;00m \u001B[38;5;28mself\u001B[39m\u001B[38;5;241m.\u001B[39mto_frame()\n\u001B[0;32m   3958\u001B[0m formatter \u001B[38;5;241m=\u001B[39m DataFrameFormatter(\n\u001B[0;32m   3959\u001B[0m     frame\u001B[38;5;241m=\u001B[39mdf,\n\u001B[0;32m   3960\u001B[0m     header\u001B[38;5;241m=\u001B[39mheader,\n\u001B[1;32m   (...)\u001B[0m\n\u001B[0;32m   3964\u001B[0m     decimal\u001B[38;5;241m=\u001B[39mdecimal,\n\u001B[0;32m   3965\u001B[0m )\n\u001B[1;32m-> 3967\u001B[0m \u001B[38;5;28;01mreturn\u001B[39;00m \u001B[43mDataFrameRenderer\u001B[49m\u001B[43m(\u001B[49m\u001B[43mformatter\u001B[49m\u001B[43m)\u001B[49m\u001B[38;5;241;43m.\u001B[39;49m\u001B[43mto_csv\u001B[49m\u001B[43m(\u001B[49m\n\u001B[0;32m   3968\u001B[0m \u001B[43m    \u001B[49m\u001B[43mpath_or_buf\u001B[49m\u001B[43m,\u001B[49m\n\u001B[0;32m   3969\u001B[0m \u001B[43m    \u001B[49m\u001B[43mlineterminator\u001B[49m\u001B[38;5;241;43m=\u001B[39;49m\u001B[43mlineterminator\u001B[49m\u001B[43m,\u001B[49m\n\u001B[0;32m   3970\u001B[0m \u001B[43m    \u001B[49m\u001B[43msep\u001B[49m\u001B[38;5;241;43m=\u001B[39;49m\u001B[43msep\u001B[49m\u001B[43m,\u001B[49m\n\u001B[0;32m   3971\u001B[0m \u001B[43m    \u001B[49m\u001B[43mencoding\u001B[49m\u001B[38;5;241;43m=\u001B[39;49m\u001B[43mencoding\u001B[49m\u001B[43m,\u001B[49m\n\u001B[0;32m   3972\u001B[0m \u001B[43m    \u001B[49m\u001B[43merrors\u001B[49m\u001B[38;5;241;43m=\u001B[39;49m\u001B[43merrors\u001B[49m\u001B[43m,\u001B[49m\n\u001B[0;32m   3973\u001B[0m \u001B[43m    \u001B[49m\u001B[43mcompression\u001B[49m\u001B[38;5;241;43m=\u001B[39;49m\u001B[43mcompression\u001B[49m\u001B[43m,\u001B[49m\n\u001B[0;32m   3974\u001B[0m \u001B[43m    \u001B[49m\u001B[43mquoting\u001B[49m\u001B[38;5;241;43m=\u001B[39;49m\u001B[43mquoting\u001B[49m\u001B[43m,\u001B[49m\n\u001B[0;32m   3975\u001B[0m \u001B[43m    \u001B[49m\u001B[43mcolumns\u001B[49m\u001B[38;5;241;43m=\u001B[39;49m\u001B[43mcolumns\u001B[49m\u001B[43m,\u001B[49m\n\u001B[0;32m   3976\u001B[0m \u001B[43m    \u001B[49m\u001B[43mindex_label\u001B[49m\u001B[38;5;241;43m=\u001B[39;49m\u001B[43mindex_label\u001B[49m\u001B[43m,\u001B[49m\n\u001B[0;32m   3977\u001B[0m \u001B[43m    \u001B[49m\u001B[43mmode\u001B[49m\u001B[38;5;241;43m=\u001B[39;49m\u001B[43mmode\u001B[49m\u001B[43m,\u001B[49m\n\u001B[0;32m   3978\u001B[0m \u001B[43m    \u001B[49m\u001B[43mchunksize\u001B[49m\u001B[38;5;241;43m=\u001B[39;49m\u001B[43mchunksize\u001B[49m\u001B[43m,\u001B[49m\n\u001B[0;32m   3979\u001B[0m \u001B[43m    \u001B[49m\u001B[43mquotechar\u001B[49m\u001B[38;5;241;43m=\u001B[39;49m\u001B[43mquotechar\u001B[49m\u001B[43m,\u001B[49m\n\u001B[0;32m   3980\u001B[0m \u001B[43m    \u001B[49m\u001B[43mdate_format\u001B[49m\u001B[38;5;241;43m=\u001B[39;49m\u001B[43mdate_format\u001B[49m\u001B[43m,\u001B[49m\n\u001B[0;32m   3981\u001B[0m \u001B[43m    \u001B[49m\u001B[43mdoublequote\u001B[49m\u001B[38;5;241;43m=\u001B[39;49m\u001B[43mdoublequote\u001B[49m\u001B[43m,\u001B[49m\n\u001B[0;32m   3982\u001B[0m \u001B[43m    \u001B[49m\u001B[43mescapechar\u001B[49m\u001B[38;5;241;43m=\u001B[39;49m\u001B[43mescapechar\u001B[49m\u001B[43m,\u001B[49m\n\u001B[0;32m   3983\u001B[0m \u001B[43m    \u001B[49m\u001B[43mstorage_options\u001B[49m\u001B[38;5;241;43m=\u001B[39;49m\u001B[43mstorage_options\u001B[49m\u001B[43m,\u001B[49m\n\u001B[0;32m   3984\u001B[0m \u001B[43m\u001B[49m\u001B[43m)\u001B[49m\n",
      "File \u001B[1;32mC:\\New Duke\\5. Courses\\STA 663\\CS 61A\\CS61A\\venv\\lib\\site-packages\\pandas\\io\\formats\\format.py:1014\u001B[0m, in \u001B[0;36mDataFrameRenderer.to_csv\u001B[1;34m(self, path_or_buf, encoding, sep, columns, index_label, mode, compression, quoting, quotechar, lineterminator, chunksize, date_format, doublequote, escapechar, errors, storage_options)\u001B[0m\n\u001B[0;32m    993\u001B[0m     created_buffer \u001B[38;5;241m=\u001B[39m \u001B[38;5;28;01mFalse\u001B[39;00m\n\u001B[0;32m    995\u001B[0m csv_formatter \u001B[38;5;241m=\u001B[39m CSVFormatter(\n\u001B[0;32m    996\u001B[0m     path_or_buf\u001B[38;5;241m=\u001B[39mpath_or_buf,\n\u001B[0;32m    997\u001B[0m     lineterminator\u001B[38;5;241m=\u001B[39mlineterminator,\n\u001B[1;32m   (...)\u001B[0m\n\u001B[0;32m   1012\u001B[0m     formatter\u001B[38;5;241m=\u001B[39m\u001B[38;5;28mself\u001B[39m\u001B[38;5;241m.\u001B[39mfmt,\n\u001B[0;32m   1013\u001B[0m )\n\u001B[1;32m-> 1014\u001B[0m \u001B[43mcsv_formatter\u001B[49m\u001B[38;5;241;43m.\u001B[39;49m\u001B[43msave\u001B[49m\u001B[43m(\u001B[49m\u001B[43m)\u001B[49m\n\u001B[0;32m   1016\u001B[0m \u001B[38;5;28;01mif\u001B[39;00m created_buffer:\n\u001B[0;32m   1017\u001B[0m     \u001B[38;5;28;01massert\u001B[39;00m \u001B[38;5;28misinstance\u001B[39m(path_or_buf, StringIO)\n",
      "File \u001B[1;32mC:\\New Duke\\5. Courses\\STA 663\\CS 61A\\CS61A\\venv\\lib\\site-packages\\pandas\\io\\formats\\csvs.py:251\u001B[0m, in \u001B[0;36mCSVFormatter.save\u001B[1;34m(self)\u001B[0m\n\u001B[0;32m    247\u001B[0m \u001B[38;5;250m\u001B[39m\u001B[38;5;124;03m\"\"\"\u001B[39;00m\n\u001B[0;32m    248\u001B[0m \u001B[38;5;124;03mCreate the writer & save.\u001B[39;00m\n\u001B[0;32m    249\u001B[0m \u001B[38;5;124;03m\"\"\"\u001B[39;00m\n\u001B[0;32m    250\u001B[0m \u001B[38;5;66;03m# apply compression and byte/text conversion\u001B[39;00m\n\u001B[1;32m--> 251\u001B[0m \u001B[38;5;28;01mwith\u001B[39;00m \u001B[43mget_handle\u001B[49m\u001B[43m(\u001B[49m\n\u001B[0;32m    252\u001B[0m \u001B[43m    \u001B[49m\u001B[38;5;28;43mself\u001B[39;49m\u001B[38;5;241;43m.\u001B[39;49m\u001B[43mfilepath_or_buffer\u001B[49m\u001B[43m,\u001B[49m\n\u001B[0;32m    253\u001B[0m \u001B[43m    \u001B[49m\u001B[38;5;28;43mself\u001B[39;49m\u001B[38;5;241;43m.\u001B[39;49m\u001B[43mmode\u001B[49m\u001B[43m,\u001B[49m\n\u001B[0;32m    254\u001B[0m \u001B[43m    \u001B[49m\u001B[43mencoding\u001B[49m\u001B[38;5;241;43m=\u001B[39;49m\u001B[38;5;28;43mself\u001B[39;49m\u001B[38;5;241;43m.\u001B[39;49m\u001B[43mencoding\u001B[49m\u001B[43m,\u001B[49m\n\u001B[0;32m    255\u001B[0m \u001B[43m    \u001B[49m\u001B[43merrors\u001B[49m\u001B[38;5;241;43m=\u001B[39;49m\u001B[38;5;28;43mself\u001B[39;49m\u001B[38;5;241;43m.\u001B[39;49m\u001B[43merrors\u001B[49m\u001B[43m,\u001B[49m\n\u001B[0;32m    256\u001B[0m \u001B[43m    \u001B[49m\u001B[43mcompression\u001B[49m\u001B[38;5;241;43m=\u001B[39;49m\u001B[38;5;28;43mself\u001B[39;49m\u001B[38;5;241;43m.\u001B[39;49m\u001B[43mcompression\u001B[49m\u001B[43m,\u001B[49m\n\u001B[0;32m    257\u001B[0m \u001B[43m    \u001B[49m\u001B[43mstorage_options\u001B[49m\u001B[38;5;241;43m=\u001B[39;49m\u001B[38;5;28;43mself\u001B[39;49m\u001B[38;5;241;43m.\u001B[39;49m\u001B[43mstorage_options\u001B[49m\u001B[43m,\u001B[49m\n\u001B[0;32m    258\u001B[0m \u001B[43m\u001B[49m\u001B[43m)\u001B[49m \u001B[38;5;28;01mas\u001B[39;00m handles:\n\u001B[0;32m    259\u001B[0m     \u001B[38;5;66;03m# Note: self.encoding is irrelevant here\u001B[39;00m\n\u001B[0;32m    260\u001B[0m     \u001B[38;5;28mself\u001B[39m\u001B[38;5;241m.\u001B[39mwriter \u001B[38;5;241m=\u001B[39m csvlib\u001B[38;5;241m.\u001B[39mwriter(\n\u001B[0;32m    261\u001B[0m         handles\u001B[38;5;241m.\u001B[39mhandle,\n\u001B[0;32m    262\u001B[0m         lineterminator\u001B[38;5;241m=\u001B[39m\u001B[38;5;28mself\u001B[39m\u001B[38;5;241m.\u001B[39mlineterminator,\n\u001B[1;32m   (...)\u001B[0m\n\u001B[0;32m    267\u001B[0m         quotechar\u001B[38;5;241m=\u001B[39m\u001B[38;5;28mself\u001B[39m\u001B[38;5;241m.\u001B[39mquotechar,\n\u001B[0;32m    268\u001B[0m     )\n\u001B[0;32m    270\u001B[0m     \u001B[38;5;28mself\u001B[39m\u001B[38;5;241m.\u001B[39m_save()\n",
      "File \u001B[1;32mC:\\New Duke\\5. Courses\\STA 663\\CS 61A\\CS61A\\venv\\lib\\site-packages\\pandas\\io\\common.py:873\u001B[0m, in \u001B[0;36mget_handle\u001B[1;34m(path_or_buf, mode, encoding, compression, memory_map, is_text, errors, storage_options)\u001B[0m\n\u001B[0;32m    868\u001B[0m \u001B[38;5;28;01melif\u001B[39;00m \u001B[38;5;28misinstance\u001B[39m(handle, \u001B[38;5;28mstr\u001B[39m):\n\u001B[0;32m    869\u001B[0m     \u001B[38;5;66;03m# Check whether the filename is to be opened in binary mode.\u001B[39;00m\n\u001B[0;32m    870\u001B[0m     \u001B[38;5;66;03m# Binary mode does not support 'encoding' and 'newline'.\u001B[39;00m\n\u001B[0;32m    871\u001B[0m     \u001B[38;5;28;01mif\u001B[39;00m ioargs\u001B[38;5;241m.\u001B[39mencoding \u001B[38;5;129;01mand\u001B[39;00m \u001B[38;5;124m\"\u001B[39m\u001B[38;5;124mb\u001B[39m\u001B[38;5;124m\"\u001B[39m \u001B[38;5;129;01mnot\u001B[39;00m \u001B[38;5;129;01min\u001B[39;00m ioargs\u001B[38;5;241m.\u001B[39mmode:\n\u001B[0;32m    872\u001B[0m         \u001B[38;5;66;03m# Encoding\u001B[39;00m\n\u001B[1;32m--> 873\u001B[0m         handle \u001B[38;5;241m=\u001B[39m \u001B[38;5;28;43mopen\u001B[39;49m\u001B[43m(\u001B[49m\n\u001B[0;32m    874\u001B[0m \u001B[43m            \u001B[49m\u001B[43mhandle\u001B[49m\u001B[43m,\u001B[49m\n\u001B[0;32m    875\u001B[0m \u001B[43m            \u001B[49m\u001B[43mioargs\u001B[49m\u001B[38;5;241;43m.\u001B[39;49m\u001B[43mmode\u001B[49m\u001B[43m,\u001B[49m\n\u001B[0;32m    876\u001B[0m \u001B[43m            \u001B[49m\u001B[43mencoding\u001B[49m\u001B[38;5;241;43m=\u001B[39;49m\u001B[43mioargs\u001B[49m\u001B[38;5;241;43m.\u001B[39;49m\u001B[43mencoding\u001B[49m\u001B[43m,\u001B[49m\n\u001B[0;32m    877\u001B[0m \u001B[43m            \u001B[49m\u001B[43merrors\u001B[49m\u001B[38;5;241;43m=\u001B[39;49m\u001B[43merrors\u001B[49m\u001B[43m,\u001B[49m\n\u001B[0;32m    878\u001B[0m \u001B[43m            \u001B[49m\u001B[43mnewline\u001B[49m\u001B[38;5;241;43m=\u001B[39;49m\u001B[38;5;124;43m\"\u001B[39;49m\u001B[38;5;124;43m\"\u001B[39;49m\u001B[43m,\u001B[49m\n\u001B[0;32m    879\u001B[0m \u001B[43m        \u001B[49m\u001B[43m)\u001B[49m\n\u001B[0;32m    880\u001B[0m     \u001B[38;5;28;01melse\u001B[39;00m:\n\u001B[0;32m    881\u001B[0m         \u001B[38;5;66;03m# Binary mode\u001B[39;00m\n\u001B[0;32m    882\u001B[0m         handle \u001B[38;5;241m=\u001B[39m \u001B[38;5;28mopen\u001B[39m(handle, ioargs\u001B[38;5;241m.\u001B[39mmode)\n",
      "\u001B[1;31mPermissionError\u001B[0m: [Errno 13] Permission denied: 'all_hourly_data.csv'"
     ]
    }
   ],
   "execution_count": 20
  },
  {
   "metadata": {},
   "cell_type": "markdown",
   "source": "# 2. EDA"
  },
  {
   "metadata": {
    "ExecuteTime": {
     "end_time": "2025-04-13T20:46:18.624541Z",
     "start_time": "2025-04-13T20:45:57.177296Z"
    }
   },
   "cell_type": "code",
   "source": [
    "import pandas as pd\n",
    "import xgboost as xgb\n",
    "import matplotlib.pyplot as plt\n",
    "from sklearn.model_selection import train_test_split\n",
    "\n",
    "# 读取数据\n",
    "df = pd.read_csv('all_hourly_data.csv')\n",
    "\n",
    "# 删除时间戳\n",
    "df = df.drop(columns=['interval_start_local', 'date'])\n",
    "\n",
    "# 划分特征和标签\n",
    "X = df.drop(columns=['lmp_HB_BUSAVG'])\n",
    "y = df['lmp_HB_BUSAVG']\n",
    "\n",
    "# 划分训练集和测试集\n",
    "X_train, X_test, y_train, y_test = train_test_split(X, y, test_size=0.2, random_state=42)\n",
    "\n",
    "# 训练模型\n",
    "model = xgb.XGBRegressor(objective='reg:squarederror', n_estimators=100)\n",
    "model.fit(X_train, y_train)\n",
    "\n",
    "# 画 feature importance\n",
    "xgb.plot_importance(model, importance_type='gain', max_num_features=20, height=0.5)\n",
    "plt.title(\"Feature Importance (XGBoost Gain)\")\n",
    "plt.show()\n"
   ],
   "outputs": [
    {
     "data": {
      "text/plain": [
       "<Figure size 640x480 with 1 Axes>"
      ],
      "image/png": "[encoded data removed]"
     },
     "metadata": {},
     "output_type": "display_data"
    }
   ],
   "execution_count": 21
  }
 ]
}
